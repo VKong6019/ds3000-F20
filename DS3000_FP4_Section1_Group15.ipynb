{
  "nbformat": 4,
  "nbformat_minor": 0,
  "metadata": {
    "kernelspec": {
      "display_name": "Python 3",
      "language": "python",
      "name": "python3"
    },
    "language_info": {
      "codemirror_mode": {
        "name": "ipython",
        "version": 3
      },
      "file_extension": ".py",
      "mimetype": "text/x-python",
      "name": "python",
      "nbconvert_exporter": "python",
      "pygments_lexer": "ipython3",
      "version": "3.8.3"
    },
    "colab": {
      "name": "DS3000_FP4_Section1_Group15.ipynb",
      "provenance": [],
      "collapsed_sections": []
    }
  },
  "cells": [
    {
      "cell_type": "markdown",
      "metadata": {
        "id": "2-NMNslv-vh-"
      },
      "source": [
        "<center> <h2> DS 3000 - Fall 2020</h2> </center>\n",
        "<center> <h3> Final Report </h3> </center>\n",
        "<center><h3>Professor Caglar Yildirim</h3></center>\n"
      ]
    },
    {
      "cell_type": "markdown",
      "metadata": {
        "id": "f4RBza9B-vh-"
      },
      "source": [
        "<center> <h2>An Analysis of how Bikesharing Data is Affected by Weather and Time</h2></center>\n",
        "<center><h4>Nicole Danuwidjaja, Vera Kong</h4></center>\n"
      ]
    },
    {
      "cell_type": "markdown",
      "metadata": {
        "id": "22LQ5tQg-vh-"
      },
      "source": [
        "<hr style=\"height:2px; border:none; color:black; background-color:black;\">"
      ]
    },
    {
      "cell_type": "markdown",
      "metadata": {
        "id": "F7MBc38N-vh-"
      },
      "source": [
        "#### Executive Summary:\n",
        "\n",
        "Cities are faced with an increase in usage of bike-sharing programs as such technology is becoming readily available. Bike programs provide more people the opportunity to ride a bike, along with providing health and environmental benefits. To best understand how these programs can be best improved for maintenance and accessibility, this project will analyze the relationships between ride-sharer behavior and the weather, particularly in the city of Boston and their Bluebikes program.\n",
        "\n",
        "This research project will identify the main feature variables and target variables from datasets pulled from the public Bluebikes data as well as from Boston weather. The datasets are wrangled and cleaned in order to perform data analysis. The project uses a predictive model using machine learning techniques to apply algorithms on the cleaned datasets.\n",
        "\n",
        "Through this research project, we have identified that there is a strong direct correlation with the number of bikesharers and weather.\n",
        "\n"
      ]
    },
    {
      "cell_type": "markdown",
      "metadata": {
        "id": "ELo66B56-vh-"
      },
      "source": [
        "<hr style=\"height:2px; border:none; color:black; background-color:black;\">"
      ]
    },
    {
      "cell_type": "markdown",
      "metadata": {
        "id": "kHVeERAc-vh-"
      },
      "source": [
        "## Outline\n",
        "1. <a href='#1'>INTRODUCTION</a>\n",
        "2. <a href='#2'>METHOD</a>\n",
        "3. <a href='#3'>RESULTS</a>\n",
        "4. <a href='#4'>DISCUSSION</a>"
      ]
    },
    {
      "cell_type": "markdown",
      "metadata": {
        "id": "wtIFHI6N-vh-"
      },
      "source": [
        "<a id=\"1\"></a>\n",
        "<hr style=\"height:2px; border:none; color:black; background-color:black;\">"
      ]
    },
    {
      "cell_type": "markdown",
      "metadata": {
        "id": "JqvIXmao-vh-"
      },
      "source": [
        "## 1. INTRODUCTION"
      ]
    },
    {
      "cell_type": "markdown",
      "metadata": {
        "id": "7AeeUGMj-vh-"
      },
      "source": [
        "### 1.1 Problem Statement\n",
        "The primary goal of this project is to determine the number of bike-share users on any given day at a specific hour. Bike-sharing programs worldwide have seen a significant increase in the number of bicycles used across numerous cities, with the number of participants varying based on certain conditions (e.x. time of day, weather, or holiday). Since this usage may vary city by city, we want to try to focus on a single city, like Boston and its BlueBikes program. In this project, we will analyze bicycle data from bike-sharing programs to visualize the trip frequency, duration, types of users, and popular areas of interest. We hope to learn more about how bike-sharing programs can impact city infrastructure and safety for pedestrians and cyclists. Furthermore, we aim to utilize a supervised learning approach along with a few machine learning algorithms to better understand the correlation between time/weather conditions and bike-sharing usage."
      ]
    },
    {
      "cell_type": "markdown",
      "metadata": {
        "id": "H_JtKe6jymwf"
      },
      "source": [
        "\r\n",
        "### 1.2 Significance\r\n",
        "Since bike-sharing programs have been shown to reduce carbon footprint and greenhouse emissions in cities, it is important to determine how we can improve this trend and efficiently manage the bike-sharing system. For example, by analyzing the data relating to the number of bike-share users, we can also determine when maintenance for certain stations should be scheduled. We aim to use this data to tackle areas of improvement with current bike-sharing programs.\r\n",
        "\r\n",
        "By the end of this project, we hope to successfully understand the correlations between times of high or low bicycle usage and how to better improve this system such as analyzing how to properly allocate supply for demand or how to improve road safety to prevent bicycle crashes. This project could also try to predict and help match the demand for these bikes at certain stations since there are times when a station is frequently starved or infrequently used.\r\n",
        "\r\n",
        "Previous work on environmental benefits have cited the positive impacts that bike-sharing programs can have on big cities, such as Beijing, China, as well as how interactions can be influenced by the new nature of public shared transportation. We hope to find out more about what other factors can influence the behavior of ride-sharers in order to improve the programs.\r\n",
        "\r\n",
        "**Articles:** \r\n",
        "https://www.researchgate.net/publication/324259384_Environmental_benefits_of_bike_sharing_A_big_data-based_analysis\r\n"
      ]
    },
    {
      "cell_type": "markdown",
      "metadata": {
        "id": "M2jUEChQyqXJ"
      },
      "source": [
        "\r\n",
        "\r\n",
        "### 1.3 Questions\r\n",
        "\r\n",
        "- Can we determine the likelihood of a bike-sharing user using a bike at a particular moment in time?\r\n",
        "- What are the busiest/emptiest times to rent a bike in Boston?\r\n",
        "- What is the most common duration of time of bike usage?\r\n",
        "- How do weather conditions affect bike-sharing usage in Boston?\r\n",
        "- Using the data provided, can we determine areas of interest/disinterest in Boston for certain times, weather conditions, or seasons?\r\n",
        "- How closely correlated are feature variables of bike-sharing users, such as the duration of their trip, and how does this affect the number of bikesharing users?\r\n",
        "- How can we best determine how to predict areas of low/high bicycle usage?"
      ]
    },
    {
      "cell_type": "markdown",
      "metadata": {
        "id": "eN-vPHBcytai"
      },
      "source": [
        "### 1.4 Hypotheses\r\n",
        "\r\n",
        "**Correlation with weather and higher numbers of bike-sharing users**\\\r\n",
        "Bike-sharing users prefer to bike during seasons where Boston weather is clear and warm (above 50 degrees Fahrenheit) such as Summer and Autumn. Therefore, these seasons will experience higher usage of bikesharing at a given point in time per station.\r\n",
        "\r\n",
        "**Effect of adding weather features to regression model**\\\r\n",
        "Adding weather features to our regression models, such as humidity, wind, and temperature, will affect the accuracy of the models.\r\n",
        "\r\n",
        "**ML Algorithm Hypothesis**\\\r\n",
        "The Multiple Linear Regression algorithm will perform the best out of the other regression algorithms in predicting with multiple bike features, excluding weather features."
      ]
    },
    {
      "cell_type": "markdown",
      "metadata": {
        "id": "d721-rcQ-vh_"
      },
      "source": [
        "<a id=\"2\"></a>\n",
        "<hr style=\"height:2px; border:none; color:black; background-color:black;\">"
      ]
    },
    {
      "cell_type": "markdown",
      "metadata": {
        "id": "mfoYrkvS-vh_"
      },
      "source": [
        "## 2. METHOD"
      ]
    },
    {
      "cell_type": "markdown",
      "metadata": {
        "id": "rmOK-xRc-vh_"
      },
      "source": [
        "### 2.1. Data Acquisition"
      ]
    },
    {
      "cell_type": "code",
      "metadata": {
        "id": "TSIDQzsE-vh_",
        "colab": {
          "base_uri": "https://localhost:8080/",
          "height": 202
        },
        "outputId": "cf837154-dbb3-4d81-fada-151e9345f39a"
      },
      "source": [
        "import pandas as pd\n",
        "\n",
        "# retrieve the bike dataset from github (without weather feature)\n",
        "bike_url = 'https://raw.githubusercontent.com/VKong6019/ds3000-F20/main/bike-dataset-v2.csv'\n",
        "bike_df_without_weather = pd.read_csv(bike_url, error_bad_lines=False)\n",
        "bike_df_without_weather.head()"
      ],
      "execution_count": null,
      "outputs": [
        {
          "output_type": "execute_result",
          "data": {
            "text/html": [
              "<div>\n",
              "<style scoped>\n",
              "    .dataframe tbody tr th:only-of-type {\n",
              "        vertical-align: middle;\n",
              "    }\n",
              "\n",
              "    .dataframe tbody tr th {\n",
              "        vertical-align: top;\n",
              "    }\n",
              "\n",
              "    .dataframe thead th {\n",
              "        text-align: right;\n",
              "    }\n",
              "</style>\n",
              "<table border=\"1\" class=\"dataframe\">\n",
              "  <thead>\n",
              "    <tr style=\"text-align: right;\">\n",
              "      <th></th>\n",
              "      <th>date</th>\n",
              "      <th>hour</th>\n",
              "      <th>customer</th>\n",
              "      <th>subscriber</th>\n",
              "      <th>trip_duration_mean</th>\n",
              "      <th>trip_duration_std</th>\n",
              "      <th>month</th>\n",
              "      <th>season</th>\n",
              "      <th>weekday</th>\n",
              "      <th>workday</th>\n",
              "      <th>total</th>\n",
              "    </tr>\n",
              "  </thead>\n",
              "  <tbody>\n",
              "    <tr>\n",
              "      <th>0</th>\n",
              "      <td>1/1/2020</td>\n",
              "      <td>0</td>\n",
              "      <td>29</td>\n",
              "      <td>48</td>\n",
              "      <td>2841.57</td>\n",
              "      <td>16514.14</td>\n",
              "      <td>1</td>\n",
              "      <td>winter</td>\n",
              "      <td>2</td>\n",
              "      <td>1</td>\n",
              "      <td>77</td>\n",
              "    </tr>\n",
              "    <tr>\n",
              "      <th>1</th>\n",
              "      <td>1/1/2020</td>\n",
              "      <td>1</td>\n",
              "      <td>46</td>\n",
              "      <td>65</td>\n",
              "      <td>2692.32</td>\n",
              "      <td>19994.93</td>\n",
              "      <td>1</td>\n",
              "      <td>winter</td>\n",
              "      <td>2</td>\n",
              "      <td>1</td>\n",
              "      <td>111</td>\n",
              "    </tr>\n",
              "    <tr>\n",
              "      <th>2</th>\n",
              "      <td>1/1/2020</td>\n",
              "      <td>2</td>\n",
              "      <td>23</td>\n",
              "      <td>13</td>\n",
              "      <td>16587.78</td>\n",
              "      <td>94260.92</td>\n",
              "      <td>1</td>\n",
              "      <td>winter</td>\n",
              "      <td>2</td>\n",
              "      <td>1</td>\n",
              "      <td>36</td>\n",
              "    </tr>\n",
              "    <tr>\n",
              "      <th>3</th>\n",
              "      <td>1/1/2020</td>\n",
              "      <td>3</td>\n",
              "      <td>2</td>\n",
              "      <td>7</td>\n",
              "      <td>890.56</td>\n",
              "      <td>420.50</td>\n",
              "      <td>1</td>\n",
              "      <td>winter</td>\n",
              "      <td>2</td>\n",
              "      <td>1</td>\n",
              "      <td>9</td>\n",
              "    </tr>\n",
              "    <tr>\n",
              "      <th>4</th>\n",
              "      <td>1/1/2020</td>\n",
              "      <td>4</td>\n",
              "      <td>1</td>\n",
              "      <td>0</td>\n",
              "      <td>114218.00</td>\n",
              "      <td>0.00</td>\n",
              "      <td>1</td>\n",
              "      <td>winter</td>\n",
              "      <td>2</td>\n",
              "      <td>1</td>\n",
              "      <td>1</td>\n",
              "    </tr>\n",
              "  </tbody>\n",
              "</table>\n",
              "</div>"
            ],
            "text/plain": [
              "       date  hour  customer  subscriber  ...  season  weekday  workday total\n",
              "0  1/1/2020     0        29          48  ...  winter        2        1    77\n",
              "1  1/1/2020     1        46          65  ...  winter        2        1   111\n",
              "2  1/1/2020     2        23          13  ...  winter        2        1    36\n",
              "3  1/1/2020     3         2           7  ...  winter        2        1     9\n",
              "4  1/1/2020     4         1           0  ...  winter        2        1     1\n",
              "\n",
              "[5 rows x 11 columns]"
            ]
          },
          "metadata": {
            "tags": []
          },
          "execution_count": 4
        }
      ]
    },
    {
      "cell_type": "code",
      "metadata": {
        "id": "RFREzGvW-viB",
        "colab": {
          "base_uri": "https://localhost:8080/",
          "height": 254
        },
        "outputId": "d0189e6f-1066-4dfc-9df2-8f67a8f57ac5"
      },
      "source": [
        "# retrieve weather features dataset from github \n",
        "weather_url = 'https://raw.githubusercontent.com/VKong6019/ds3000-F20/main/weather-v2.csv'\n",
        "weather_df = pd.read_csv(weather_url, error_bad_lines=False)\n",
        "weather_df.head()"
      ],
      "execution_count": null,
      "outputs": [
        {
          "output_type": "execute_result",
          "data": {
            "text/html": [
              "<div>\n",
              "<style scoped>\n",
              "    .dataframe tbody tr th:only-of-type {\n",
              "        vertical-align: middle;\n",
              "    }\n",
              "\n",
              "    .dataframe tbody tr th {\n",
              "        vertical-align: top;\n",
              "    }\n",
              "\n",
              "    .dataframe thead th {\n",
              "        text-align: right;\n",
              "    }\n",
              "</style>\n",
              "<table border=\"1\" class=\"dataframe\">\n",
              "  <thead>\n",
              "    <tr style=\"text-align: right;\">\n",
              "      <th></th>\n",
              "      <th>Date</th>\n",
              "      <th>Temperature Max (°F)</th>\n",
              "      <th>Temperature Avg (°F)</th>\n",
              "      <th>Temperature Min (°F)</th>\n",
              "      <th>Dew Point Max (°F)</th>\n",
              "      <th>Dew Point Avg (°F)</th>\n",
              "      <th>Dew Point Min (°F)</th>\n",
              "      <th>Humidity Max (%)</th>\n",
              "      <th>Humidity Avg (%)</th>\n",
              "      <th>Humidity Min (%)</th>\n",
              "      <th>Wind Speed Max (mph)</th>\n",
              "      <th>Wind Speed Avg (mph)</th>\n",
              "      <th>Wind Speed Min (mph)</th>\n",
              "      <th>Pressure Max (Hg)</th>\n",
              "      <th>Pressure Avg (Hg)</th>\n",
              "      <th>Pressure Min (Hg)</th>\n",
              "      <th>Precipitation Total (in)</th>\n",
              "    </tr>\n",
              "  </thead>\n",
              "  <tbody>\n",
              "    <tr>\n",
              "      <th>0</th>\n",
              "      <td>1/1/20</td>\n",
              "      <td>42</td>\n",
              "      <td>38.9</td>\n",
              "      <td>36</td>\n",
              "      <td>32.0</td>\n",
              "      <td>23.8</td>\n",
              "      <td>20</td>\n",
              "      <td>73.0</td>\n",
              "      <td>55.0</td>\n",
              "      <td>47</td>\n",
              "      <td>21</td>\n",
              "      <td>15.5</td>\n",
              "      <td>9.0</td>\n",
              "      <td>29.8</td>\n",
              "      <td>29.6</td>\n",
              "      <td>29.5</td>\n",
              "      <td>0.04</td>\n",
              "    </tr>\n",
              "    <tr>\n",
              "      <th>1</th>\n",
              "      <td>1/2/20</td>\n",
              "      <td>48</td>\n",
              "      <td>40.8</td>\n",
              "      <td>34</td>\n",
              "      <td>31.0</td>\n",
              "      <td>23.9</td>\n",
              "      <td>20</td>\n",
              "      <td>59.0</td>\n",
              "      <td>51.8</td>\n",
              "      <td>34</td>\n",
              "      <td>18</td>\n",
              "      <td>12.6</td>\n",
              "      <td>7.0</td>\n",
              "      <td>29.9</td>\n",
              "      <td>29.8</td>\n",
              "      <td>29.8</td>\n",
              "      <td>0.00</td>\n",
              "    </tr>\n",
              "    <tr>\n",
              "      <th>2</th>\n",
              "      <td>1/3/20</td>\n",
              "      <td>51</td>\n",
              "      <td>48.1</td>\n",
              "      <td>44</td>\n",
              "      <td>36.0</td>\n",
              "      <td>33.3</td>\n",
              "      <td>31</td>\n",
              "      <td>63.0</td>\n",
              "      <td>56.6</td>\n",
              "      <td>48</td>\n",
              "      <td>12</td>\n",
              "      <td>7.2</td>\n",
              "      <td>0.0</td>\n",
              "      <td>29.8</td>\n",
              "      <td>29.8</td>\n",
              "      <td>29.7</td>\n",
              "      <td>0.00</td>\n",
              "    </tr>\n",
              "    <tr>\n",
              "      <th>3</th>\n",
              "      <td>1/4/20</td>\n",
              "      <td>48</td>\n",
              "      <td>44.8</td>\n",
              "      <td>40</td>\n",
              "      <td>42.0</td>\n",
              "      <td>38.8</td>\n",
              "      <td>35</td>\n",
              "      <td>90.0</td>\n",
              "      <td>79.6</td>\n",
              "      <td>63</td>\n",
              "      <td>13</td>\n",
              "      <td>5.7</td>\n",
              "      <td>0.0</td>\n",
              "      <td>29.8</td>\n",
              "      <td>29.6</td>\n",
              "      <td>29.4</td>\n",
              "      <td>0.00</td>\n",
              "    </tr>\n",
              "    <tr>\n",
              "      <th>4</th>\n",
              "      <td>1/5/20</td>\n",
              "      <td>40</td>\n",
              "      <td>37.0</td>\n",
              "      <td>32</td>\n",
              "      <td>34.0</td>\n",
              "      <td>24.2</td>\n",
              "      <td>16</td>\n",
              "      <td>83.0</td>\n",
              "      <td>61.5</td>\n",
              "      <td>45</td>\n",
              "      <td>26</td>\n",
              "      <td>16.6</td>\n",
              "      <td>8.0</td>\n",
              "      <td>29.9</td>\n",
              "      <td>29.6</td>\n",
              "      <td>29.4</td>\n",
              "      <td>0.24</td>\n",
              "    </tr>\n",
              "  </tbody>\n",
              "</table>\n",
              "</div>"
            ],
            "text/plain": [
              "     Date  Temperature Max (°F)  ...  Pressure Min (Hg)  Precipitation Total (in)\n",
              "0  1/1/20                    42  ...               29.5                      0.04\n",
              "1  1/2/20                    48  ...               29.8                      0.00\n",
              "2  1/3/20                    51  ...               29.7                      0.00\n",
              "3  1/4/20                    48  ...               29.4                      0.00\n",
              "4  1/5/20                    40  ...               29.4                      0.24\n",
              "\n",
              "[5 rows x 17 columns]"
            ]
          },
          "metadata": {
            "tags": []
          },
          "execution_count": 5
        }
      ]
    },
    {
      "cell_type": "markdown",
      "metadata": {
        "id": "2ZdeHweN-viC"
      },
      "source": [
        "#### Bike Data\n",
        "Source: https://www.bluebikes.com/system-data, https://s3.amazonaws.com/hubway-data/index.html \\\n",
        "We retrieved a majority of `bike_df_without_weather` from the official *Bluebikes* site, specifically their system data of bike trip histories. The dataset comprises nine months of trip data from Janurary 2020 to September 2020 since September was the most recent released dataset at the beginning of this project. A directory of the monthly trip data can be found in *Bluebikes* Amazon bucket.\\\n",
        "The datasets contains information of each individual bike trip that occurred in the month relating to trip duration, time, usertype (customer vs subscriber), and station id/name. Our dataset contains features only relating to trip duration, time, and usertype. We derived various features from these to add more context for each trip, such as the season or whether the trip occurred on a workday. The process of creating and cleaning the bike dataset can be found further on in the Data Wrangling section."
      ]
    },
    {
      "cell_type": "markdown",
      "metadata": {
        "id": "64fTA4oBd7zb"
      },
      "source": [
        "\r\n",
        "#### Weather Data\r\n",
        "Source: https://www.wunderground.com/history/monthly/us/ma/boston/KBOS/date/2020-1 \\\r\n",
        "For our weather data, we retrieved the data from *Weather Underground*'s site for each month from January 2020 to September 2020 to match the timeline of our bike data. We decided to choose this site as the basis of our weather data because it was able to provide a dataframe-like data to export. The dataset contains information about the daily temperature, humidity, and wind speed to name a few. The original dataset contained the max, avg, and min of each category, but we took only the avg since we believed it would better fit the model later on.\r\n",
        "\r\n",
        "Note: these datasets are geographically based in Boston since most if not all bikesharing programs are usually in cities. And, we can use Boston as an example city of to demonstrate the correlations between time/weather and number of bikeshare users."
      ]
    },
    {
      "cell_type": "markdown",
      "metadata": {
        "id": "aXb-6w_2-viC"
      },
      "source": [
        "#### Bike Data Feature Description\n",
        "\n",
        "- **date**: the date of which the bike trips took place in MMDDYYYY format\n",
        "- **hour**: the hour in which the bike trips took place in the range 0-23\n",
        "- **customer**:\tthe count of how many users were customers\n",
        "- **subscriber**: the counts of how many users were Bluebike subscribers\n",
        "- **trip_duration_mean**: the avg trip duration of the bike trips that occurred in the day\n",
        "- **trip_duration_std**: the standard deviation of the bike trips that occurred in the day\n",
        "- **month**: the month of which the bike trips took place in the range 1-12\n",
        "- **season**: the season the bike trips took place that were either fall, summer, spring, or winter\n",
        "- **weekday**: the day of the week in the range 0-6, where 0 is Monday and 6 is Sunday\n",
        "- **workday**: a boolean value determining whether the day was a workday or not (1 is true, 0 is otherwise)\n",
        "- **total**: the total count of bike-sharing users, derived from the sum of customer and suscriber\n",
        "\n",
        "**Summary**: The dataset was condensed and simplified into groups of bike trips by the date and hour feature. The bike trips were summed and divided into either the customer or subscriber category. Their duration were also averaged to take into account the length of a standard trip on a given day and time. We chose to use data and hour to group the individual bike trips to gain a better scope of the data throughout the day.\n",
        "\n",
        "**Count:** the bike dataset has a size of 6549 rows × 11 columns"
      ]
    },
    {
      "cell_type": "markdown",
      "metadata": {
        "id": "RY216DnEeBAE"
      },
      "source": [
        "#### Weather Data Feature Description\r\n",
        "\r\n",
        "We'll be using each category's avg since it will sufficient to use that over min and max\r\n",
        "\r\n",
        "- **avg_temp**: the avergae temperature of the day derived from `Temperature Avg (°F)` in fahrenheit\r\n",
        "- **avg_dew_point**: the average dew point of the day derived from `Dew Point Avg (°F)` in fahrenheit\r\n",
        "- **avg_hum**: the average humidity levels of the day derived from `Humidity Avg (%)` in percent\r\n",
        "- **avg_wind_spd**: the average wind speed of the day derived from `Wind Speed Avg (mph)` in miles per hour\r\n",
        "- **avg_press**: the average pressure of the day derived from `Pressure Avg (Hg)` in hectograms\r\n",
        "- **total_prec**: the total precipitation of the day derived from `Precipitation Total (in)` in inches\r\n",
        "\r\n",
        "**Summary:** The weather dataset has a plethora of statistics of each category like temperature and humidity. However, we don't necessarily need to use all of them as features, so we picked out the avg of each category to include in our model. These data are ordered by the date they were recorded.\r\n",
        "\r\n",
        "**Count:** the weather dataset has a size of 274 rows × 7 columns"
      ]
    },
    {
      "cell_type": "markdown",
      "metadata": {
        "id": "WjyqsrXm-viC"
      },
      "source": [
        "### 2.2. Data Analysis"
      ]
    },
    {
      "cell_type": "markdown",
      "metadata": {
        "id": "cEF3kDe7-viC"
      },
      "source": [
        "#### Independent Variables by feature name\n",
        "- date\n",
        "- hour\t\n",
        "- customer\t\n",
        "- subscriber\t\n",
        "- trip_duration_mean\t\n",
        "- trip_duration_std\t\n",
        "- month\t\n",
        "- season\t\n",
        "- weekday\t\n",
        "- workday\n",
        "- avg_temp\n",
        "- avg_dew_point\t\n",
        "- avg_hum\t\n",
        "- avg_wind_spd\t\n",
        "- avg_press\t\n",
        "- total_prec"
      ]
    },
    {
      "cell_type": "markdown",
      "metadata": {
        "id": "yIpvpBO_eHrP"
      },
      "source": [
        "#### Dependent Variable by feature name\r\n",
        "- total"
      ]
    },
    {
      "cell_type": "markdown",
      "metadata": {
        "id": "z6g8dcd7-viC"
      },
      "source": [
        "#### Predictive Model\n",
        "The predictive model will determine the total number of bikeshare users on a given day at a specific hour. This will also be based on the time of year, day of week, and weather since those are key factors in swaying users to participate in a bike-sharing program. \n",
        "\n",
        "We believe that for the purposes of this report, the data provided from bike-sharing users as well as Boston weather will help provide interesting insights into how these factors can affect the number of people who use bikes."
      ]
    },
    {
      "cell_type": "markdown",
      "metadata": {
        "id": "me7c-jkaeQ6E"
      },
      "source": [
        "#### Supervised ML Problem\r\n",
        "Our problem is a supervised ML problem because we are creating a model and feeding it with datasets that we have processed. Importantly, these datasets are labeled data that are crucial to supervised learning. This is also a regression problem since the target available is not necessary a classification problem, but rather a continuous variable."
      ]
    },
    {
      "cell_type": "markdown",
      "metadata": {
        "id": "LFEbK6s_eY8O"
      },
      "source": [
        "#### Machine Learning Algorithms\r\n",
        "We will use the Multiple Linear, Ridge, Lasso, and Support Vector Machine regression models since those are the popular regression algorithms used and based on previous performance/accuracy. Moreover, our model will contain multiple features that will contribute to the predictive output, so it is important that we at least include the Multiple Linear Regression in our findings. \r\n",
        "\r\n",
        "To add context, Multiple Linear Regression involves determining a linear relationship between multiple independent variables and a quantitative dependent variable. For this problem, the total bike riders is the dependent variable with multiple features affecting it: weather, time, and user type.\r\n",
        "\r\n",
        "Comparably, the Ridge and Lasso Regression adds penalties to our regression function to regularize our large dataset and avoid overfitting as much as possible. The Ridge Regression performs the L1 regularization that involves the square of the magnitude of the coefficients, whereas the Lasso Regression performs the L2 regularization that involves the absolute value of the magnitude of the coefficients. Then, including both of these regression algorithms will add insight in regularizing our data and model for the best fit.\r\n",
        "\r\n",
        "Furthermore, the Support Vector Machine (SVM) regression will add a classfication perspective to our dataset. That will minimize the error rate of our regression to a certain threshold. In which case, the best fitted line will be the line hyperplane that contains the maximum number of points, giving us a better fitting model.\r\n"
      ]
    },
    {
      "cell_type": "markdown",
      "metadata": {
        "id": "zYFRN-lu-viC"
      },
      "source": [
        "<a id=\"3\"></a>\n",
        "<hr style=\"height:2px; border:none; color:black; background-color:black;\">"
      ]
    },
    {
      "cell_type": "markdown",
      "metadata": {
        "id": "gPpKeua9-viC"
      },
      "source": [
        "## 3. RESULTS"
      ]
    },
    {
      "cell_type": "markdown",
      "metadata": {
        "id": "gglOoqWn-viC"
      },
      "source": [
        "### 3.1. Data Wrangling\n"
      ]
    },
    {
      "cell_type": "markdown",
      "metadata": {
        "id": "L5McKOXV-viC"
      },
      "source": [
        "#### Data Cleaning and Wrangling"
      ]
    },
    {
      "cell_type": "code",
      "metadata": {
        "id": "1ee3TVeI-viC"
      },
      "source": [
        "import datetime as dt\n",
        "\n",
        "# this was the process of taking each bike dataset from each month and deriving a few other features,\n",
        "# while removing unneccessary columns that were not going to be used in our model\n",
        "# this also included a few simple cleaning steps since there were data with NA values, values with left 0s, and unformatted \n",
        "# values with many decimal points\n",
        "\n",
        "# determines the season given the month\n",
        "def determine_season(month):\n",
        "    if month in [9,10,11]:\n",
        "        return 'fall'\n",
        "    elif month in [12,1,2]:\n",
        "        return 'winter'\n",
        "    elif month in [3,4,5]:\n",
        "        return 'spring'\n",
        "    else:\n",
        "        # in my opinion, the best season\n",
        "        return 'summer'\n",
        "\n",
        "bike_months = []\n",
        "for i in range(1,10):\n",
        "    df = pd.read_csv('https://raw.githubusercontent.com/VKong6019/ds3000-F20/main/0' + str(i) + '-2020.csv')\n",
        "    # create a new df to contain the unique dates\n",
        "    cleaned_df = df['date'].drop_duplicates().to_frame().reset_index().drop(columns=['index'])\n",
        "    # add a new column using the hour of the start time of a trip\n",
        "    df['hour'] = df['start_time'].apply(lambda x : int(x[0:2]))\n",
        "\n",
        "    # creating columns for usertypes customer and suscriber with the total user count\n",
        "    usertype = df.groupby(by=['date', 'hour'])['usertype'].value_counts().to_frame().unstack(level='usertype')\n",
        "    usertype.reset_index(inplace=True)\n",
        "    usertype.columns = ['date', 'hour', 'customer', 'subscriber']\n",
        "\n",
        "    # create the mean and std columns for the trip duration grouped by date and hour\n",
        "    # then add it onto the previous dataframe to merge with cleaned_df\n",
        "    trip_stat = df.groupby(by=['date', 'hour'])['tripduration'].agg(['mean', 'std'])\n",
        "    trip_stat.reset_index(inplace=True)\n",
        "    usertype['trip_duration_mean'] = trip_stat['mean'].round(2)\n",
        "    usertype['trip_duration_std'] = trip_stat['std'].round(2)\n",
        "    usertype.fillna(0, inplace=True)\n",
        "    \n",
        "    # remove trailing zeroes\n",
        "    usertype['subscriber'] = usertype['subscriber'].apply(lambda x : int(format(x, '.0f')))\n",
        "    usertype['customer'] = usertype['customer'].apply(lambda x : int(format(x, '.0f')))\n",
        "\n",
        "    cleaned_df = cleaned_df.merge(usertype, how='inner', left_on='date', right_on='date')\n",
        "    # month column for the month of the year\n",
        "    cleaned_df['month'] = cleaned_df['date'].apply(lambda x : int(x[5:7]))\n",
        "    # season column that is one of winter, fall, spring, and summer\n",
        "    cleaned_df['season'] = cleaned_df['month'].apply(lambda x : determine_season(x))\n",
        "    # a weekday column for the day of the week: monday-sunday (0-6)\n",
        "    cleaned_df['weekday'] = cleaned_df['date'].apply(lambda x : dt.date(int(x[0:4]), int(x[5:7]), int(x[8:])).weekday())\n",
        "    # workday column to check if the day is a part of the weekday or weekend (1 or 0)\n",
        "    cleaned_df['workday'] = cleaned_df['weekday'].apply(lambda x : 0 if x > 4 else 1)\n",
        "    # get the total bike user column and remove the trailing zeroes\n",
        "    cleaned_df['total'] = (cleaned_df['customer'] + cleaned_df['subscriber']).apply(lambda x : int(format(x, '.0f')))\n",
        "    \n",
        "    # add this month's dataset onto the array for concatention later\n",
        "    bike_months.append(cleaned_df)\n",
        "\n",
        "bike_df = pd.concat(bike_months, ignore_index=True)\n",
        "\n",
        "# convert date column into numerical value by removing dashes\n",
        "bike_df['date'] = bike_df['date'].apply(lambda x : int(x.replace('-','')))"
      ],
      "execution_count": null,
      "outputs": []
    },
    {
      "cell_type": "code",
      "metadata": {
        "scrolled": true,
        "colab": {
          "base_uri": "https://localhost:8080/",
          "height": 415
        },
        "id": "P-Nr3o_--viC",
        "outputId": "cd49b6af-d058-4c1b-f698-75e14e9278d1"
      },
      "source": [
        "# note: the date column below is formatted slightly differently than before that the csv/github reformatted\n",
        "bike_df"
      ],
      "execution_count": null,
      "outputs": [
        {
          "output_type": "execute_result",
          "data": {
            "text/html": [
              "<div>\n",
              "<style scoped>\n",
              "    .dataframe tbody tr th:only-of-type {\n",
              "        vertical-align: middle;\n",
              "    }\n",
              "\n",
              "    .dataframe tbody tr th {\n",
              "        vertical-align: top;\n",
              "    }\n",
              "\n",
              "    .dataframe thead th {\n",
              "        text-align: right;\n",
              "    }\n",
              "</style>\n",
              "<table border=\"1\" class=\"dataframe\">\n",
              "  <thead>\n",
              "    <tr style=\"text-align: right;\">\n",
              "      <th></th>\n",
              "      <th>date</th>\n",
              "      <th>hour</th>\n",
              "      <th>customer</th>\n",
              "      <th>subscriber</th>\n",
              "      <th>trip_duration_mean</th>\n",
              "      <th>trip_duration_std</th>\n",
              "      <th>month</th>\n",
              "      <th>season</th>\n",
              "      <th>weekday</th>\n",
              "      <th>workday</th>\n",
              "      <th>total</th>\n",
              "    </tr>\n",
              "  </thead>\n",
              "  <tbody>\n",
              "    <tr>\n",
              "      <th>0</th>\n",
              "      <td>20200101</td>\n",
              "      <td>0</td>\n",
              "      <td>29</td>\n",
              "      <td>48</td>\n",
              "      <td>2841.57</td>\n",
              "      <td>16514.14</td>\n",
              "      <td>1</td>\n",
              "      <td>winter</td>\n",
              "      <td>2</td>\n",
              "      <td>1</td>\n",
              "      <td>77</td>\n",
              "    </tr>\n",
              "    <tr>\n",
              "      <th>1</th>\n",
              "      <td>20200101</td>\n",
              "      <td>1</td>\n",
              "      <td>46</td>\n",
              "      <td>65</td>\n",
              "      <td>2692.32</td>\n",
              "      <td>19994.93</td>\n",
              "      <td>1</td>\n",
              "      <td>winter</td>\n",
              "      <td>2</td>\n",
              "      <td>1</td>\n",
              "      <td>111</td>\n",
              "    </tr>\n",
              "    <tr>\n",
              "      <th>2</th>\n",
              "      <td>20200101</td>\n",
              "      <td>2</td>\n",
              "      <td>23</td>\n",
              "      <td>13</td>\n",
              "      <td>16587.78</td>\n",
              "      <td>94260.92</td>\n",
              "      <td>1</td>\n",
              "      <td>winter</td>\n",
              "      <td>2</td>\n",
              "      <td>1</td>\n",
              "      <td>36</td>\n",
              "    </tr>\n",
              "    <tr>\n",
              "      <th>3</th>\n",
              "      <td>20200101</td>\n",
              "      <td>3</td>\n",
              "      <td>2</td>\n",
              "      <td>7</td>\n",
              "      <td>890.56</td>\n",
              "      <td>420.50</td>\n",
              "      <td>1</td>\n",
              "      <td>winter</td>\n",
              "      <td>2</td>\n",
              "      <td>1</td>\n",
              "      <td>9</td>\n",
              "    </tr>\n",
              "    <tr>\n",
              "      <th>4</th>\n",
              "      <td>20200101</td>\n",
              "      <td>4</td>\n",
              "      <td>1</td>\n",
              "      <td>0</td>\n",
              "      <td>114218.00</td>\n",
              "      <td>0.00</td>\n",
              "      <td>1</td>\n",
              "      <td>winter</td>\n",
              "      <td>2</td>\n",
              "      <td>1</td>\n",
              "      <td>1</td>\n",
              "    </tr>\n",
              "    <tr>\n",
              "      <th>...</th>\n",
              "      <td>...</td>\n",
              "      <td>...</td>\n",
              "      <td>...</td>\n",
              "      <td>...</td>\n",
              "      <td>...</td>\n",
              "      <td>...</td>\n",
              "      <td>...</td>\n",
              "      <td>...</td>\n",
              "      <td>...</td>\n",
              "      <td>...</td>\n",
              "      <td>...</td>\n",
              "    </tr>\n",
              "    <tr>\n",
              "      <th>6544</th>\n",
              "      <td>20200930</td>\n",
              "      <td>19</td>\n",
              "      <td>141</td>\n",
              "      <td>512</td>\n",
              "      <td>1028.88</td>\n",
              "      <td>2281.26</td>\n",
              "      <td>9</td>\n",
              "      <td>fall</td>\n",
              "      <td>2</td>\n",
              "      <td>1</td>\n",
              "      <td>653</td>\n",
              "    </tr>\n",
              "    <tr>\n",
              "      <th>6545</th>\n",
              "      <td>20200930</td>\n",
              "      <td>20</td>\n",
              "      <td>89</td>\n",
              "      <td>299</td>\n",
              "      <td>964.61</td>\n",
              "      <td>1051.87</td>\n",
              "      <td>9</td>\n",
              "      <td>fall</td>\n",
              "      <td>2</td>\n",
              "      <td>1</td>\n",
              "      <td>388</td>\n",
              "    </tr>\n",
              "    <tr>\n",
              "      <th>6546</th>\n",
              "      <td>20200930</td>\n",
              "      <td>21</td>\n",
              "      <td>70</td>\n",
              "      <td>210</td>\n",
              "      <td>1110.58</td>\n",
              "      <td>2867.71</td>\n",
              "      <td>9</td>\n",
              "      <td>fall</td>\n",
              "      <td>2</td>\n",
              "      <td>1</td>\n",
              "      <td>280</td>\n",
              "    </tr>\n",
              "    <tr>\n",
              "      <th>6547</th>\n",
              "      <td>20200930</td>\n",
              "      <td>22</td>\n",
              "      <td>65</td>\n",
              "      <td>168</td>\n",
              "      <td>2218.27</td>\n",
              "      <td>18266.13</td>\n",
              "      <td>9</td>\n",
              "      <td>fall</td>\n",
              "      <td>2</td>\n",
              "      <td>1</td>\n",
              "      <td>233</td>\n",
              "    </tr>\n",
              "    <tr>\n",
              "      <th>6548</th>\n",
              "      <td>20200930</td>\n",
              "      <td>23</td>\n",
              "      <td>52</td>\n",
              "      <td>123</td>\n",
              "      <td>1757.62</td>\n",
              "      <td>6965.15</td>\n",
              "      <td>9</td>\n",
              "      <td>fall</td>\n",
              "      <td>2</td>\n",
              "      <td>1</td>\n",
              "      <td>175</td>\n",
              "    </tr>\n",
              "  </tbody>\n",
              "</table>\n",
              "<p>6549 rows × 11 columns</p>\n",
              "</div>"
            ],
            "text/plain": [
              "          date  hour  customer  subscriber  ...  season  weekday  workday total\n",
              "0     20200101     0        29          48  ...  winter        2        1    77\n",
              "1     20200101     1        46          65  ...  winter        2        1   111\n",
              "2     20200101     2        23          13  ...  winter        2        1    36\n",
              "3     20200101     3         2           7  ...  winter        2        1     9\n",
              "4     20200101     4         1           0  ...  winter        2        1     1\n",
              "...        ...   ...       ...         ...  ...     ...      ...      ...   ...\n",
              "6544  20200930    19       141         512  ...    fall        2        1   653\n",
              "6545  20200930    20        89         299  ...    fall        2        1   388\n",
              "6546  20200930    21        70         210  ...    fall        2        1   280\n",
              "6547  20200930    22        65         168  ...    fall        2        1   233\n",
              "6548  20200930    23        52         123  ...    fall        2        1   175\n",
              "\n",
              "[6549 rows x 11 columns]"
            ]
          },
          "metadata": {
            "tags": []
          },
          "execution_count": 7
        }
      ]
    },
    {
      "cell_type": "code",
      "metadata": {
        "id": "PGNMgQ8r-viC"
      },
      "source": [
        "# cleaning the weather dataset to only include avg of each category since avg should be more than enough to describe each day and catgeory\n",
        "df = pd.read_csv('https://raw.githubusercontent.com/VKong6019/ds3000-F20/main/weather-v2.csv',error_bad_lines=False)\n",
        "df[\"Date\"] = pd.to_datetime(df[\"Date\"]).dt.strftime('%Y-%m-%d')\n",
        "weather = df[[\"Date\", \"Temperature Avg (°F)\", \"Dew Point Avg (°F)\", \"Humidity Avg (%)\", \"Wind Speed Avg (mph)\", \"Pressure Avg (Hg)\", \"Precipitation Total (in)\"]]\n",
        "weather = weather.rename(columns={\"Date\": \"date\", \"Temperature Avg (°F)\": \"avg_temp\", \"Dew Point Avg (°F)\": \"avg_dew_point\", \"Humidity Avg (%)\": \"avg_hum\", \"Wind Speed Avg (mph)\": \"avg_wind_spd\", \"Pressure Avg (Hg)\": \"avg_press\", \"Precipitation Total (in)\": \"total_prec\"})\n",
        "# modify dataset to only contain averages\n",
        "\n",
        "# convert date from string into numerical value\n",
        "weather['date'] = weather['date'].apply(lambda x : int(x.replace('-','')))"
      ],
      "execution_count": null,
      "outputs": []
    },
    {
      "cell_type": "code",
      "metadata": {
        "id": "bt_HRbod-viC",
        "colab": {
          "base_uri": "https://localhost:8080/",
          "height": 415
        },
        "outputId": "dd9fdbdb-b9e2-4c7a-d79a-37966df224ab"
      },
      "source": [
        "weather"
      ],
      "execution_count": null,
      "outputs": [
        {
          "output_type": "execute_result",
          "data": {
            "text/html": [
              "<div>\n",
              "<style scoped>\n",
              "    .dataframe tbody tr th:only-of-type {\n",
              "        vertical-align: middle;\n",
              "    }\n",
              "\n",
              "    .dataframe tbody tr th {\n",
              "        vertical-align: top;\n",
              "    }\n",
              "\n",
              "    .dataframe thead th {\n",
              "        text-align: right;\n",
              "    }\n",
              "</style>\n",
              "<table border=\"1\" class=\"dataframe\">\n",
              "  <thead>\n",
              "    <tr style=\"text-align: right;\">\n",
              "      <th></th>\n",
              "      <th>date</th>\n",
              "      <th>avg_temp</th>\n",
              "      <th>avg_dew_point</th>\n",
              "      <th>avg_hum</th>\n",
              "      <th>avg_wind_spd</th>\n",
              "      <th>avg_press</th>\n",
              "      <th>total_prec</th>\n",
              "    </tr>\n",
              "  </thead>\n",
              "  <tbody>\n",
              "    <tr>\n",
              "      <th>0</th>\n",
              "      <td>20200101</td>\n",
              "      <td>38.9</td>\n",
              "      <td>23.8</td>\n",
              "      <td>55.0</td>\n",
              "      <td>15.5</td>\n",
              "      <td>29.6</td>\n",
              "      <td>0.04</td>\n",
              "    </tr>\n",
              "    <tr>\n",
              "      <th>1</th>\n",
              "      <td>20200102</td>\n",
              "      <td>40.8</td>\n",
              "      <td>23.9</td>\n",
              "      <td>51.8</td>\n",
              "      <td>12.6</td>\n",
              "      <td>29.8</td>\n",
              "      <td>0.00</td>\n",
              "    </tr>\n",
              "    <tr>\n",
              "      <th>2</th>\n",
              "      <td>20200103</td>\n",
              "      <td>48.1</td>\n",
              "      <td>33.3</td>\n",
              "      <td>56.6</td>\n",
              "      <td>7.2</td>\n",
              "      <td>29.8</td>\n",
              "      <td>0.00</td>\n",
              "    </tr>\n",
              "    <tr>\n",
              "      <th>3</th>\n",
              "      <td>20200104</td>\n",
              "      <td>44.8</td>\n",
              "      <td>38.8</td>\n",
              "      <td>79.6</td>\n",
              "      <td>5.7</td>\n",
              "      <td>29.6</td>\n",
              "      <td>0.00</td>\n",
              "    </tr>\n",
              "    <tr>\n",
              "      <th>4</th>\n",
              "      <td>20200105</td>\n",
              "      <td>37.0</td>\n",
              "      <td>24.2</td>\n",
              "      <td>61.5</td>\n",
              "      <td>16.6</td>\n",
              "      <td>29.6</td>\n",
              "      <td>0.24</td>\n",
              "    </tr>\n",
              "    <tr>\n",
              "      <th>...</th>\n",
              "      <td>...</td>\n",
              "      <td>...</td>\n",
              "      <td>...</td>\n",
              "      <td>...</td>\n",
              "      <td>...</td>\n",
              "      <td>...</td>\n",
              "      <td>...</td>\n",
              "    </tr>\n",
              "    <tr>\n",
              "      <th>269</th>\n",
              "      <td>20200926</td>\n",
              "      <td>63.4</td>\n",
              "      <td>58.6</td>\n",
              "      <td>85.4</td>\n",
              "      <td>6.9</td>\n",
              "      <td>30.1</td>\n",
              "      <td>0.00</td>\n",
              "    </tr>\n",
              "    <tr>\n",
              "      <th>270</th>\n",
              "      <td>20200927</td>\n",
              "      <td>69.0</td>\n",
              "      <td>64.4</td>\n",
              "      <td>85.7</td>\n",
              "      <td>7.6</td>\n",
              "      <td>30.0</td>\n",
              "      <td>0.00</td>\n",
              "    </tr>\n",
              "    <tr>\n",
              "      <th>271</th>\n",
              "      <td>20200928</td>\n",
              "      <td>68.8</td>\n",
              "      <td>65.2</td>\n",
              "      <td>88.9</td>\n",
              "      <td>8.6</td>\n",
              "      <td>29.9</td>\n",
              "      <td>0.00</td>\n",
              "    </tr>\n",
              "    <tr>\n",
              "      <th>272</th>\n",
              "      <td>20200929</td>\n",
              "      <td>68.7</td>\n",
              "      <td>62.7</td>\n",
              "      <td>81.7</td>\n",
              "      <td>7.9</td>\n",
              "      <td>29.9</td>\n",
              "      <td>0.05</td>\n",
              "    </tr>\n",
              "    <tr>\n",
              "      <th>273</th>\n",
              "      <td>20200930</td>\n",
              "      <td>69.4</td>\n",
              "      <td>60.0</td>\n",
              "      <td>73.8</td>\n",
              "      <td>18.9</td>\n",
              "      <td>29.6</td>\n",
              "      <td>0.42</td>\n",
              "    </tr>\n",
              "  </tbody>\n",
              "</table>\n",
              "<p>274 rows × 7 columns</p>\n",
              "</div>"
            ],
            "text/plain": [
              "         date  avg_temp  avg_dew_point  ...  avg_wind_spd  avg_press  total_prec\n",
              "0    20200101      38.9           23.8  ...          15.5       29.6        0.04\n",
              "1    20200102      40.8           23.9  ...          12.6       29.8        0.00\n",
              "2    20200103      48.1           33.3  ...           7.2       29.8        0.00\n",
              "3    20200104      44.8           38.8  ...           5.7       29.6        0.00\n",
              "4    20200105      37.0           24.2  ...          16.6       29.6        0.24\n",
              "..        ...       ...            ...  ...           ...        ...         ...\n",
              "269  20200926      63.4           58.6  ...           6.9       30.1        0.00\n",
              "270  20200927      69.0           64.4  ...           7.6       30.0        0.00\n",
              "271  20200928      68.8           65.2  ...           8.6       29.9        0.00\n",
              "272  20200929      68.7           62.7  ...           7.9       29.9        0.05\n",
              "273  20200930      69.4           60.0  ...          18.9       29.6        0.42\n",
              "\n",
              "[274 rows x 7 columns]"
            ]
          },
          "metadata": {
            "tags": []
          },
          "execution_count": 9
        }
      ]
    },
    {
      "cell_type": "markdown",
      "metadata": {
        "id": "WgQk7rNF-viD"
      },
      "source": [
        "#### More Data Wrangling"
      ]
    },
    {
      "cell_type": "code",
      "metadata": {
        "id": "mm77Fpg9-viD"
      },
      "source": [
        "# creates dataframe with weather feature\n",
        "bike_df_with_weather = bike_df.merge(weather, how='inner', left_on='date', right_on='date')"
      ],
      "execution_count": null,
      "outputs": []
    },
    {
      "cell_type": "code",
      "metadata": {
        "id": "toXheiCH-viD",
        "colab": {
          "base_uri": "https://localhost:8080/",
          "height": 435
        },
        "outputId": "cdab13f4-352f-4cc9-fba9-b9a34ec024a1"
      },
      "source": [
        "bike_df_with_weather"
      ],
      "execution_count": null,
      "outputs": [
        {
          "output_type": "execute_result",
          "data": {
            "text/html": [
              "<div>\n",
              "<style scoped>\n",
              "    .dataframe tbody tr th:only-of-type {\n",
              "        vertical-align: middle;\n",
              "    }\n",
              "\n",
              "    .dataframe tbody tr th {\n",
              "        vertical-align: top;\n",
              "    }\n",
              "\n",
              "    .dataframe thead th {\n",
              "        text-align: right;\n",
              "    }\n",
              "</style>\n",
              "<table border=\"1\" class=\"dataframe\">\n",
              "  <thead>\n",
              "    <tr style=\"text-align: right;\">\n",
              "      <th></th>\n",
              "      <th>date</th>\n",
              "      <th>hour</th>\n",
              "      <th>customer</th>\n",
              "      <th>subscriber</th>\n",
              "      <th>trip_duration_mean</th>\n",
              "      <th>trip_duration_std</th>\n",
              "      <th>month</th>\n",
              "      <th>season</th>\n",
              "      <th>weekday</th>\n",
              "      <th>workday</th>\n",
              "      <th>total</th>\n",
              "      <th>avg_temp</th>\n",
              "      <th>avg_dew_point</th>\n",
              "      <th>avg_hum</th>\n",
              "      <th>avg_wind_spd</th>\n",
              "      <th>avg_press</th>\n",
              "      <th>total_prec</th>\n",
              "    </tr>\n",
              "  </thead>\n",
              "  <tbody>\n",
              "    <tr>\n",
              "      <th>0</th>\n",
              "      <td>20200101</td>\n",
              "      <td>0</td>\n",
              "      <td>29</td>\n",
              "      <td>48</td>\n",
              "      <td>2841.57</td>\n",
              "      <td>16514.14</td>\n",
              "      <td>1</td>\n",
              "      <td>winter</td>\n",
              "      <td>2</td>\n",
              "      <td>1</td>\n",
              "      <td>77</td>\n",
              "      <td>38.9</td>\n",
              "      <td>23.8</td>\n",
              "      <td>55.0</td>\n",
              "      <td>15.5</td>\n",
              "      <td>29.6</td>\n",
              "      <td>0.04</td>\n",
              "    </tr>\n",
              "    <tr>\n",
              "      <th>1</th>\n",
              "      <td>20200101</td>\n",
              "      <td>1</td>\n",
              "      <td>46</td>\n",
              "      <td>65</td>\n",
              "      <td>2692.32</td>\n",
              "      <td>19994.93</td>\n",
              "      <td>1</td>\n",
              "      <td>winter</td>\n",
              "      <td>2</td>\n",
              "      <td>1</td>\n",
              "      <td>111</td>\n",
              "      <td>38.9</td>\n",
              "      <td>23.8</td>\n",
              "      <td>55.0</td>\n",
              "      <td>15.5</td>\n",
              "      <td>29.6</td>\n",
              "      <td>0.04</td>\n",
              "    </tr>\n",
              "    <tr>\n",
              "      <th>2</th>\n",
              "      <td>20200101</td>\n",
              "      <td>2</td>\n",
              "      <td>23</td>\n",
              "      <td>13</td>\n",
              "      <td>16587.78</td>\n",
              "      <td>94260.92</td>\n",
              "      <td>1</td>\n",
              "      <td>winter</td>\n",
              "      <td>2</td>\n",
              "      <td>1</td>\n",
              "      <td>36</td>\n",
              "      <td>38.9</td>\n",
              "      <td>23.8</td>\n",
              "      <td>55.0</td>\n",
              "      <td>15.5</td>\n",
              "      <td>29.6</td>\n",
              "      <td>0.04</td>\n",
              "    </tr>\n",
              "    <tr>\n",
              "      <th>3</th>\n",
              "      <td>20200101</td>\n",
              "      <td>3</td>\n",
              "      <td>2</td>\n",
              "      <td>7</td>\n",
              "      <td>890.56</td>\n",
              "      <td>420.50</td>\n",
              "      <td>1</td>\n",
              "      <td>winter</td>\n",
              "      <td>2</td>\n",
              "      <td>1</td>\n",
              "      <td>9</td>\n",
              "      <td>38.9</td>\n",
              "      <td>23.8</td>\n",
              "      <td>55.0</td>\n",
              "      <td>15.5</td>\n",
              "      <td>29.6</td>\n",
              "      <td>0.04</td>\n",
              "    </tr>\n",
              "    <tr>\n",
              "      <th>4</th>\n",
              "      <td>20200101</td>\n",
              "      <td>4</td>\n",
              "      <td>1</td>\n",
              "      <td>0</td>\n",
              "      <td>114218.00</td>\n",
              "      <td>0.00</td>\n",
              "      <td>1</td>\n",
              "      <td>winter</td>\n",
              "      <td>2</td>\n",
              "      <td>1</td>\n",
              "      <td>1</td>\n",
              "      <td>38.9</td>\n",
              "      <td>23.8</td>\n",
              "      <td>55.0</td>\n",
              "      <td>15.5</td>\n",
              "      <td>29.6</td>\n",
              "      <td>0.04</td>\n",
              "    </tr>\n",
              "    <tr>\n",
              "      <th>...</th>\n",
              "      <td>...</td>\n",
              "      <td>...</td>\n",
              "      <td>...</td>\n",
              "      <td>...</td>\n",
              "      <td>...</td>\n",
              "      <td>...</td>\n",
              "      <td>...</td>\n",
              "      <td>...</td>\n",
              "      <td>...</td>\n",
              "      <td>...</td>\n",
              "      <td>...</td>\n",
              "      <td>...</td>\n",
              "      <td>...</td>\n",
              "      <td>...</td>\n",
              "      <td>...</td>\n",
              "      <td>...</td>\n",
              "      <td>...</td>\n",
              "    </tr>\n",
              "    <tr>\n",
              "      <th>6544</th>\n",
              "      <td>20200930</td>\n",
              "      <td>19</td>\n",
              "      <td>141</td>\n",
              "      <td>512</td>\n",
              "      <td>1028.88</td>\n",
              "      <td>2281.26</td>\n",
              "      <td>9</td>\n",
              "      <td>fall</td>\n",
              "      <td>2</td>\n",
              "      <td>1</td>\n",
              "      <td>653</td>\n",
              "      <td>69.4</td>\n",
              "      <td>60.0</td>\n",
              "      <td>73.8</td>\n",
              "      <td>18.9</td>\n",
              "      <td>29.6</td>\n",
              "      <td>0.42</td>\n",
              "    </tr>\n",
              "    <tr>\n",
              "      <th>6545</th>\n",
              "      <td>20200930</td>\n",
              "      <td>20</td>\n",
              "      <td>89</td>\n",
              "      <td>299</td>\n",
              "      <td>964.61</td>\n",
              "      <td>1051.87</td>\n",
              "      <td>9</td>\n",
              "      <td>fall</td>\n",
              "      <td>2</td>\n",
              "      <td>1</td>\n",
              "      <td>388</td>\n",
              "      <td>69.4</td>\n",
              "      <td>60.0</td>\n",
              "      <td>73.8</td>\n",
              "      <td>18.9</td>\n",
              "      <td>29.6</td>\n",
              "      <td>0.42</td>\n",
              "    </tr>\n",
              "    <tr>\n",
              "      <th>6546</th>\n",
              "      <td>20200930</td>\n",
              "      <td>21</td>\n",
              "      <td>70</td>\n",
              "      <td>210</td>\n",
              "      <td>1110.58</td>\n",
              "      <td>2867.71</td>\n",
              "      <td>9</td>\n",
              "      <td>fall</td>\n",
              "      <td>2</td>\n",
              "      <td>1</td>\n",
              "      <td>280</td>\n",
              "      <td>69.4</td>\n",
              "      <td>60.0</td>\n",
              "      <td>73.8</td>\n",
              "      <td>18.9</td>\n",
              "      <td>29.6</td>\n",
              "      <td>0.42</td>\n",
              "    </tr>\n",
              "    <tr>\n",
              "      <th>6547</th>\n",
              "      <td>20200930</td>\n",
              "      <td>22</td>\n",
              "      <td>65</td>\n",
              "      <td>168</td>\n",
              "      <td>2218.27</td>\n",
              "      <td>18266.13</td>\n",
              "      <td>9</td>\n",
              "      <td>fall</td>\n",
              "      <td>2</td>\n",
              "      <td>1</td>\n",
              "      <td>233</td>\n",
              "      <td>69.4</td>\n",
              "      <td>60.0</td>\n",
              "      <td>73.8</td>\n",
              "      <td>18.9</td>\n",
              "      <td>29.6</td>\n",
              "      <td>0.42</td>\n",
              "    </tr>\n",
              "    <tr>\n",
              "      <th>6548</th>\n",
              "      <td>20200930</td>\n",
              "      <td>23</td>\n",
              "      <td>52</td>\n",
              "      <td>123</td>\n",
              "      <td>1757.62</td>\n",
              "      <td>6965.15</td>\n",
              "      <td>9</td>\n",
              "      <td>fall</td>\n",
              "      <td>2</td>\n",
              "      <td>1</td>\n",
              "      <td>175</td>\n",
              "      <td>69.4</td>\n",
              "      <td>60.0</td>\n",
              "      <td>73.8</td>\n",
              "      <td>18.9</td>\n",
              "      <td>29.6</td>\n",
              "      <td>0.42</td>\n",
              "    </tr>\n",
              "  </tbody>\n",
              "</table>\n",
              "<p>6549 rows × 17 columns</p>\n",
              "</div>"
            ],
            "text/plain": [
              "          date  hour  customer  ...  avg_wind_spd  avg_press  total_prec\n",
              "0     20200101     0        29  ...          15.5       29.6        0.04\n",
              "1     20200101     1        46  ...          15.5       29.6        0.04\n",
              "2     20200101     2        23  ...          15.5       29.6        0.04\n",
              "3     20200101     3         2  ...          15.5       29.6        0.04\n",
              "4     20200101     4         1  ...          15.5       29.6        0.04\n",
              "...        ...   ...       ...  ...           ...        ...         ...\n",
              "6544  20200930    19       141  ...          18.9       29.6        0.42\n",
              "6545  20200930    20        89  ...          18.9       29.6        0.42\n",
              "6546  20200930    21        70  ...          18.9       29.6        0.42\n",
              "6547  20200930    22        65  ...          18.9       29.6        0.42\n",
              "6548  20200930    23        52  ...          18.9       29.6        0.42\n",
              "\n",
              "[6549 rows x 17 columns]"
            ]
          },
          "metadata": {
            "tags": []
          },
          "execution_count": 11
        }
      ]
    },
    {
      "cell_type": "code",
      "metadata": {
        "id": "uet8Ondt-viD"
      },
      "source": [
        "# create target and feature variables\n",
        "target = bike_df['total']"
      ],
      "execution_count": null,
      "outputs": []
    },
    {
      "cell_type": "code",
      "metadata": {
        "id": "rBFi_Et4-viD",
        "colab": {
          "base_uri": "https://localhost:8080/"
        },
        "outputId": "5405853a-d82b-48ec-f1b9-d7833f302e5f"
      },
      "source": [
        "target"
      ],
      "execution_count": null,
      "outputs": [
        {
          "output_type": "execute_result",
          "data": {
            "text/plain": [
              "0        77\n",
              "1       111\n",
              "2        36\n",
              "3         9\n",
              "4         1\n",
              "       ... \n",
              "6544    653\n",
              "6545    388\n",
              "6546    280\n",
              "6547    233\n",
              "6548    175\n",
              "Name: total, Length: 6549, dtype: int64"
            ]
          },
          "metadata": {
            "tags": []
          },
          "execution_count": 13
        }
      ]
    },
    {
      "cell_type": "code",
      "metadata": {
        "scrolled": true,
        "id": "ACcsgo1A-viE"
      },
      "source": [
        "features_without_weather = bike_df.drop(columns=['total'])"
      ],
      "execution_count": null,
      "outputs": []
    },
    {
      "cell_type": "code",
      "metadata": {
        "id": "kO3VH126-viE",
        "colab": {
          "base_uri": "https://localhost:8080/",
          "height": 415
        },
        "outputId": "fda73547-bf62-473e-ad69-eb5b4c208389"
      },
      "source": [
        "features_without_weather"
      ],
      "execution_count": null,
      "outputs": [
        {
          "output_type": "execute_result",
          "data": {
            "text/html": [
              "<div>\n",
              "<style scoped>\n",
              "    .dataframe tbody tr th:only-of-type {\n",
              "        vertical-align: middle;\n",
              "    }\n",
              "\n",
              "    .dataframe tbody tr th {\n",
              "        vertical-align: top;\n",
              "    }\n",
              "\n",
              "    .dataframe thead th {\n",
              "        text-align: right;\n",
              "    }\n",
              "</style>\n",
              "<table border=\"1\" class=\"dataframe\">\n",
              "  <thead>\n",
              "    <tr style=\"text-align: right;\">\n",
              "      <th></th>\n",
              "      <th>date</th>\n",
              "      <th>hour</th>\n",
              "      <th>customer</th>\n",
              "      <th>subscriber</th>\n",
              "      <th>trip_duration_mean</th>\n",
              "      <th>trip_duration_std</th>\n",
              "      <th>month</th>\n",
              "      <th>season</th>\n",
              "      <th>weekday</th>\n",
              "      <th>workday</th>\n",
              "    </tr>\n",
              "  </thead>\n",
              "  <tbody>\n",
              "    <tr>\n",
              "      <th>0</th>\n",
              "      <td>20200101</td>\n",
              "      <td>0</td>\n",
              "      <td>29</td>\n",
              "      <td>48</td>\n",
              "      <td>2841.57</td>\n",
              "      <td>16514.14</td>\n",
              "      <td>1</td>\n",
              "      <td>winter</td>\n",
              "      <td>2</td>\n",
              "      <td>1</td>\n",
              "    </tr>\n",
              "    <tr>\n",
              "      <th>1</th>\n",
              "      <td>20200101</td>\n",
              "      <td>1</td>\n",
              "      <td>46</td>\n",
              "      <td>65</td>\n",
              "      <td>2692.32</td>\n",
              "      <td>19994.93</td>\n",
              "      <td>1</td>\n",
              "      <td>winter</td>\n",
              "      <td>2</td>\n",
              "      <td>1</td>\n",
              "    </tr>\n",
              "    <tr>\n",
              "      <th>2</th>\n",
              "      <td>20200101</td>\n",
              "      <td>2</td>\n",
              "      <td>23</td>\n",
              "      <td>13</td>\n",
              "      <td>16587.78</td>\n",
              "      <td>94260.92</td>\n",
              "      <td>1</td>\n",
              "      <td>winter</td>\n",
              "      <td>2</td>\n",
              "      <td>1</td>\n",
              "    </tr>\n",
              "    <tr>\n",
              "      <th>3</th>\n",
              "      <td>20200101</td>\n",
              "      <td>3</td>\n",
              "      <td>2</td>\n",
              "      <td>7</td>\n",
              "      <td>890.56</td>\n",
              "      <td>420.50</td>\n",
              "      <td>1</td>\n",
              "      <td>winter</td>\n",
              "      <td>2</td>\n",
              "      <td>1</td>\n",
              "    </tr>\n",
              "    <tr>\n",
              "      <th>4</th>\n",
              "      <td>20200101</td>\n",
              "      <td>4</td>\n",
              "      <td>1</td>\n",
              "      <td>0</td>\n",
              "      <td>114218.00</td>\n",
              "      <td>0.00</td>\n",
              "      <td>1</td>\n",
              "      <td>winter</td>\n",
              "      <td>2</td>\n",
              "      <td>1</td>\n",
              "    </tr>\n",
              "    <tr>\n",
              "      <th>...</th>\n",
              "      <td>...</td>\n",
              "      <td>...</td>\n",
              "      <td>...</td>\n",
              "      <td>...</td>\n",
              "      <td>...</td>\n",
              "      <td>...</td>\n",
              "      <td>...</td>\n",
              "      <td>...</td>\n",
              "      <td>...</td>\n",
              "      <td>...</td>\n",
              "    </tr>\n",
              "    <tr>\n",
              "      <th>6544</th>\n",
              "      <td>20200930</td>\n",
              "      <td>19</td>\n",
              "      <td>141</td>\n",
              "      <td>512</td>\n",
              "      <td>1028.88</td>\n",
              "      <td>2281.26</td>\n",
              "      <td>9</td>\n",
              "      <td>fall</td>\n",
              "      <td>2</td>\n",
              "      <td>1</td>\n",
              "    </tr>\n",
              "    <tr>\n",
              "      <th>6545</th>\n",
              "      <td>20200930</td>\n",
              "      <td>20</td>\n",
              "      <td>89</td>\n",
              "      <td>299</td>\n",
              "      <td>964.61</td>\n",
              "      <td>1051.87</td>\n",
              "      <td>9</td>\n",
              "      <td>fall</td>\n",
              "      <td>2</td>\n",
              "      <td>1</td>\n",
              "    </tr>\n",
              "    <tr>\n",
              "      <th>6546</th>\n",
              "      <td>20200930</td>\n",
              "      <td>21</td>\n",
              "      <td>70</td>\n",
              "      <td>210</td>\n",
              "      <td>1110.58</td>\n",
              "      <td>2867.71</td>\n",
              "      <td>9</td>\n",
              "      <td>fall</td>\n",
              "      <td>2</td>\n",
              "      <td>1</td>\n",
              "    </tr>\n",
              "    <tr>\n",
              "      <th>6547</th>\n",
              "      <td>20200930</td>\n",
              "      <td>22</td>\n",
              "      <td>65</td>\n",
              "      <td>168</td>\n",
              "      <td>2218.27</td>\n",
              "      <td>18266.13</td>\n",
              "      <td>9</td>\n",
              "      <td>fall</td>\n",
              "      <td>2</td>\n",
              "      <td>1</td>\n",
              "    </tr>\n",
              "    <tr>\n",
              "      <th>6548</th>\n",
              "      <td>20200930</td>\n",
              "      <td>23</td>\n",
              "      <td>52</td>\n",
              "      <td>123</td>\n",
              "      <td>1757.62</td>\n",
              "      <td>6965.15</td>\n",
              "      <td>9</td>\n",
              "      <td>fall</td>\n",
              "      <td>2</td>\n",
              "      <td>1</td>\n",
              "    </tr>\n",
              "  </tbody>\n",
              "</table>\n",
              "<p>6549 rows × 10 columns</p>\n",
              "</div>"
            ],
            "text/plain": [
              "          date  hour  customer  subscriber  ...  month  season  weekday workday\n",
              "0     20200101     0        29          48  ...      1  winter        2       1\n",
              "1     20200101     1        46          65  ...      1  winter        2       1\n",
              "2     20200101     2        23          13  ...      1  winter        2       1\n",
              "3     20200101     3         2           7  ...      1  winter        2       1\n",
              "4     20200101     4         1           0  ...      1  winter        2       1\n",
              "...        ...   ...       ...         ...  ...    ...     ...      ...     ...\n",
              "6544  20200930    19       141         512  ...      9    fall        2       1\n",
              "6545  20200930    20        89         299  ...      9    fall        2       1\n",
              "6546  20200930    21        70         210  ...      9    fall        2       1\n",
              "6547  20200930    22        65         168  ...      9    fall        2       1\n",
              "6548  20200930    23        52         123  ...      9    fall        2       1\n",
              "\n",
              "[6549 rows x 10 columns]"
            ]
          },
          "metadata": {
            "tags": []
          },
          "execution_count": 15
        }
      ]
    },
    {
      "cell_type": "code",
      "metadata": {
        "id": "Rrh9DBXk-viE"
      },
      "source": [
        "features_with_weather = bike_df_with_weather.drop(columns=['total'])"
      ],
      "execution_count": null,
      "outputs": []
    },
    {
      "cell_type": "code",
      "metadata": {
        "id": "gtvGvb9B-viE",
        "colab": {
          "base_uri": "https://localhost:8080/",
          "height": 435
        },
        "outputId": "df570192-c53b-482d-e8ba-2185b49ade47"
      },
      "source": [
        "features_with_weather"
      ],
      "execution_count": null,
      "outputs": [
        {
          "output_type": "execute_result",
          "data": {
            "text/html": [
              "<div>\n",
              "<style scoped>\n",
              "    .dataframe tbody tr th:only-of-type {\n",
              "        vertical-align: middle;\n",
              "    }\n",
              "\n",
              "    .dataframe tbody tr th {\n",
              "        vertical-align: top;\n",
              "    }\n",
              "\n",
              "    .dataframe thead th {\n",
              "        text-align: right;\n",
              "    }\n",
              "</style>\n",
              "<table border=\"1\" class=\"dataframe\">\n",
              "  <thead>\n",
              "    <tr style=\"text-align: right;\">\n",
              "      <th></th>\n",
              "      <th>date</th>\n",
              "      <th>hour</th>\n",
              "      <th>customer</th>\n",
              "      <th>subscriber</th>\n",
              "      <th>trip_duration_mean</th>\n",
              "      <th>trip_duration_std</th>\n",
              "      <th>month</th>\n",
              "      <th>season</th>\n",
              "      <th>weekday</th>\n",
              "      <th>workday</th>\n",
              "      <th>avg_temp</th>\n",
              "      <th>avg_dew_point</th>\n",
              "      <th>avg_hum</th>\n",
              "      <th>avg_wind_spd</th>\n",
              "      <th>avg_press</th>\n",
              "      <th>total_prec</th>\n",
              "    </tr>\n",
              "  </thead>\n",
              "  <tbody>\n",
              "    <tr>\n",
              "      <th>0</th>\n",
              "      <td>20200101</td>\n",
              "      <td>0</td>\n",
              "      <td>29</td>\n",
              "      <td>48</td>\n",
              "      <td>2841.57</td>\n",
              "      <td>16514.14</td>\n",
              "      <td>1</td>\n",
              "      <td>winter</td>\n",
              "      <td>2</td>\n",
              "      <td>1</td>\n",
              "      <td>38.9</td>\n",
              "      <td>23.8</td>\n",
              "      <td>55.0</td>\n",
              "      <td>15.5</td>\n",
              "      <td>29.6</td>\n",
              "      <td>0.04</td>\n",
              "    </tr>\n",
              "    <tr>\n",
              "      <th>1</th>\n",
              "      <td>20200101</td>\n",
              "      <td>1</td>\n",
              "      <td>46</td>\n",
              "      <td>65</td>\n",
              "      <td>2692.32</td>\n",
              "      <td>19994.93</td>\n",
              "      <td>1</td>\n",
              "      <td>winter</td>\n",
              "      <td>2</td>\n",
              "      <td>1</td>\n",
              "      <td>38.9</td>\n",
              "      <td>23.8</td>\n",
              "      <td>55.0</td>\n",
              "      <td>15.5</td>\n",
              "      <td>29.6</td>\n",
              "      <td>0.04</td>\n",
              "    </tr>\n",
              "    <tr>\n",
              "      <th>2</th>\n",
              "      <td>20200101</td>\n",
              "      <td>2</td>\n",
              "      <td>23</td>\n",
              "      <td>13</td>\n",
              "      <td>16587.78</td>\n",
              "      <td>94260.92</td>\n",
              "      <td>1</td>\n",
              "      <td>winter</td>\n",
              "      <td>2</td>\n",
              "      <td>1</td>\n",
              "      <td>38.9</td>\n",
              "      <td>23.8</td>\n",
              "      <td>55.0</td>\n",
              "      <td>15.5</td>\n",
              "      <td>29.6</td>\n",
              "      <td>0.04</td>\n",
              "    </tr>\n",
              "    <tr>\n",
              "      <th>3</th>\n",
              "      <td>20200101</td>\n",
              "      <td>3</td>\n",
              "      <td>2</td>\n",
              "      <td>7</td>\n",
              "      <td>890.56</td>\n",
              "      <td>420.50</td>\n",
              "      <td>1</td>\n",
              "      <td>winter</td>\n",
              "      <td>2</td>\n",
              "      <td>1</td>\n",
              "      <td>38.9</td>\n",
              "      <td>23.8</td>\n",
              "      <td>55.0</td>\n",
              "      <td>15.5</td>\n",
              "      <td>29.6</td>\n",
              "      <td>0.04</td>\n",
              "    </tr>\n",
              "    <tr>\n",
              "      <th>4</th>\n",
              "      <td>20200101</td>\n",
              "      <td>4</td>\n",
              "      <td>1</td>\n",
              "      <td>0</td>\n",
              "      <td>114218.00</td>\n",
              "      <td>0.00</td>\n",
              "      <td>1</td>\n",
              "      <td>winter</td>\n",
              "      <td>2</td>\n",
              "      <td>1</td>\n",
              "      <td>38.9</td>\n",
              "      <td>23.8</td>\n",
              "      <td>55.0</td>\n",
              "      <td>15.5</td>\n",
              "      <td>29.6</td>\n",
              "      <td>0.04</td>\n",
              "    </tr>\n",
              "    <tr>\n",
              "      <th>...</th>\n",
              "      <td>...</td>\n",
              "      <td>...</td>\n",
              "      <td>...</td>\n",
              "      <td>...</td>\n",
              "      <td>...</td>\n",
              "      <td>...</td>\n",
              "      <td>...</td>\n",
              "      <td>...</td>\n",
              "      <td>...</td>\n",
              "      <td>...</td>\n",
              "      <td>...</td>\n",
              "      <td>...</td>\n",
              "      <td>...</td>\n",
              "      <td>...</td>\n",
              "      <td>...</td>\n",
              "      <td>...</td>\n",
              "    </tr>\n",
              "    <tr>\n",
              "      <th>6544</th>\n",
              "      <td>20200930</td>\n",
              "      <td>19</td>\n",
              "      <td>141</td>\n",
              "      <td>512</td>\n",
              "      <td>1028.88</td>\n",
              "      <td>2281.26</td>\n",
              "      <td>9</td>\n",
              "      <td>fall</td>\n",
              "      <td>2</td>\n",
              "      <td>1</td>\n",
              "      <td>69.4</td>\n",
              "      <td>60.0</td>\n",
              "      <td>73.8</td>\n",
              "      <td>18.9</td>\n",
              "      <td>29.6</td>\n",
              "      <td>0.42</td>\n",
              "    </tr>\n",
              "    <tr>\n",
              "      <th>6545</th>\n",
              "      <td>20200930</td>\n",
              "      <td>20</td>\n",
              "      <td>89</td>\n",
              "      <td>299</td>\n",
              "      <td>964.61</td>\n",
              "      <td>1051.87</td>\n",
              "      <td>9</td>\n",
              "      <td>fall</td>\n",
              "      <td>2</td>\n",
              "      <td>1</td>\n",
              "      <td>69.4</td>\n",
              "      <td>60.0</td>\n",
              "      <td>73.8</td>\n",
              "      <td>18.9</td>\n",
              "      <td>29.6</td>\n",
              "      <td>0.42</td>\n",
              "    </tr>\n",
              "    <tr>\n",
              "      <th>6546</th>\n",
              "      <td>20200930</td>\n",
              "      <td>21</td>\n",
              "      <td>70</td>\n",
              "      <td>210</td>\n",
              "      <td>1110.58</td>\n",
              "      <td>2867.71</td>\n",
              "      <td>9</td>\n",
              "      <td>fall</td>\n",
              "      <td>2</td>\n",
              "      <td>1</td>\n",
              "      <td>69.4</td>\n",
              "      <td>60.0</td>\n",
              "      <td>73.8</td>\n",
              "      <td>18.9</td>\n",
              "      <td>29.6</td>\n",
              "      <td>0.42</td>\n",
              "    </tr>\n",
              "    <tr>\n",
              "      <th>6547</th>\n",
              "      <td>20200930</td>\n",
              "      <td>22</td>\n",
              "      <td>65</td>\n",
              "      <td>168</td>\n",
              "      <td>2218.27</td>\n",
              "      <td>18266.13</td>\n",
              "      <td>9</td>\n",
              "      <td>fall</td>\n",
              "      <td>2</td>\n",
              "      <td>1</td>\n",
              "      <td>69.4</td>\n",
              "      <td>60.0</td>\n",
              "      <td>73.8</td>\n",
              "      <td>18.9</td>\n",
              "      <td>29.6</td>\n",
              "      <td>0.42</td>\n",
              "    </tr>\n",
              "    <tr>\n",
              "      <th>6548</th>\n",
              "      <td>20200930</td>\n",
              "      <td>23</td>\n",
              "      <td>52</td>\n",
              "      <td>123</td>\n",
              "      <td>1757.62</td>\n",
              "      <td>6965.15</td>\n",
              "      <td>9</td>\n",
              "      <td>fall</td>\n",
              "      <td>2</td>\n",
              "      <td>1</td>\n",
              "      <td>69.4</td>\n",
              "      <td>60.0</td>\n",
              "      <td>73.8</td>\n",
              "      <td>18.9</td>\n",
              "      <td>29.6</td>\n",
              "      <td>0.42</td>\n",
              "    </tr>\n",
              "  </tbody>\n",
              "</table>\n",
              "<p>6549 rows × 16 columns</p>\n",
              "</div>"
            ],
            "text/plain": [
              "          date  hour  customer  ...  avg_wind_spd  avg_press  total_prec\n",
              "0     20200101     0        29  ...          15.5       29.6        0.04\n",
              "1     20200101     1        46  ...          15.5       29.6        0.04\n",
              "2     20200101     2        23  ...          15.5       29.6        0.04\n",
              "3     20200101     3         2  ...          15.5       29.6        0.04\n",
              "4     20200101     4         1  ...          15.5       29.6        0.04\n",
              "...        ...   ...       ...  ...           ...        ...         ...\n",
              "6544  20200930    19       141  ...          18.9       29.6        0.42\n",
              "6545  20200930    20        89  ...          18.9       29.6        0.42\n",
              "6546  20200930    21        70  ...          18.9       29.6        0.42\n",
              "6547  20200930    22        65  ...          18.9       29.6        0.42\n",
              "6548  20200930    23        52  ...          18.9       29.6        0.42\n",
              "\n",
              "[6549 rows x 16 columns]"
            ]
          },
          "metadata": {
            "tags": []
          },
          "execution_count": 17
        }
      ]
    },
    {
      "cell_type": "markdown",
      "metadata": {
        "id": "yPeJpYuv-viE"
      },
      "source": [
        "#### Feature Extraction"
      ]
    },
    {
      "cell_type": "code",
      "metadata": {
        "id": "8Ff8AK2Z-viE"
      },
      "source": [
        "from sklearn.preprocessing import OneHotEncoder\n",
        "# OneHotEncoding encodes categorical features as a one-hot numeric array\n",
        "# applies OneHotEncoding over the season feature since that's categorical\n",
        "encoder = OneHotEncoder(sparse=False)\n",
        "encoded_season = encoder.fit_transform(features_without_weather['season'].values.reshape(-1,1))\n",
        "encoded_season_df = pd.DataFrame(encoded_season, columns=encoder.get_feature_names())"
      ],
      "execution_count": null,
      "outputs": []
    },
    {
      "cell_type": "code",
      "metadata": {
        "id": "8MtxRigU-viE",
        "colab": {
          "base_uri": "https://localhost:8080/",
          "height": 415
        },
        "outputId": "435c9038-665b-45c1-bd6d-cdac49f705ba"
      },
      "source": [
        "encoded_season_df"
      ],
      "execution_count": null,
      "outputs": [
        {
          "output_type": "execute_result",
          "data": {
            "text/html": [
              "<div>\n",
              "<style scoped>\n",
              "    .dataframe tbody tr th:only-of-type {\n",
              "        vertical-align: middle;\n",
              "    }\n",
              "\n",
              "    .dataframe tbody tr th {\n",
              "        vertical-align: top;\n",
              "    }\n",
              "\n",
              "    .dataframe thead th {\n",
              "        text-align: right;\n",
              "    }\n",
              "</style>\n",
              "<table border=\"1\" class=\"dataframe\">\n",
              "  <thead>\n",
              "    <tr style=\"text-align: right;\">\n",
              "      <th></th>\n",
              "      <th>x0_fall</th>\n",
              "      <th>x0_spring</th>\n",
              "      <th>x0_summer</th>\n",
              "      <th>x0_winter</th>\n",
              "    </tr>\n",
              "  </thead>\n",
              "  <tbody>\n",
              "    <tr>\n",
              "      <th>0</th>\n",
              "      <td>0.0</td>\n",
              "      <td>0.0</td>\n",
              "      <td>0.0</td>\n",
              "      <td>1.0</td>\n",
              "    </tr>\n",
              "    <tr>\n",
              "      <th>1</th>\n",
              "      <td>0.0</td>\n",
              "      <td>0.0</td>\n",
              "      <td>0.0</td>\n",
              "      <td>1.0</td>\n",
              "    </tr>\n",
              "    <tr>\n",
              "      <th>2</th>\n",
              "      <td>0.0</td>\n",
              "      <td>0.0</td>\n",
              "      <td>0.0</td>\n",
              "      <td>1.0</td>\n",
              "    </tr>\n",
              "    <tr>\n",
              "      <th>3</th>\n",
              "      <td>0.0</td>\n",
              "      <td>0.0</td>\n",
              "      <td>0.0</td>\n",
              "      <td>1.0</td>\n",
              "    </tr>\n",
              "    <tr>\n",
              "      <th>4</th>\n",
              "      <td>0.0</td>\n",
              "      <td>0.0</td>\n",
              "      <td>0.0</td>\n",
              "      <td>1.0</td>\n",
              "    </tr>\n",
              "    <tr>\n",
              "      <th>...</th>\n",
              "      <td>...</td>\n",
              "      <td>...</td>\n",
              "      <td>...</td>\n",
              "      <td>...</td>\n",
              "    </tr>\n",
              "    <tr>\n",
              "      <th>6544</th>\n",
              "      <td>1.0</td>\n",
              "      <td>0.0</td>\n",
              "      <td>0.0</td>\n",
              "      <td>0.0</td>\n",
              "    </tr>\n",
              "    <tr>\n",
              "      <th>6545</th>\n",
              "      <td>1.0</td>\n",
              "      <td>0.0</td>\n",
              "      <td>0.0</td>\n",
              "      <td>0.0</td>\n",
              "    </tr>\n",
              "    <tr>\n",
              "      <th>6546</th>\n",
              "      <td>1.0</td>\n",
              "      <td>0.0</td>\n",
              "      <td>0.0</td>\n",
              "      <td>0.0</td>\n",
              "    </tr>\n",
              "    <tr>\n",
              "      <th>6547</th>\n",
              "      <td>1.0</td>\n",
              "      <td>0.0</td>\n",
              "      <td>0.0</td>\n",
              "      <td>0.0</td>\n",
              "    </tr>\n",
              "    <tr>\n",
              "      <th>6548</th>\n",
              "      <td>1.0</td>\n",
              "      <td>0.0</td>\n",
              "      <td>0.0</td>\n",
              "      <td>0.0</td>\n",
              "    </tr>\n",
              "  </tbody>\n",
              "</table>\n",
              "<p>6549 rows × 4 columns</p>\n",
              "</div>"
            ],
            "text/plain": [
              "      x0_fall  x0_spring  x0_summer  x0_winter\n",
              "0         0.0        0.0        0.0        1.0\n",
              "1         0.0        0.0        0.0        1.0\n",
              "2         0.0        0.0        0.0        1.0\n",
              "3         0.0        0.0        0.0        1.0\n",
              "4         0.0        0.0        0.0        1.0\n",
              "...       ...        ...        ...        ...\n",
              "6544      1.0        0.0        0.0        0.0\n",
              "6545      1.0        0.0        0.0        0.0\n",
              "6546      1.0        0.0        0.0        0.0\n",
              "6547      1.0        0.0        0.0        0.0\n",
              "6548      1.0        0.0        0.0        0.0\n",
              "\n",
              "[6549 rows x 4 columns]"
            ]
          },
          "metadata": {
            "tags": []
          },
          "execution_count": 19
        }
      ]
    },
    {
      "cell_type": "code",
      "metadata": {
        "id": "zy0X_gz4-viF"
      },
      "source": [
        "# substitute the season feature with the encoded dataframe since we don't want categorical features to remain\n",
        "# drop the season column and add the encoded seasons for features without weather\n",
        "features_without_weather_season = features_without_weather.drop(columns=['season'])\n",
        "encoded_features = pd.concat([features_without_weather_season, encoded_season_df], axis=1).reindex(features_without_weather_season.index)\n",
        "\n",
        "# drop the season column and add the encoded seasons for features with weather\n",
        "features_with_weather_season = features_with_weather.drop(columns=['season'])\n",
        "encoded_features_weather = pd.concat([features_with_weather_season, encoded_season_df], axis=1).reindex(features_with_weather_season.index)"
      ],
      "execution_count": null,
      "outputs": []
    },
    {
      "cell_type": "code",
      "metadata": {
        "id": "scya-9LK-viF",
        "colab": {
          "base_uri": "https://localhost:8080/",
          "height": 415
        },
        "outputId": "0ee71966-77a3-4f1b-b503-a462ff761099"
      },
      "source": [
        "encoded_features"
      ],
      "execution_count": null,
      "outputs": [
        {
          "output_type": "execute_result",
          "data": {
            "text/html": [
              "<div>\n",
              "<style scoped>\n",
              "    .dataframe tbody tr th:only-of-type {\n",
              "        vertical-align: middle;\n",
              "    }\n",
              "\n",
              "    .dataframe tbody tr th {\n",
              "        vertical-align: top;\n",
              "    }\n",
              "\n",
              "    .dataframe thead th {\n",
              "        text-align: right;\n",
              "    }\n",
              "</style>\n",
              "<table border=\"1\" class=\"dataframe\">\n",
              "  <thead>\n",
              "    <tr style=\"text-align: right;\">\n",
              "      <th></th>\n",
              "      <th>date</th>\n",
              "      <th>hour</th>\n",
              "      <th>customer</th>\n",
              "      <th>subscriber</th>\n",
              "      <th>trip_duration_mean</th>\n",
              "      <th>trip_duration_std</th>\n",
              "      <th>month</th>\n",
              "      <th>weekday</th>\n",
              "      <th>workday</th>\n",
              "      <th>x0_fall</th>\n",
              "      <th>x0_spring</th>\n",
              "      <th>x0_summer</th>\n",
              "      <th>x0_winter</th>\n",
              "    </tr>\n",
              "  </thead>\n",
              "  <tbody>\n",
              "    <tr>\n",
              "      <th>0</th>\n",
              "      <td>20200101</td>\n",
              "      <td>0</td>\n",
              "      <td>29</td>\n",
              "      <td>48</td>\n",
              "      <td>2841.57</td>\n",
              "      <td>16514.14</td>\n",
              "      <td>1</td>\n",
              "      <td>2</td>\n",
              "      <td>1</td>\n",
              "      <td>0.0</td>\n",
              "      <td>0.0</td>\n",
              "      <td>0.0</td>\n",
              "      <td>1.0</td>\n",
              "    </tr>\n",
              "    <tr>\n",
              "      <th>1</th>\n",
              "      <td>20200101</td>\n",
              "      <td>1</td>\n",
              "      <td>46</td>\n",
              "      <td>65</td>\n",
              "      <td>2692.32</td>\n",
              "      <td>19994.93</td>\n",
              "      <td>1</td>\n",
              "      <td>2</td>\n",
              "      <td>1</td>\n",
              "      <td>0.0</td>\n",
              "      <td>0.0</td>\n",
              "      <td>0.0</td>\n",
              "      <td>1.0</td>\n",
              "    </tr>\n",
              "    <tr>\n",
              "      <th>2</th>\n",
              "      <td>20200101</td>\n",
              "      <td>2</td>\n",
              "      <td>23</td>\n",
              "      <td>13</td>\n",
              "      <td>16587.78</td>\n",
              "      <td>94260.92</td>\n",
              "      <td>1</td>\n",
              "      <td>2</td>\n",
              "      <td>1</td>\n",
              "      <td>0.0</td>\n",
              "      <td>0.0</td>\n",
              "      <td>0.0</td>\n",
              "      <td>1.0</td>\n",
              "    </tr>\n",
              "    <tr>\n",
              "      <th>3</th>\n",
              "      <td>20200101</td>\n",
              "      <td>3</td>\n",
              "      <td>2</td>\n",
              "      <td>7</td>\n",
              "      <td>890.56</td>\n",
              "      <td>420.50</td>\n",
              "      <td>1</td>\n",
              "      <td>2</td>\n",
              "      <td>1</td>\n",
              "      <td>0.0</td>\n",
              "      <td>0.0</td>\n",
              "      <td>0.0</td>\n",
              "      <td>1.0</td>\n",
              "    </tr>\n",
              "    <tr>\n",
              "      <th>4</th>\n",
              "      <td>20200101</td>\n",
              "      <td>4</td>\n",
              "      <td>1</td>\n",
              "      <td>0</td>\n",
              "      <td>114218.00</td>\n",
              "      <td>0.00</td>\n",
              "      <td>1</td>\n",
              "      <td>2</td>\n",
              "      <td>1</td>\n",
              "      <td>0.0</td>\n",
              "      <td>0.0</td>\n",
              "      <td>0.0</td>\n",
              "      <td>1.0</td>\n",
              "    </tr>\n",
              "    <tr>\n",
              "      <th>...</th>\n",
              "      <td>...</td>\n",
              "      <td>...</td>\n",
              "      <td>...</td>\n",
              "      <td>...</td>\n",
              "      <td>...</td>\n",
              "      <td>...</td>\n",
              "      <td>...</td>\n",
              "      <td>...</td>\n",
              "      <td>...</td>\n",
              "      <td>...</td>\n",
              "      <td>...</td>\n",
              "      <td>...</td>\n",
              "      <td>...</td>\n",
              "    </tr>\n",
              "    <tr>\n",
              "      <th>6544</th>\n",
              "      <td>20200930</td>\n",
              "      <td>19</td>\n",
              "      <td>141</td>\n",
              "      <td>512</td>\n",
              "      <td>1028.88</td>\n",
              "      <td>2281.26</td>\n",
              "      <td>9</td>\n",
              "      <td>2</td>\n",
              "      <td>1</td>\n",
              "      <td>1.0</td>\n",
              "      <td>0.0</td>\n",
              "      <td>0.0</td>\n",
              "      <td>0.0</td>\n",
              "    </tr>\n",
              "    <tr>\n",
              "      <th>6545</th>\n",
              "      <td>20200930</td>\n",
              "      <td>20</td>\n",
              "      <td>89</td>\n",
              "      <td>299</td>\n",
              "      <td>964.61</td>\n",
              "      <td>1051.87</td>\n",
              "      <td>9</td>\n",
              "      <td>2</td>\n",
              "      <td>1</td>\n",
              "      <td>1.0</td>\n",
              "      <td>0.0</td>\n",
              "      <td>0.0</td>\n",
              "      <td>0.0</td>\n",
              "    </tr>\n",
              "    <tr>\n",
              "      <th>6546</th>\n",
              "      <td>20200930</td>\n",
              "      <td>21</td>\n",
              "      <td>70</td>\n",
              "      <td>210</td>\n",
              "      <td>1110.58</td>\n",
              "      <td>2867.71</td>\n",
              "      <td>9</td>\n",
              "      <td>2</td>\n",
              "      <td>1</td>\n",
              "      <td>1.0</td>\n",
              "      <td>0.0</td>\n",
              "      <td>0.0</td>\n",
              "      <td>0.0</td>\n",
              "    </tr>\n",
              "    <tr>\n",
              "      <th>6547</th>\n",
              "      <td>20200930</td>\n",
              "      <td>22</td>\n",
              "      <td>65</td>\n",
              "      <td>168</td>\n",
              "      <td>2218.27</td>\n",
              "      <td>18266.13</td>\n",
              "      <td>9</td>\n",
              "      <td>2</td>\n",
              "      <td>1</td>\n",
              "      <td>1.0</td>\n",
              "      <td>0.0</td>\n",
              "      <td>0.0</td>\n",
              "      <td>0.0</td>\n",
              "    </tr>\n",
              "    <tr>\n",
              "      <th>6548</th>\n",
              "      <td>20200930</td>\n",
              "      <td>23</td>\n",
              "      <td>52</td>\n",
              "      <td>123</td>\n",
              "      <td>1757.62</td>\n",
              "      <td>6965.15</td>\n",
              "      <td>9</td>\n",
              "      <td>2</td>\n",
              "      <td>1</td>\n",
              "      <td>1.0</td>\n",
              "      <td>0.0</td>\n",
              "      <td>0.0</td>\n",
              "      <td>0.0</td>\n",
              "    </tr>\n",
              "  </tbody>\n",
              "</table>\n",
              "<p>6549 rows × 13 columns</p>\n",
              "</div>"
            ],
            "text/plain": [
              "          date  hour  customer  ...  x0_spring  x0_summer  x0_winter\n",
              "0     20200101     0        29  ...        0.0        0.0        1.0\n",
              "1     20200101     1        46  ...        0.0        0.0        1.0\n",
              "2     20200101     2        23  ...        0.0        0.0        1.0\n",
              "3     20200101     3         2  ...        0.0        0.0        1.0\n",
              "4     20200101     4         1  ...        0.0        0.0        1.0\n",
              "...        ...   ...       ...  ...        ...        ...        ...\n",
              "6544  20200930    19       141  ...        0.0        0.0        0.0\n",
              "6545  20200930    20        89  ...        0.0        0.0        0.0\n",
              "6546  20200930    21        70  ...        0.0        0.0        0.0\n",
              "6547  20200930    22        65  ...        0.0        0.0        0.0\n",
              "6548  20200930    23        52  ...        0.0        0.0        0.0\n",
              "\n",
              "[6549 rows x 13 columns]"
            ]
          },
          "metadata": {
            "tags": []
          },
          "execution_count": 21
        }
      ]
    },
    {
      "cell_type": "code",
      "metadata": {
        "id": "3-atjxJi-viF",
        "colab": {
          "base_uri": "https://localhost:8080/",
          "height": 435
        },
        "outputId": "aa9e72f0-e7e0-4689-9402-055483f4e22f"
      },
      "source": [
        "encoded_features_weather"
      ],
      "execution_count": null,
      "outputs": [
        {
          "output_type": "execute_result",
          "data": {
            "text/html": [
              "<div>\n",
              "<style scoped>\n",
              "    .dataframe tbody tr th:only-of-type {\n",
              "        vertical-align: middle;\n",
              "    }\n",
              "\n",
              "    .dataframe tbody tr th {\n",
              "        vertical-align: top;\n",
              "    }\n",
              "\n",
              "    .dataframe thead th {\n",
              "        text-align: right;\n",
              "    }\n",
              "</style>\n",
              "<table border=\"1\" class=\"dataframe\">\n",
              "  <thead>\n",
              "    <tr style=\"text-align: right;\">\n",
              "      <th></th>\n",
              "      <th>date</th>\n",
              "      <th>hour</th>\n",
              "      <th>customer</th>\n",
              "      <th>subscriber</th>\n",
              "      <th>trip_duration_mean</th>\n",
              "      <th>trip_duration_std</th>\n",
              "      <th>month</th>\n",
              "      <th>weekday</th>\n",
              "      <th>workday</th>\n",
              "      <th>avg_temp</th>\n",
              "      <th>avg_dew_point</th>\n",
              "      <th>avg_hum</th>\n",
              "      <th>avg_wind_spd</th>\n",
              "      <th>avg_press</th>\n",
              "      <th>total_prec</th>\n",
              "      <th>x0_fall</th>\n",
              "      <th>x0_spring</th>\n",
              "      <th>x0_summer</th>\n",
              "      <th>x0_winter</th>\n",
              "    </tr>\n",
              "  </thead>\n",
              "  <tbody>\n",
              "    <tr>\n",
              "      <th>0</th>\n",
              "      <td>20200101</td>\n",
              "      <td>0</td>\n",
              "      <td>29</td>\n",
              "      <td>48</td>\n",
              "      <td>2841.57</td>\n",
              "      <td>16514.14</td>\n",
              "      <td>1</td>\n",
              "      <td>2</td>\n",
              "      <td>1</td>\n",
              "      <td>38.9</td>\n",
              "      <td>23.8</td>\n",
              "      <td>55.0</td>\n",
              "      <td>15.5</td>\n",
              "      <td>29.6</td>\n",
              "      <td>0.04</td>\n",
              "      <td>0.0</td>\n",
              "      <td>0.0</td>\n",
              "      <td>0.0</td>\n",
              "      <td>1.0</td>\n",
              "    </tr>\n",
              "    <tr>\n",
              "      <th>1</th>\n",
              "      <td>20200101</td>\n",
              "      <td>1</td>\n",
              "      <td>46</td>\n",
              "      <td>65</td>\n",
              "      <td>2692.32</td>\n",
              "      <td>19994.93</td>\n",
              "      <td>1</td>\n",
              "      <td>2</td>\n",
              "      <td>1</td>\n",
              "      <td>38.9</td>\n",
              "      <td>23.8</td>\n",
              "      <td>55.0</td>\n",
              "      <td>15.5</td>\n",
              "      <td>29.6</td>\n",
              "      <td>0.04</td>\n",
              "      <td>0.0</td>\n",
              "      <td>0.0</td>\n",
              "      <td>0.0</td>\n",
              "      <td>1.0</td>\n",
              "    </tr>\n",
              "    <tr>\n",
              "      <th>2</th>\n",
              "      <td>20200101</td>\n",
              "      <td>2</td>\n",
              "      <td>23</td>\n",
              "      <td>13</td>\n",
              "      <td>16587.78</td>\n",
              "      <td>94260.92</td>\n",
              "      <td>1</td>\n",
              "      <td>2</td>\n",
              "      <td>1</td>\n",
              "      <td>38.9</td>\n",
              "      <td>23.8</td>\n",
              "      <td>55.0</td>\n",
              "      <td>15.5</td>\n",
              "      <td>29.6</td>\n",
              "      <td>0.04</td>\n",
              "      <td>0.0</td>\n",
              "      <td>0.0</td>\n",
              "      <td>0.0</td>\n",
              "      <td>1.0</td>\n",
              "    </tr>\n",
              "    <tr>\n",
              "      <th>3</th>\n",
              "      <td>20200101</td>\n",
              "      <td>3</td>\n",
              "      <td>2</td>\n",
              "      <td>7</td>\n",
              "      <td>890.56</td>\n",
              "      <td>420.50</td>\n",
              "      <td>1</td>\n",
              "      <td>2</td>\n",
              "      <td>1</td>\n",
              "      <td>38.9</td>\n",
              "      <td>23.8</td>\n",
              "      <td>55.0</td>\n",
              "      <td>15.5</td>\n",
              "      <td>29.6</td>\n",
              "      <td>0.04</td>\n",
              "      <td>0.0</td>\n",
              "      <td>0.0</td>\n",
              "      <td>0.0</td>\n",
              "      <td>1.0</td>\n",
              "    </tr>\n",
              "    <tr>\n",
              "      <th>4</th>\n",
              "      <td>20200101</td>\n",
              "      <td>4</td>\n",
              "      <td>1</td>\n",
              "      <td>0</td>\n",
              "      <td>114218.00</td>\n",
              "      <td>0.00</td>\n",
              "      <td>1</td>\n",
              "      <td>2</td>\n",
              "      <td>1</td>\n",
              "      <td>38.9</td>\n",
              "      <td>23.8</td>\n",
              "      <td>55.0</td>\n",
              "      <td>15.5</td>\n",
              "      <td>29.6</td>\n",
              "      <td>0.04</td>\n",
              "      <td>0.0</td>\n",
              "      <td>0.0</td>\n",
              "      <td>0.0</td>\n",
              "      <td>1.0</td>\n",
              "    </tr>\n",
              "    <tr>\n",
              "      <th>...</th>\n",
              "      <td>...</td>\n",
              "      <td>...</td>\n",
              "      <td>...</td>\n",
              "      <td>...</td>\n",
              "      <td>...</td>\n",
              "      <td>...</td>\n",
              "      <td>...</td>\n",
              "      <td>...</td>\n",
              "      <td>...</td>\n",
              "      <td>...</td>\n",
              "      <td>...</td>\n",
              "      <td>...</td>\n",
              "      <td>...</td>\n",
              "      <td>...</td>\n",
              "      <td>...</td>\n",
              "      <td>...</td>\n",
              "      <td>...</td>\n",
              "      <td>...</td>\n",
              "      <td>...</td>\n",
              "    </tr>\n",
              "    <tr>\n",
              "      <th>6544</th>\n",
              "      <td>20200930</td>\n",
              "      <td>19</td>\n",
              "      <td>141</td>\n",
              "      <td>512</td>\n",
              "      <td>1028.88</td>\n",
              "      <td>2281.26</td>\n",
              "      <td>9</td>\n",
              "      <td>2</td>\n",
              "      <td>1</td>\n",
              "      <td>69.4</td>\n",
              "      <td>60.0</td>\n",
              "      <td>73.8</td>\n",
              "      <td>18.9</td>\n",
              "      <td>29.6</td>\n",
              "      <td>0.42</td>\n",
              "      <td>1.0</td>\n",
              "      <td>0.0</td>\n",
              "      <td>0.0</td>\n",
              "      <td>0.0</td>\n",
              "    </tr>\n",
              "    <tr>\n",
              "      <th>6545</th>\n",
              "      <td>20200930</td>\n",
              "      <td>20</td>\n",
              "      <td>89</td>\n",
              "      <td>299</td>\n",
              "      <td>964.61</td>\n",
              "      <td>1051.87</td>\n",
              "      <td>9</td>\n",
              "      <td>2</td>\n",
              "      <td>1</td>\n",
              "      <td>69.4</td>\n",
              "      <td>60.0</td>\n",
              "      <td>73.8</td>\n",
              "      <td>18.9</td>\n",
              "      <td>29.6</td>\n",
              "      <td>0.42</td>\n",
              "      <td>1.0</td>\n",
              "      <td>0.0</td>\n",
              "      <td>0.0</td>\n",
              "      <td>0.0</td>\n",
              "    </tr>\n",
              "    <tr>\n",
              "      <th>6546</th>\n",
              "      <td>20200930</td>\n",
              "      <td>21</td>\n",
              "      <td>70</td>\n",
              "      <td>210</td>\n",
              "      <td>1110.58</td>\n",
              "      <td>2867.71</td>\n",
              "      <td>9</td>\n",
              "      <td>2</td>\n",
              "      <td>1</td>\n",
              "      <td>69.4</td>\n",
              "      <td>60.0</td>\n",
              "      <td>73.8</td>\n",
              "      <td>18.9</td>\n",
              "      <td>29.6</td>\n",
              "      <td>0.42</td>\n",
              "      <td>1.0</td>\n",
              "      <td>0.0</td>\n",
              "      <td>0.0</td>\n",
              "      <td>0.0</td>\n",
              "    </tr>\n",
              "    <tr>\n",
              "      <th>6547</th>\n",
              "      <td>20200930</td>\n",
              "      <td>22</td>\n",
              "      <td>65</td>\n",
              "      <td>168</td>\n",
              "      <td>2218.27</td>\n",
              "      <td>18266.13</td>\n",
              "      <td>9</td>\n",
              "      <td>2</td>\n",
              "      <td>1</td>\n",
              "      <td>69.4</td>\n",
              "      <td>60.0</td>\n",
              "      <td>73.8</td>\n",
              "      <td>18.9</td>\n",
              "      <td>29.6</td>\n",
              "      <td>0.42</td>\n",
              "      <td>1.0</td>\n",
              "      <td>0.0</td>\n",
              "      <td>0.0</td>\n",
              "      <td>0.0</td>\n",
              "    </tr>\n",
              "    <tr>\n",
              "      <th>6548</th>\n",
              "      <td>20200930</td>\n",
              "      <td>23</td>\n",
              "      <td>52</td>\n",
              "      <td>123</td>\n",
              "      <td>1757.62</td>\n",
              "      <td>6965.15</td>\n",
              "      <td>9</td>\n",
              "      <td>2</td>\n",
              "      <td>1</td>\n",
              "      <td>69.4</td>\n",
              "      <td>60.0</td>\n",
              "      <td>73.8</td>\n",
              "      <td>18.9</td>\n",
              "      <td>29.6</td>\n",
              "      <td>0.42</td>\n",
              "      <td>1.0</td>\n",
              "      <td>0.0</td>\n",
              "      <td>0.0</td>\n",
              "      <td>0.0</td>\n",
              "    </tr>\n",
              "  </tbody>\n",
              "</table>\n",
              "<p>6549 rows × 19 columns</p>\n",
              "</div>"
            ],
            "text/plain": [
              "          date  hour  customer  ...  x0_spring  x0_summer  x0_winter\n",
              "0     20200101     0        29  ...        0.0        0.0        1.0\n",
              "1     20200101     1        46  ...        0.0        0.0        1.0\n",
              "2     20200101     2        23  ...        0.0        0.0        1.0\n",
              "3     20200101     3         2  ...        0.0        0.0        1.0\n",
              "4     20200101     4         1  ...        0.0        0.0        1.0\n",
              "...        ...   ...       ...  ...        ...        ...        ...\n",
              "6544  20200930    19       141  ...        0.0        0.0        0.0\n",
              "6545  20200930    20        89  ...        0.0        0.0        0.0\n",
              "6546  20200930    21        70  ...        0.0        0.0        0.0\n",
              "6547  20200930    22        65  ...        0.0        0.0        0.0\n",
              "6548  20200930    23        52  ...        0.0        0.0        0.0\n",
              "\n",
              "[6549 rows x 19 columns]"
            ]
          },
          "metadata": {
            "tags": []
          },
          "execution_count": 22
        }
      ]
    },
    {
      "cell_type": "markdown",
      "metadata": {
        "id": "a8ZHvxxU-viF"
      },
      "source": [
        "#### Testing and Training Sets"
      ]
    },
    {
      "cell_type": "code",
      "metadata": {
        "id": "4FExEoZG-viF"
      },
      "source": [
        "from sklearn.model_selection import train_test_split\n",
        "# split datasets into training and testing to use for our models later on\n",
        "\n",
        "# training and testing sets for with weather\n",
        "X_train_weather, X_test_weather, y_train_weather, y_test_weather = train_test_split(encoded_features_weather, target, random_state=3000)\n",
        "\n",
        "# training and testing sets without weather\n",
        "X_train, X_test, y_train, y_test = train_test_split(encoded_features, target, random_state=3000)"
      ],
      "execution_count": null,
      "outputs": []
    },
    {
      "cell_type": "markdown",
      "metadata": {
        "id": "6qjQ3H6o-viF"
      },
      "source": [
        "#### Preprocessing"
      ]
    },
    {
      "cell_type": "code",
      "metadata": {
        "id": "4rRJeaeV-viF"
      },
      "source": [
        "from sklearn.preprocessing import MinMaxScaler\n",
        "# MinMaxScaler transforms the features by scaling each feature to a given range\n",
        "# applies MinMaxScaler to standardize our data\n",
        "def preprocess(train, test):\n",
        "    scaler = MinMaxScaler().fit(train)\n",
        "    \n",
        "    #scale/transform testing and training sets\n",
        "    X_train_scaled = scaler.transform(train)\n",
        "    X_test_scaled = scaler.transform(test)\n",
        "\n",
        "    return X_train_scaled, X_test_scaled"
      ],
      "execution_count": null,
      "outputs": []
    },
    {
      "cell_type": "code",
      "metadata": {
        "id": "mV8J4iYC-viF"
      },
      "source": [
        "# preprocess the encoded features without weather data\n",
        "X_train_scaled, X_test_scaled = preprocess(X_train, X_test)\n",
        "\n",
        "# preprocess the encoded features with weather data\n",
        "X_train_weather_scaled, X_test_weather_scaled = preprocess(X_train_weather, X_test_weather)"
      ],
      "execution_count": null,
      "outputs": []
    },
    {
      "cell_type": "markdown",
      "metadata": {
        "id": "W5HpyMLx-viF"
      },
      "source": [
        "#### Feature Selection"
      ]
    },
    {
      "cell_type": "code",
      "metadata": {
        "id": "8neQcFnB-viF"
      },
      "source": [
        "from sklearn.feature_selection import RFE\n",
        "from sklearn.tree import DecisionTreeRegressor\n",
        "# applies Recursive Feature Elimination (RFE) to select the best features to use through ranking\n",
        "# this is an iterative approach over the encoded_features df since we can use the features selected here to create a new dataframe\n",
        "# with weather data\n",
        "def rank_features():  \n",
        "    rfe = RFE(DecisionTreeRegressor(random_state=3000), n_features_to_select = 3)\n",
        "    # fit the model\n",
        "    rfe.fit(X_train_scaled, y_train)\n",
        "    # select 3 best features and apply to the x train and test scaled sets\n",
        "    X_train_selected = rfe.transform(X_train_scaled)\n",
        "    X_test_selected = rfe.transform(X_test_scaled)\n",
        "    \n",
        "    #print the features selected \n",
        "    print('Selected features after RFE:')\n",
        "    features = encoded_features.columns[rfe.get_support()]\n",
        "    for cname in features:\n",
        "        print('\\t',cname)\n",
        "        \n",
        "    return X_train_selected, X_test_selected, features"
      ],
      "execution_count": null,
      "outputs": []
    },
    {
      "cell_type": "code",
      "metadata": {
        "id": "pOcCbrjF-viF",
        "colab": {
          "base_uri": "https://localhost:8080/"
        },
        "outputId": "bb50fe73-279b-44ec-f796-905d9e77f210"
      },
      "source": [
        "X_train_selected, X_test_selected, selected_features = rank_features()"
      ],
      "execution_count": null,
      "outputs": [
        {
          "output_type": "stream",
          "text": [
            "Selected features after RFE:\n",
            "\t date\n",
            "\t customer\n",
            "\t subscriber\n"
          ],
          "name": "stdout"
        }
      ]
    },
    {
      "cell_type": "code",
      "metadata": {
        "id": "CCSk2m2C-viF"
      },
      "source": [
        "# create the dataframe with only the selected features plus weather data\n",
        "# then preprocess and train_test_split it\n",
        "selected_df = pd.DataFrame()\n",
        "for cname in selected_features:\n",
        "    selected_df[cname] = bike_df[cname]\n",
        "    \n",
        "selected_df['avg_temp'] = features_with_weather['avg_temp']\n",
        "selected_df['avg_dew_point'] = features_with_weather['avg_dew_point']\n",
        "selected_df['avg_hum'] = features_with_weather['avg_hum']\n",
        "selected_df['avg_wind_spd'] = features_with_weather['avg_wind_spd']\n",
        "selected_df['avg_press'] = features_with_weather['avg_press']\n",
        "selected_df['total_prec'] = features_with_weather['total_prec']"
      ],
      "execution_count": null,
      "outputs": []
    },
    {
      "cell_type": "code",
      "metadata": {
        "id": "d7EfSTXw-viF",
        "colab": {
          "base_uri": "https://localhost:8080/",
          "height": 415
        },
        "outputId": "e9f50011-e570-455d-a582-239592972d48"
      },
      "source": [
        "selected_df"
      ],
      "execution_count": null,
      "outputs": [
        {
          "output_type": "execute_result",
          "data": {
            "text/html": [
              "<div>\n",
              "<style scoped>\n",
              "    .dataframe tbody tr th:only-of-type {\n",
              "        vertical-align: middle;\n",
              "    }\n",
              "\n",
              "    .dataframe tbody tr th {\n",
              "        vertical-align: top;\n",
              "    }\n",
              "\n",
              "    .dataframe thead th {\n",
              "        text-align: right;\n",
              "    }\n",
              "</style>\n",
              "<table border=\"1\" class=\"dataframe\">\n",
              "  <thead>\n",
              "    <tr style=\"text-align: right;\">\n",
              "      <th></th>\n",
              "      <th>date</th>\n",
              "      <th>customer</th>\n",
              "      <th>subscriber</th>\n",
              "      <th>avg_temp</th>\n",
              "      <th>avg_dew_point</th>\n",
              "      <th>avg_hum</th>\n",
              "      <th>avg_wind_spd</th>\n",
              "      <th>avg_press</th>\n",
              "      <th>total_prec</th>\n",
              "    </tr>\n",
              "  </thead>\n",
              "  <tbody>\n",
              "    <tr>\n",
              "      <th>0</th>\n",
              "      <td>20200101</td>\n",
              "      <td>29</td>\n",
              "      <td>48</td>\n",
              "      <td>38.9</td>\n",
              "      <td>23.8</td>\n",
              "      <td>55.0</td>\n",
              "      <td>15.5</td>\n",
              "      <td>29.6</td>\n",
              "      <td>0.04</td>\n",
              "    </tr>\n",
              "    <tr>\n",
              "      <th>1</th>\n",
              "      <td>20200101</td>\n",
              "      <td>46</td>\n",
              "      <td>65</td>\n",
              "      <td>38.9</td>\n",
              "      <td>23.8</td>\n",
              "      <td>55.0</td>\n",
              "      <td>15.5</td>\n",
              "      <td>29.6</td>\n",
              "      <td>0.04</td>\n",
              "    </tr>\n",
              "    <tr>\n",
              "      <th>2</th>\n",
              "      <td>20200101</td>\n",
              "      <td>23</td>\n",
              "      <td>13</td>\n",
              "      <td>38.9</td>\n",
              "      <td>23.8</td>\n",
              "      <td>55.0</td>\n",
              "      <td>15.5</td>\n",
              "      <td>29.6</td>\n",
              "      <td>0.04</td>\n",
              "    </tr>\n",
              "    <tr>\n",
              "      <th>3</th>\n",
              "      <td>20200101</td>\n",
              "      <td>2</td>\n",
              "      <td>7</td>\n",
              "      <td>38.9</td>\n",
              "      <td>23.8</td>\n",
              "      <td>55.0</td>\n",
              "      <td>15.5</td>\n",
              "      <td>29.6</td>\n",
              "      <td>0.04</td>\n",
              "    </tr>\n",
              "    <tr>\n",
              "      <th>4</th>\n",
              "      <td>20200101</td>\n",
              "      <td>1</td>\n",
              "      <td>0</td>\n",
              "      <td>38.9</td>\n",
              "      <td>23.8</td>\n",
              "      <td>55.0</td>\n",
              "      <td>15.5</td>\n",
              "      <td>29.6</td>\n",
              "      <td>0.04</td>\n",
              "    </tr>\n",
              "    <tr>\n",
              "      <th>...</th>\n",
              "      <td>...</td>\n",
              "      <td>...</td>\n",
              "      <td>...</td>\n",
              "      <td>...</td>\n",
              "      <td>...</td>\n",
              "      <td>...</td>\n",
              "      <td>...</td>\n",
              "      <td>...</td>\n",
              "      <td>...</td>\n",
              "    </tr>\n",
              "    <tr>\n",
              "      <th>6544</th>\n",
              "      <td>20200930</td>\n",
              "      <td>141</td>\n",
              "      <td>512</td>\n",
              "      <td>69.4</td>\n",
              "      <td>60.0</td>\n",
              "      <td>73.8</td>\n",
              "      <td>18.9</td>\n",
              "      <td>29.6</td>\n",
              "      <td>0.42</td>\n",
              "    </tr>\n",
              "    <tr>\n",
              "      <th>6545</th>\n",
              "      <td>20200930</td>\n",
              "      <td>89</td>\n",
              "      <td>299</td>\n",
              "      <td>69.4</td>\n",
              "      <td>60.0</td>\n",
              "      <td>73.8</td>\n",
              "      <td>18.9</td>\n",
              "      <td>29.6</td>\n",
              "      <td>0.42</td>\n",
              "    </tr>\n",
              "    <tr>\n",
              "      <th>6546</th>\n",
              "      <td>20200930</td>\n",
              "      <td>70</td>\n",
              "      <td>210</td>\n",
              "      <td>69.4</td>\n",
              "      <td>60.0</td>\n",
              "      <td>73.8</td>\n",
              "      <td>18.9</td>\n",
              "      <td>29.6</td>\n",
              "      <td>0.42</td>\n",
              "    </tr>\n",
              "    <tr>\n",
              "      <th>6547</th>\n",
              "      <td>20200930</td>\n",
              "      <td>65</td>\n",
              "      <td>168</td>\n",
              "      <td>69.4</td>\n",
              "      <td>60.0</td>\n",
              "      <td>73.8</td>\n",
              "      <td>18.9</td>\n",
              "      <td>29.6</td>\n",
              "      <td>0.42</td>\n",
              "    </tr>\n",
              "    <tr>\n",
              "      <th>6548</th>\n",
              "      <td>20200930</td>\n",
              "      <td>52</td>\n",
              "      <td>123</td>\n",
              "      <td>69.4</td>\n",
              "      <td>60.0</td>\n",
              "      <td>73.8</td>\n",
              "      <td>18.9</td>\n",
              "      <td>29.6</td>\n",
              "      <td>0.42</td>\n",
              "    </tr>\n",
              "  </tbody>\n",
              "</table>\n",
              "<p>6549 rows × 9 columns</p>\n",
              "</div>"
            ],
            "text/plain": [
              "          date  customer  subscriber  ...  avg_wind_spd  avg_press  total_prec\n",
              "0     20200101        29          48  ...          15.5       29.6        0.04\n",
              "1     20200101        46          65  ...          15.5       29.6        0.04\n",
              "2     20200101        23          13  ...          15.5       29.6        0.04\n",
              "3     20200101         2           7  ...          15.5       29.6        0.04\n",
              "4     20200101         1           0  ...          15.5       29.6        0.04\n",
              "...        ...       ...         ...  ...           ...        ...         ...\n",
              "6544  20200930       141         512  ...          18.9       29.6        0.42\n",
              "6545  20200930        89         299  ...          18.9       29.6        0.42\n",
              "6546  20200930        70         210  ...          18.9       29.6        0.42\n",
              "6547  20200930        65         168  ...          18.9       29.6        0.42\n",
              "6548  20200930        52         123  ...          18.9       29.6        0.42\n",
              "\n",
              "[6549 rows x 9 columns]"
            ]
          },
          "metadata": {
            "tags": []
          },
          "execution_count": 29
        }
      ]
    },
    {
      "cell_type": "code",
      "metadata": {
        "id": "ecHldrtR-viG"
      },
      "source": [
        "# train test split the selected features and weather dataframe \n",
        "X_train_selected_weather, X_test_selected_weather, y_train_selected_weather, y_test_selected_weather = train_test_split(selected_df, target, random_state=3000)"
      ],
      "execution_count": null,
      "outputs": []
    },
    {
      "cell_type": "code",
      "metadata": {
        "id": "OEpYsWx6-viG"
      },
      "source": [
        "# preprocess the above train and test sets and since the features doesn't seem to include 'season' we won't do OHE here\n",
        "X_train_selected_weather, X_test_selected_weather = preprocess(X_train_selected_weather, X_test_selected_weather)"
      ],
      "execution_count": null,
      "outputs": []
    },
    {
      "cell_type": "markdown",
      "metadata": {
        "id": "4w7MF7Gz-viG"
      },
      "source": [
        "The training and test sets we will use in **Section 3.4. Hypothesis Testing** are:\n",
        "\n",
        "**All Features without weather:**\\\n",
        "X_train_scaled, X_test_scaled, y_train, y_test\n",
        "\n",
        "**All Features with weather:**\\\n",
        "X_train_weather_scaled, X_test_weather_scaled,  y_train_weather, y_test_weather\n",
        "\n",
        "**Selected features without weather:**\\\n",
        "X_train_selected, X_test_selected, y_train, y_test\n",
        "\n",
        "**Selected features with weather:**\\\n",
        "X_train_selected_weather, X_test_selected_weather, y_train_selected_weather, y_test_selected_weather"
      ]
    },
    {
      "cell_type": "markdown",
      "metadata": {
        "id": "sijKerhI-viG"
      },
      "source": [
        "### 3.2. Data Exploration\n",
        "The interactive graphs and images can be found on our GitHub Repo:\n",
        "https://github.com/VKong6019/ds3000-F20/tree/main/visualizations\n"
      ]
    },
    {
      "cell_type": "code",
      "metadata": {
        "id": "EznvOjOK-viG"
      },
      "source": [
        "# allow inline rendering just in case\n",
        "%matplotlib notebook\n",
        "import plotly.express as px\n",
        "import plotly\n",
        "from datetime import datetime"
      ],
      "execution_count": null,
      "outputs": []
    },
    {
      "cell_type": "markdown",
      "metadata": {
        "id": "NqbJJFBv-viG"
      },
      "source": [
        "#### Temperature vs. Bike Share Users: Scatter Plot"
      ]
    },
    {
      "cell_type": "code",
      "metadata": {
        "id": "BUBJzkeY-viG"
      },
      "source": [
        "# we'll need to organize the dataset a bit to better plot the graph\n",
        "# take the temperature, customer, and suscriber columns, then groupby the temperature\n",
        "bike_df_by_temp = bike_df_with_weather[['customer', 'subscriber', 'avg_temp']]\n",
        "bike_df_by_temp = bike_df_by_temp.groupby(by='avg_temp').sum().reset_index()"
      ],
      "execution_count": null,
      "outputs": []
    },
    {
      "cell_type": "code",
      "metadata": {
        "id": "WsNZACLx-viG",
        "colab": {
          "base_uri": "https://localhost:8080/",
          "height": 415
        },
        "outputId": "54538a39-348d-454c-bd1a-39abcf124a08"
      },
      "source": [
        "bike_df_by_temp"
      ],
      "execution_count": null,
      "outputs": [
        {
          "output_type": "execute_result",
          "data": {
            "text/html": [
              "<div>\n",
              "<style scoped>\n",
              "    .dataframe tbody tr th:only-of-type {\n",
              "        vertical-align: middle;\n",
              "    }\n",
              "\n",
              "    .dataframe tbody tr th {\n",
              "        vertical-align: top;\n",
              "    }\n",
              "\n",
              "    .dataframe thead th {\n",
              "        text-align: right;\n",
              "    }\n",
              "</style>\n",
              "<table border=\"1\" class=\"dataframe\">\n",
              "  <thead>\n",
              "    <tr style=\"text-align: right;\">\n",
              "      <th></th>\n",
              "      <th>avg_temp</th>\n",
              "      <th>customer</th>\n",
              "      <th>subscriber</th>\n",
              "    </tr>\n",
              "  </thead>\n",
              "  <tbody>\n",
              "    <tr>\n",
              "      <th>0</th>\n",
              "      <td>20.6</td>\n",
              "      <td>178</td>\n",
              "      <td>2876</td>\n",
              "    </tr>\n",
              "    <tr>\n",
              "      <th>1</th>\n",
              "      <td>22.0</td>\n",
              "      <td>334</td>\n",
              "      <td>1969</td>\n",
              "    </tr>\n",
              "    <tr>\n",
              "      <th>2</th>\n",
              "      <td>22.3</td>\n",
              "      <td>191</td>\n",
              "      <td>1285</td>\n",
              "    </tr>\n",
              "    <tr>\n",
              "      <th>3</th>\n",
              "      <td>23.3</td>\n",
              "      <td>188</td>\n",
              "      <td>3777</td>\n",
              "    </tr>\n",
              "    <tr>\n",
              "      <th>4</th>\n",
              "      <td>23.8</td>\n",
              "      <td>149</td>\n",
              "      <td>1968</td>\n",
              "    </tr>\n",
              "    <tr>\n",
              "      <th>...</th>\n",
              "      <td>...</td>\n",
              "      <td>...</td>\n",
              "      <td>...</td>\n",
              "    </tr>\n",
              "    <tr>\n",
              "      <th>210</th>\n",
              "      <td>82.8</td>\n",
              "      <td>2188</td>\n",
              "      <td>6518</td>\n",
              "    </tr>\n",
              "    <tr>\n",
              "      <th>211</th>\n",
              "      <td>83.5</td>\n",
              "      <td>1773</td>\n",
              "      <td>5295</td>\n",
              "    </tr>\n",
              "    <tr>\n",
              "      <th>212</th>\n",
              "      <td>83.8</td>\n",
              "      <td>2292</td>\n",
              "      <td>6150</td>\n",
              "    </tr>\n",
              "    <tr>\n",
              "      <th>213</th>\n",
              "      <td>86.0</td>\n",
              "      <td>2026</td>\n",
              "      <td>5725</td>\n",
              "    </tr>\n",
              "    <tr>\n",
              "      <th>214</th>\n",
              "      <td>86.2</td>\n",
              "      <td>1831</td>\n",
              "      <td>5445</td>\n",
              "    </tr>\n",
              "  </tbody>\n",
              "</table>\n",
              "<p>215 rows × 3 columns</p>\n",
              "</div>"
            ],
            "text/plain": [
              "     avg_temp  customer  subscriber\n",
              "0        20.6       178        2876\n",
              "1        22.0       334        1969\n",
              "2        22.3       191        1285\n",
              "3        23.3       188        3777\n",
              "4        23.8       149        1968\n",
              "..        ...       ...         ...\n",
              "210      82.8      2188        6518\n",
              "211      83.5      1773        5295\n",
              "212      83.8      2292        6150\n",
              "213      86.0      2026        5725\n",
              "214      86.2      1831        5445\n",
              "\n",
              "[215 rows x 3 columns]"
            ]
          },
          "metadata": {
            "tags": []
          },
          "execution_count": 34
        }
      ]
    },
    {
      "cell_type": "code",
      "metadata": {
        "id": "UGASBHhC-viG",
        "colab": {
          "base_uri": "https://localhost:8080/",
          "height": 542
        },
        "outputId": "548e9c38-b4a8-47f8-b673-c2b11061da3d"
      },
      "source": [
        "# create a scatter plot for temperature and customer\n",
        "scatter_customer = px.scatter(bike_df_by_temp, x='avg_temp', y='customer', size='customer', size_max=25,\n",
        "                              template='none', title='Relationship between Temperature and Customers')\n",
        "# update the chart to make it easier to read (and cool to look at)\n",
        "scatter_customer.update_xaxes(title='Average Temperature (°F)', title_font={\"size\":18, \"family\": \"Courier\", \"color\":\"gray\"},\n",
        "                tickfont={'size':16, 'family': 'Courier', 'color':'gray'}, showgrid=False)\n",
        "scatter_customer.update_yaxes(title='Count of Customers', title_font={\"size\":18, \"family\": \"Courier\", \"color\":\"gray\"},\n",
        "                tickfont={'size':16, 'family': 'Courier', 'color':'gray'})\n",
        "\n",
        "scatter_customer.show()"
      ],
      "execution_count": null,
      "outputs": [
        {
          "output_type": "display_data",
          "data": {
            "text/html": [
              "<html>\n",
              "<head><meta charset=\"utf-8\" /></head>\n",
              "<body>\n",
              "    <div>\n",
              "            <script src=\"https://cdnjs.cloudflare.com/ajax/libs/mathjax/2.7.5/MathJax.js?config=TeX-AMS-MML_SVG\"></script><script type=\"text/javascript\">if (window.MathJax) {MathJax.Hub.Config({SVG: {font: \"STIX-Web\"}});}</script>\n",
              "                <script type=\"text/javascript\">window.PlotlyConfig = {MathJaxConfig: 'local'};</script>\n",
              "        <script src=\"https://cdn.plot.ly/plotly-latest.min.js\"></script>    \n",
              "            <div id=\"3fac262a-a0bb-4d56-89ee-b489d0bcf574\" class=\"plotly-graph-div\" style=\"height:525px; width:100%;\"></div>\n",
              "            <script type=\"text/javascript\">\n",
              "                \n",
              "                    window.PLOTLYENV=window.PLOTLYENV || {};\n",
              "                    \n",
              "                if (document.getElementById(\"3fac262a-a0bb-4d56-89ee-b489d0bcf574\")) {\n",
              "                    Plotly.newPlot(\n",
              "                        '3fac262a-a0bb-4d56-89ee-b489d0bcf574',\n",
              "                        [{\"hoverlabel\": {\"namelength\": 0}, \"hovertemplate\": \"avg_temp=%{x}<br>customer=%{marker.size}\", \"legendgroup\": \"\", \"marker\": {\"color\": \"#1F77B4\", \"size\": [178, 334, 191, 188, 149, 415, 291, 290, 241, 348, 596, 1202, 306, 282, 316, 202, 481, 301, 107, 523, 327, 311, 117, 289, 267, 764, 582, 570, 670, 347, 1379, 515, 1230, 1083, 184, 1100, 347, 451, 114, 1257, 506, 740, 38, 1040, 647, 781, 434, 772, 384, 97, 229, 1365, 486, 370, 443, 118, 431, 1146, 641, 47, 278, 799, 136, 493, 1507, 806, 243, 367, 2359, 1575, 1438, 605, 508, 337, 256, 1321, 547, 535, 597, 817, 2080, 1003, 410, 530, 1228, 679, 1831, 504, 2672, 898, 1039, 962, 299, 776, 1022, 1959, 627, 551, 1290, 3300, 635, 786, 781, 935, 786, 5634, 1409, 2396, 1889, 3416, 1317, 58, 1735, 1692, 1639, 2565, 1665, 1751, 3799, 2846, 1811, 3117, 6159, 2821, 1858, 866, 1949, 6009, 1229, 2067, 3456, 2174, 1473, 4491, 6294, 4467, 1354, 2767, 2896, 2561, 2436, 4543, 6994, 3271, 1144, 2312, 2552, 6831, 2830, 2340, 2331, 5970, 4415, 2781, 6438, 6526, 2216, 2108, 5048, 3536, 11271, 4463, 1588, 2633, 3188, 4626, 6849, 4265, 2066, 6387, 3607, 5276, 2213, 2291, 2934, 1914, 1984, 4950, 3034, 3291, 1838, 2116, 4769, 4413, 2781, 8742, 1533, 2568, 3728, 5112, 2268, 2852, 1817, 3239, 1944, 6058, 9763, 17518, 2293, 2429, 2300, 4551, 2438, 2502, 3858, 3666, 2318, 3142, 4479, 3820, 2188, 1773, 2292, 2026, 1831], \"sizemode\": \"area\", \"sizeref\": 28.0288, \"symbol\": \"circle\"}, \"mode\": \"markers\", \"name\": \"\", \"showlegend\": false, \"type\": \"scatter\", \"x\": [20.6, 22.0, 22.3, 23.3, 23.8, 25.8, 25.9, 26.9, 28.1, 28.7, 28.8, 29.9, 30.3, 30.4, 31.3, 32.3, 33.4, 34.3, 34.7, 35.1, 35.5, 35.7, 36.3, 37.0, 37.1, 37.3, 37.6, 38.0, 38.1, 38.2, 38.4, 38.7, 38.9, 39.0, 39.2, 39.4, 39.5, 39.6, 39.7, 39.8, 39.9, 40.0, 40.3, 40.5, 40.6, 40.7, 40.8, 41.2, 41.3, 41.6, 41.7, 42.0, 42.1, 42.2, 42.3, 42.4, 42.6, 42.8, 42.9, 43.2, 43.5, 43.6, 43.8, 43.9, 44.2, 44.3, 44.4, 44.6, 44.8, 44.9, 45.0, 45.1, 45.3, 45.4, 45.7, 46.0, 46.1, 46.3, 46.5, 46.6, 46.9, 47.7, 47.9, 48.1, 48.5, 48.6, 48.7, 48.8, 49.6, 49.7, 49.9, 50.2, 50.4, 50.5, 50.7, 50.9, 51.1, 51.4, 51.5, 51.9, 52.1, 52.4, 52.5, 52.8, 52.9, 53.0, 53.1, 55.7, 55.8, 56.0, 56.3, 56.8, 56.9, 57.4, 57.6, 57.9, 58.3, 58.7, 59.2, 59.4, 59.5, 59.6, 59.9, 60.0, 60.2, 60.8, 61.1, 61.5, 61.8, 62.1, 62.6, 62.7, 62.8, 63.0, 63.4, 63.9, 64.3, 64.5, 64.8, 64.9, 65.0, 65.2, 65.3, 65.5, 66.0, 66.1, 66.2, 66.3, 66.5, 66.7, 67.3, 67.6, 67.7, 67.8, 68.2, 68.4, 68.5, 68.6, 68.7, 68.8, 69.0, 69.2, 69.4, 69.5, 69.6, 69.8, 70.0, 70.2, 70.3, 70.8, 71.1, 71.2, 71.3, 71.5, 71.8, 71.9, 72.0, 72.2, 72.6, 72.7, 72.9, 73.3, 73.5, 73.7, 73.9, 74.0, 74.5, 74.6, 75.1, 75.4, 75.7, 75.8, 76.1, 76.2, 76.3, 76.5, 76.8, 77.2, 77.5, 78.2, 78.3, 78.7, 79.3, 79.9, 80.1, 80.2, 80.9, 82.2, 82.5, 82.6, 82.8, 83.5, 83.8, 86.0, 86.2], \"xaxis\": \"x\", \"y\": [178, 334, 191, 188, 149, 415, 291, 290, 241, 348, 596, 1202, 306, 282, 316, 202, 481, 301, 107, 523, 327, 311, 117, 289, 267, 764, 582, 570, 670, 347, 1379, 515, 1230, 1083, 184, 1100, 347, 451, 114, 1257, 506, 740, 38, 1040, 647, 781, 434, 772, 384, 97, 229, 1365, 486, 370, 443, 118, 431, 1146, 641, 47, 278, 799, 136, 493, 1507, 806, 243, 367, 2359, 1575, 1438, 605, 508, 337, 256, 1321, 547, 535, 597, 817, 2080, 1003, 410, 530, 1228, 679, 1831, 504, 2672, 898, 1039, 962, 299, 776, 1022, 1959, 627, 551, 1290, 3300, 635, 786, 781, 935, 786, 5634, 1409, 2396, 1889, 3416, 1317, 58, 1735, 1692, 1639, 2565, 1665, 1751, 3799, 2846, 1811, 3117, 6159, 2821, 1858, 866, 1949, 6009, 1229, 2067, 3456, 2174, 1473, 4491, 6294, 4467, 1354, 2767, 2896, 2561, 2436, 4543, 6994, 3271, 1144, 2312, 2552, 6831, 2830, 2340, 2331, 5970, 4415, 2781, 6438, 6526, 2216, 2108, 5048, 3536, 11271, 4463, 1588, 2633, 3188, 4626, 6849, 4265, 2066, 6387, 3607, 5276, 2213, 2291, 2934, 1914, 1984, 4950, 3034, 3291, 1838, 2116, 4769, 4413, 2781, 8742, 1533, 2568, 3728, 5112, 2268, 2852, 1817, 3239, 1944, 6058, 9763, 17518, 2293, 2429, 2300, 4551, 2438, 2502, 3858, 3666, 2318, 3142, 4479, 3820, 2188, 1773, 2292, 2026, 1831], \"yaxis\": \"y\"}],\n",
              "                        {\"legend\": {\"itemsizing\": \"constant\", \"tracegroupgap\": 0}, \"template\": {\"data\": {\"scatter\": [{\"type\": \"scatter\"}]}}, \"title\": {\"text\": \"Relationship between Temperature and Customers\"}, \"xaxis\": {\"anchor\": \"y\", \"domain\": [0.0, 1.0], \"showgrid\": false, \"tickfont\": {\"color\": \"gray\", \"family\": \"Courier\", \"size\": 16}, \"title\": {\"font\": {\"color\": \"gray\", \"family\": \"Courier\", \"size\": 18}, \"text\": \"Average Temperature (\\u00b0F)\"}}, \"yaxis\": {\"anchor\": \"x\", \"domain\": [0.0, 1.0], \"tickfont\": {\"color\": \"gray\", \"family\": \"Courier\", \"size\": 16}, \"title\": {\"font\": {\"color\": \"gray\", \"family\": \"Courier\", \"size\": 18}, \"text\": \"Count of Customers\"}}},\n",
              "                        {\"responsive\": true}\n",
              "                    ).then(function(){\n",
              "                            \n",
              "var gd = document.getElementById('3fac262a-a0bb-4d56-89ee-b489d0bcf574');\n",
              "var x = new MutationObserver(function (mutations, observer) {{\n",
              "        var display = window.getComputedStyle(gd).display;\n",
              "        if (!display || display === 'none') {{\n",
              "            console.log([gd, 'removed!']);\n",
              "            Plotly.purge(gd);\n",
              "            observer.disconnect();\n",
              "        }}\n",
              "}});\n",
              "\n",
              "// Listen for the removal of the full notebook cells\n",
              "var notebookContainer = gd.closest('#notebook-container');\n",
              "if (notebookContainer) {{\n",
              "    x.observe(notebookContainer, {childList: true});\n",
              "}}\n",
              "\n",
              "// Listen for the clearing of the current output cell\n",
              "var outputEl = gd.closest('.output');\n",
              "if (outputEl) {{\n",
              "    x.observe(outputEl, {childList: true});\n",
              "}}\n",
              "\n",
              "                        })\n",
              "                };\n",
              "                \n",
              "            </script>\n",
              "        </div>\n",
              "</body>\n",
              "</html>"
            ]
          },
          "metadata": {
            "tags": []
          }
        }
      ]
    },
    {
      "cell_type": "markdown",
      "metadata": {
        "id": "1MiAYyRx63e7"
      },
      "source": [
        "![scatterplot](https://raw.githubusercontent.com/VKong6019/ds3000-F20/main/visualizations/scatter_customer.png)\r\n",
        "\r\n",
        "GitHub Link to Scatter Plot: https://raw.githubusercontent.com/VKong6019/ds3000-F20/main/visualizations/scatter_customer.png"
      ]
    },
    {
      "cell_type": "code",
      "metadata": {
        "id": "KBNdKghD-viG",
        "colab": {
          "base_uri": "https://localhost:8080/",
          "height": 35
        },
        "outputId": "c7c56cca-b384-4898-945d-61800ef704f7"
      },
      "source": [
        "plotly.offline.plot(scatter_customer, filename='customer_scatter.html')"
      ],
      "execution_count": null,
      "outputs": [
        {
          "output_type": "execute_result",
          "data": {
            "application/vnd.google.colaboratory.intrinsic+json": {
              "type": "string"
            },
            "text/plain": [
              "'customer_scatter.html'"
            ]
          },
          "metadata": {
            "tags": []
          },
          "execution_count": 36
        }
      ]
    },
    {
      "cell_type": "code",
      "metadata": {
        "id": "nc-pkbR8-viG",
        "colab": {
          "base_uri": "https://localhost:8080/",
          "height": 542
        },
        "outputId": "bfd8118d-5405-4c7f-f27f-7fb8a2f552f8"
      },
      "source": [
        "# create a scatter plot for temperature and subscriber\n",
        "scatter_subscriber = px.scatter(bike_df_by_temp, x='avg_temp', y='subscriber', size='subscriber', size_max=25,\n",
        "                              template='none', title='Relationship between Temperature and Subscriber')\n",
        "# update the chart to make it easier to read (and cool to look at)\n",
        "scatter_subscriber.update_xaxes(title='Average Temperature (°F)', title_font={\"size\":18, \"family\": \"Courier\", \"color\":\"gray\"},\n",
        "                tickfont={'size':16, 'family': 'Courier', 'color':'gray'}, showgrid=False)\n",
        "scatter_subscriber.update_yaxes(title='Count of Subscriber', title_font={\"size\":18, \"family\": \"Courier\", \"color\":\"gray\"},\n",
        "                tickfont={'size':16, 'family': 'Courier', 'color':'gray'})\n",
        "\n",
        "scatter_subscriber.show()"
      ],
      "execution_count": null,
      "outputs": [
        {
          "output_type": "display_data",
          "data": {
            "text/html": [
              "<html>\n",
              "<head><meta charset=\"utf-8\" /></head>\n",
              "<body>\n",
              "    <div>\n",
              "            <script src=\"https://cdnjs.cloudflare.com/ajax/libs/mathjax/2.7.5/MathJax.js?config=TeX-AMS-MML_SVG\"></script><script type=\"text/javascript\">if (window.MathJax) {MathJax.Hub.Config({SVG: {font: \"STIX-Web\"}});}</script>\n",
              "                <script type=\"text/javascript\">window.PlotlyConfig = {MathJaxConfig: 'local'};</script>\n",
              "        <script src=\"https://cdn.plot.ly/plotly-latest.min.js\"></script>    \n",
              "            <div id=\"00464d28-0102-450a-9b9f-3b10cfcf814b\" class=\"plotly-graph-div\" style=\"height:525px; width:100%;\"></div>\n",
              "            <script type=\"text/javascript\">\n",
              "                \n",
              "                    window.PLOTLYENV=window.PLOTLYENV || {};\n",
              "                    \n",
              "                if (document.getElementById(\"00464d28-0102-450a-9b9f-3b10cfcf814b\")) {\n",
              "                    Plotly.newPlot(\n",
              "                        '00464d28-0102-450a-9b9f-3b10cfcf814b',\n",
              "                        [{\"hoverlabel\": {\"namelength\": 0}, \"hovertemplate\": \"avg_temp=%{x}<br>subscriber=%{marker.size}\", \"legendgroup\": \"\", \"marker\": {\"color\": \"#1F77B4\", \"size\": [2876, 1969, 1285, 3777, 1968, 2391, 4175, 4093, 3849, 4858, 2649, 5751, 4757, 4439, 1922, 1451, 4955, 4213, 555, 1961, 5260, 997, 553, 1637, 4382, 5944, 5130, 7826, 2818, 4938, 7155, 2383, 11038, 4617, 3413, 8782, 5276, 1165, 611, 9119, 4851, 6068, 313, 4440, 5476, 1621, 3337, 7343, 5339, 577, 4209, 3918, 5943, 1210, 5710, 687, 5364, 1534, 2005, 341, 736, 6362, 710, 4595, 2985, 1495, 4050, 4292, 6620, 7709, 3105, 1517, 5994, 1131, 1097, 3809, 1626, 6038, 6094, 5980, 2355, 1746, 2863, 3799, 1523, 1807, 2011, 1533, 2871, 2097, 6812, 6686, 1060, 1911, 2213, 2467, 1301, 1476, 2436, 5757, 1353, 1412, 1862, 1975, 2013, 8378, 6538, 2498, 7478, 9836, 2893, 266, 3155, 6979, 2259, 2625, 2591, 3892, 4618, 7724, 2984, 3055, 8242, 3653, 3484, 1675, 4016, 6997, 2312, 7592, 8315, 4451, 5469, 4956, 7880, 6710, 4005, 6280, 8093, 6268, 7106, 11240, 9269, 2923, 4801, 5074, 7361, 18008, 7395, 4231, 7726, 9770, 11614, 7760, 17505, 6157, 5330, 6330, 12790, 9950, 19889, 15808, 6500, 3325, 6796, 6668, 11635, 10383, 3151, 9809, 4091, 6821, 6973, 4479, 4457, 3513, 5701, 8841, 4194, 7014, 3159, 4861, 11751, 6026, 4703, 17895, 5075, 10062, 7990, 6870, 6824, 6958, 5217, 7308, 5023, 10377, 16330, 27393, 5627, 7270, 6269, 5374, 6688, 6923, 5251, 4697, 6550, 4526, 12093, 5310, 6518, 5295, 6150, 5725, 5445], \"sizemode\": \"area\", \"sizeref\": 43.8288, \"symbol\": \"circle\"}, \"mode\": \"markers\", \"name\": \"\", \"showlegend\": false, \"type\": \"scatter\", \"x\": [20.6, 22.0, 22.3, 23.3, 23.8, 25.8, 25.9, 26.9, 28.1, 28.7, 28.8, 29.9, 30.3, 30.4, 31.3, 32.3, 33.4, 34.3, 34.7, 35.1, 35.5, 35.7, 36.3, 37.0, 37.1, 37.3, 37.6, 38.0, 38.1, 38.2, 38.4, 38.7, 38.9, 39.0, 39.2, 39.4, 39.5, 39.6, 39.7, 39.8, 39.9, 40.0, 40.3, 40.5, 40.6, 40.7, 40.8, 41.2, 41.3, 41.6, 41.7, 42.0, 42.1, 42.2, 42.3, 42.4, 42.6, 42.8, 42.9, 43.2, 43.5, 43.6, 43.8, 43.9, 44.2, 44.3, 44.4, 44.6, 44.8, 44.9, 45.0, 45.1, 45.3, 45.4, 45.7, 46.0, 46.1, 46.3, 46.5, 46.6, 46.9, 47.7, 47.9, 48.1, 48.5, 48.6, 48.7, 48.8, 49.6, 49.7, 49.9, 50.2, 50.4, 50.5, 50.7, 50.9, 51.1, 51.4, 51.5, 51.9, 52.1, 52.4, 52.5, 52.8, 52.9, 53.0, 53.1, 55.7, 55.8, 56.0, 56.3, 56.8, 56.9, 57.4, 57.6, 57.9, 58.3, 58.7, 59.2, 59.4, 59.5, 59.6, 59.9, 60.0, 60.2, 60.8, 61.1, 61.5, 61.8, 62.1, 62.6, 62.7, 62.8, 63.0, 63.4, 63.9, 64.3, 64.5, 64.8, 64.9, 65.0, 65.2, 65.3, 65.5, 66.0, 66.1, 66.2, 66.3, 66.5, 66.7, 67.3, 67.6, 67.7, 67.8, 68.2, 68.4, 68.5, 68.6, 68.7, 68.8, 69.0, 69.2, 69.4, 69.5, 69.6, 69.8, 70.0, 70.2, 70.3, 70.8, 71.1, 71.2, 71.3, 71.5, 71.8, 71.9, 72.0, 72.2, 72.6, 72.7, 72.9, 73.3, 73.5, 73.7, 73.9, 74.0, 74.5, 74.6, 75.1, 75.4, 75.7, 75.8, 76.1, 76.2, 76.3, 76.5, 76.8, 77.2, 77.5, 78.2, 78.3, 78.7, 79.3, 79.9, 80.1, 80.2, 80.9, 82.2, 82.5, 82.6, 82.8, 83.5, 83.8, 86.0, 86.2], \"xaxis\": \"x\", \"y\": [2876, 1969, 1285, 3777, 1968, 2391, 4175, 4093, 3849, 4858, 2649, 5751, 4757, 4439, 1922, 1451, 4955, 4213, 555, 1961, 5260, 997, 553, 1637, 4382, 5944, 5130, 7826, 2818, 4938, 7155, 2383, 11038, 4617, 3413, 8782, 5276, 1165, 611, 9119, 4851, 6068, 313, 4440, 5476, 1621, 3337, 7343, 5339, 577, 4209, 3918, 5943, 1210, 5710, 687, 5364, 1534, 2005, 341, 736, 6362, 710, 4595, 2985, 1495, 4050, 4292, 6620, 7709, 3105, 1517, 5994, 1131, 1097, 3809, 1626, 6038, 6094, 5980, 2355, 1746, 2863, 3799, 1523, 1807, 2011, 1533, 2871, 2097, 6812, 6686, 1060, 1911, 2213, 2467, 1301, 1476, 2436, 5757, 1353, 1412, 1862, 1975, 2013, 8378, 6538, 2498, 7478, 9836, 2893, 266, 3155, 6979, 2259, 2625, 2591, 3892, 4618, 7724, 2984, 3055, 8242, 3653, 3484, 1675, 4016, 6997, 2312, 7592, 8315, 4451, 5469, 4956, 7880, 6710, 4005, 6280, 8093, 6268, 7106, 11240, 9269, 2923, 4801, 5074, 7361, 18008, 7395, 4231, 7726, 9770, 11614, 7760, 17505, 6157, 5330, 6330, 12790, 9950, 19889, 15808, 6500, 3325, 6796, 6668, 11635, 10383, 3151, 9809, 4091, 6821, 6973, 4479, 4457, 3513, 5701, 8841, 4194, 7014, 3159, 4861, 11751, 6026, 4703, 17895, 5075, 10062, 7990, 6870, 6824, 6958, 5217, 7308, 5023, 10377, 16330, 27393, 5627, 7270, 6269, 5374, 6688, 6923, 5251, 4697, 6550, 4526, 12093, 5310, 6518, 5295, 6150, 5725, 5445], \"yaxis\": \"y\"}],\n",
              "                        {\"legend\": {\"itemsizing\": \"constant\", \"tracegroupgap\": 0}, \"template\": {\"data\": {\"scatter\": [{\"type\": \"scatter\"}]}}, \"title\": {\"text\": \"Relationship between Temperature and Subscriber\"}, \"xaxis\": {\"anchor\": \"y\", \"domain\": [0.0, 1.0], \"showgrid\": false, \"tickfont\": {\"color\": \"gray\", \"family\": \"Courier\", \"size\": 16}, \"title\": {\"font\": {\"color\": \"gray\", \"family\": \"Courier\", \"size\": 18}, \"text\": \"Average Temperature (\\u00b0F)\"}}, \"yaxis\": {\"anchor\": \"x\", \"domain\": [0.0, 1.0], \"tickfont\": {\"color\": \"gray\", \"family\": \"Courier\", \"size\": 16}, \"title\": {\"font\": {\"color\": \"gray\", \"family\": \"Courier\", \"size\": 18}, \"text\": \"Count of Subscriber\"}}},\n",
              "                        {\"responsive\": true}\n",
              "                    ).then(function(){\n",
              "                            \n",
              "var gd = document.getElementById('00464d28-0102-450a-9b9f-3b10cfcf814b');\n",
              "var x = new MutationObserver(function (mutations, observer) {{\n",
              "        var display = window.getComputedStyle(gd).display;\n",
              "        if (!display || display === 'none') {{\n",
              "            console.log([gd, 'removed!']);\n",
              "            Plotly.purge(gd);\n",
              "            observer.disconnect();\n",
              "        }}\n",
              "}});\n",
              "\n",
              "// Listen for the removal of the full notebook cells\n",
              "var notebookContainer = gd.closest('#notebook-container');\n",
              "if (notebookContainer) {{\n",
              "    x.observe(notebookContainer, {childList: true});\n",
              "}}\n",
              "\n",
              "// Listen for the clearing of the current output cell\n",
              "var outputEl = gd.closest('.output');\n",
              "if (outputEl) {{\n",
              "    x.observe(outputEl, {childList: true});\n",
              "}}\n",
              "\n",
              "                        })\n",
              "                };\n",
              "                \n",
              "            </script>\n",
              "        </div>\n",
              "</body>\n",
              "</html>"
            ]
          },
          "metadata": {
            "tags": []
          }
        }
      ]
    },
    {
      "cell_type": "markdown",
      "metadata": {
        "id": "NuT4iQwW0B1G"
      },
      "source": [
        "![scatter plot](https://raw.githubusercontent.com/VKong6019/ds3000-F20/main/visualizations/scatter_subscriber.png)\r\n",
        "\r\n",
        "GitHub Link to Scatter Plot: https://raw.githubusercontent.com/VKong6019/ds3000-F20/main/visualizations/scatter_subscriber.png"
      ]
    },
    {
      "cell_type": "code",
      "metadata": {
        "id": "ehudytHC-viH",
        "colab": {
          "base_uri": "https://localhost:8080/",
          "height": 35
        },
        "outputId": "c55fb4dd-4646-4056-9aaa-50e6b2d7d8ed"
      },
      "source": [
        "plotly.offline.plot(scatter_subscriber, filename='subscriber_scatter.html')"
      ],
      "execution_count": null,
      "outputs": [
        {
          "output_type": "execute_result",
          "data": {
            "application/vnd.google.colaboratory.intrinsic+json": {
              "type": "string"
            },
            "text/plain": [
              "'subscriber_scatter.html'"
            ]
          },
          "metadata": {
            "tags": []
          },
          "execution_count": 38
        }
      ]
    },
    {
      "cell_type": "markdown",
      "metadata": {
        "id": "NYxvg4Fg-viI"
      },
      "source": [
        "##### Interpretation\n",
        "The two scatterplot graphs above illustrate the relationships between *1) temperature and number of bikeshare users*, and *2) temperature and number of bikeshare subscribers*.\n",
        "\n",
        "These graphs were applied to the average temperature, measured in Fahrenheit (x-axis), to compare the trends between two user types: subscribers and customers (y-axis). The size of the data points on the graph represents the quantity of bike trips. Interestingly, the temperature seems to correlate with the number of bikesharers, as both graphs indicate that at higher temperatures, more bike trips were taken, which is shown as the clusters are more frequent and larger in both scatterplots.\n",
        "\n",
        "In the subscriber's scatterplot, the number of bike trips seems to have more visibility than the customer one. That leads to the conclusion that the type of user has a correlation to how frequent bike trips will occur considering the temperature.\n",
        "\n",
        "Based on the data shown, it can be concluded that bikesharers are less likely to take bike trips during colder temperatures than warmer temperatures."
      ]
    },
    {
      "cell_type": "markdown",
      "metadata": {
        "id": "AEp_NBjo-viI"
      },
      "source": [
        "#### Date vs. Bike Share Users: Line Chart"
      ]
    },
    {
      "cell_type": "code",
      "metadata": {
        "id": "I9h2YFyb-viI",
        "colab": {
          "base_uri": "https://localhost:8080/",
          "height": 415
        },
        "outputId": "b3518136-0cae-4c8e-8f77-ced0a6b8fbe8"
      },
      "source": [
        "# the original df was organized by date AND hour, so we'll need to modify the df a bit to better graph it\n",
        "# take the date, customer, and subscriber columns\n",
        "bike_df_by_date = bike_df[['date', 'customer', 'subscriber']]\n",
        "bike_df_by_date = bike_df_by_date.groupby(by='date').sum().reset_index()\n",
        "# melt the dataframe so we can use customer and suscriber together as a usertype\n",
        "melted_df = bike_df_by_date.melt(id_vars=['date'], var_name='usertype', value_name='count')\n",
        "# format the date so that it's easier to read and remove the year since all the months are in the same year\n",
        "melted_df['date'] = melted_df['date'].apply(lambda x : datetime.strptime(str(x), '%Y%m%d').strftime('%m/%d').lstrip('0'))\n",
        "melted_df"
      ],
      "execution_count": null,
      "outputs": [
        {
          "output_type": "execute_result",
          "data": {
            "text/html": [
              "<div>\n",
              "<style scoped>\n",
              "    .dataframe tbody tr th:only-of-type {\n",
              "        vertical-align: middle;\n",
              "    }\n",
              "\n",
              "    .dataframe tbody tr th {\n",
              "        vertical-align: top;\n",
              "    }\n",
              "\n",
              "    .dataframe thead th {\n",
              "        text-align: right;\n",
              "    }\n",
              "</style>\n",
              "<table border=\"1\" class=\"dataframe\">\n",
              "  <thead>\n",
              "    <tr style=\"text-align: right;\">\n",
              "      <th></th>\n",
              "      <th>date</th>\n",
              "      <th>usertype</th>\n",
              "      <th>count</th>\n",
              "    </tr>\n",
              "  </thead>\n",
              "  <tbody>\n",
              "    <tr>\n",
              "      <th>0</th>\n",
              "      <td>1/01</td>\n",
              "      <td>customer</td>\n",
              "      <td>424</td>\n",
              "    </tr>\n",
              "    <tr>\n",
              "      <th>1</th>\n",
              "      <td>1/02</td>\n",
              "      <td>customer</td>\n",
              "      <td>434</td>\n",
              "    </tr>\n",
              "    <tr>\n",
              "      <th>2</th>\n",
              "      <td>1/03</td>\n",
              "      <td>customer</td>\n",
              "      <td>530</td>\n",
              "    </tr>\n",
              "    <tr>\n",
              "      <th>3</th>\n",
              "      <td>1/04</td>\n",
              "      <td>customer</td>\n",
              "      <td>229</td>\n",
              "    </tr>\n",
              "    <tr>\n",
              "      <th>4</th>\n",
              "      <td>1/05</td>\n",
              "      <td>customer</td>\n",
              "      <td>289</td>\n",
              "    </tr>\n",
              "    <tr>\n",
              "      <th>...</th>\n",
              "      <td>...</td>\n",
              "      <td>...</td>\n",
              "      <td>...</td>\n",
              "    </tr>\n",
              "    <tr>\n",
              "      <th>543</th>\n",
              "      <td>9/26</td>\n",
              "      <td>subscriber</td>\n",
              "      <td>7880</td>\n",
              "    </tr>\n",
              "    <tr>\n",
              "      <th>544</th>\n",
              "      <td>9/27</td>\n",
              "      <td>subscriber</td>\n",
              "      <td>6610</td>\n",
              "    </tr>\n",
              "    <tr>\n",
              "      <th>545</th>\n",
              "      <td>9/28</td>\n",
              "      <td>subscriber</td>\n",
              "      <td>7002</td>\n",
              "    </tr>\n",
              "    <tr>\n",
              "      <th>546</th>\n",
              "      <td>9/29</td>\n",
              "      <td>subscriber</td>\n",
              "      <td>7880</td>\n",
              "    </tr>\n",
              "    <tr>\n",
              "      <th>547</th>\n",
              "      <td>9/30</td>\n",
              "      <td>subscriber</td>\n",
              "      <td>6500</td>\n",
              "    </tr>\n",
              "  </tbody>\n",
              "</table>\n",
              "<p>548 rows × 3 columns</p>\n",
              "</div>"
            ],
            "text/plain": [
              "     date    usertype  count\n",
              "0    1/01    customer    424\n",
              "1    1/02    customer    434\n",
              "2    1/03    customer    530\n",
              "3    1/04    customer    229\n",
              "4    1/05    customer    289\n",
              "..    ...         ...    ...\n",
              "543  9/26  subscriber   7880\n",
              "544  9/27  subscriber   6610\n",
              "545  9/28  subscriber   7002\n",
              "546  9/29  subscriber   7880\n",
              "547  9/30  subscriber   6500\n",
              "\n",
              "[548 rows x 3 columns]"
            ]
          },
          "metadata": {
            "tags": []
          },
          "execution_count": 39
        }
      ]
    },
    {
      "cell_type": "code",
      "metadata": {
        "id": "qR9MIMQg-viJ",
        "colab": {
          "base_uri": "https://localhost:8080/",
          "height": 542
        },
        "outputId": "98490e02-c7ec-4498-f04f-bae536cdda64"
      },
      "source": [
        "# create the line chart with the line group based on usertype (customer and suscriber)\n",
        "line_fg = px.line(melted_df, x='date', y='count', line_group='usertype', color='usertype',\n",
        "                 title='Customer and Subscriber Bike Trips by Date in 2020', template='none')\n",
        "# update the chart to make it easier to read (and cool to look at)\n",
        "line_fg.update_xaxes(title_font={\"size\":18, \"family\": \"Courier\", \"color\":\"gray\"},\n",
        "                tickfont={'size':16, 'family': 'Courier', 'color':'gray'}, showgrid=False, tickangle=45)\n",
        "line_fg.update_yaxes(title_font={\"size\":18, \"family\": \"Courier\", \"color\":\"gray\"},\n",
        "                tickfont={'size':16, 'family': 'Courier', 'color':'gray'})\n",
        "line_fg.update_traces(mode='lines+markers')\n",
        "#show the line chart!\n",
        "line_fg.show()"
      ],
      "execution_count": null,
      "outputs": [
        {
          "output_type": "display_data",
          "data": {
            "text/html": [
              "<html>\n",
              "<head><meta charset=\"utf-8\" /></head>\n",
              "<body>\n",
              "    <div>\n",
              "            <script src=\"https://cdnjs.cloudflare.com/ajax/libs/mathjax/2.7.5/MathJax.js?config=TeX-AMS-MML_SVG\"></script><script type=\"text/javascript\">if (window.MathJax) {MathJax.Hub.Config({SVG: {font: \"STIX-Web\"}});}</script>\n",
              "                <script type=\"text/javascript\">window.PlotlyConfig = {MathJaxConfig: 'local'};</script>\n",
              "        <script src=\"https://cdn.plot.ly/plotly-latest.min.js\"></script>    \n",
              "            <div id=\"4a38debd-e3a2-4bd2-bb7e-34358fbd8a3f\" class=\"plotly-graph-div\" style=\"height:525px; width:100%;\"></div>\n",
              "            <script type=\"text/javascript\">\n",
              "                \n",
              "                    window.PLOTLYENV=window.PLOTLYENV || {};\n",
              "                    \n",
              "                if (document.getElementById(\"4a38debd-e3a2-4bd2-bb7e-34358fbd8a3f\")) {\n",
              "                    Plotly.newPlot(\n",
              "                        '4a38debd-e3a2-4bd2-bb7e-34358fbd8a3f',\n",
              "                        [{\"hoverlabel\": {\"namelength\": 0}, \"hovertemplate\": \"usertype=customer<br>date=%{x}<br>count=%{y}\", \"legendgroup\": \"usertype=customer\", \"line\": {\"color\": \"#1F77B4\", \"dash\": \"solid\"}, \"mode\": \"lines+markers\", \"name\": \"usertype=customer\", \"showlegend\": true, \"type\": \"scatter\", \"x\": [\"1/01\", \"1/02\", \"1/03\", \"1/04\", \"1/05\", \"1/06\", \"1/07\", \"1/08\", \"1/09\", \"1/10\", \"1/11\", \"1/12\", \"1/13\", \"1/14\", \"1/15\", \"1/16\", \"1/17\", \"1/18\", \"1/19\", \"1/20\", \"1/21\", \"1/22\", \"1/23\", \"1/24\", \"1/25\", \"1/26\", \"1/27\", \"1/28\", \"1/29\", \"1/30\", \"1/31\", \"2/01\", \"2/02\", \"2/03\", \"2/04\", \"2/05\", \"2/06\", \"2/07\", \"2/08\", \"2/09\", \"2/10\", \"2/11\", \"2/12\", \"2/13\", \"2/14\", \"2/15\", \"2/16\", \"2/17\", \"2/18\", \"2/19\", \"2/20\", \"2/21\", \"2/22\", \"2/23\", \"2/24\", \"2/25\", \"2/26\", \"2/27\", \"2/28\", \"2/29\", \"3/01\", \"3/02\", \"3/03\", \"3/04\", \"3/05\", \"3/06\", \"3/07\", \"3/08\", \"3/09\", \"3/10\", \"3/11\", \"3/12\", \"3/13\", \"3/14\", \"3/15\", \"3/16\", \"3/17\", \"3/18\", \"3/19\", \"3/20\", \"3/21\", \"3/22\", \"3/23\", \"3/24\", \"3/25\", \"3/26\", \"3/27\", \"3/28\", \"3/29\", \"3/30\", \"3/31\", \"4/01\", \"4/02\", \"4/03\", \"4/04\", \"4/05\", \"4/06\", \"4/07\", \"4/08\", \"4/09\", \"4/10\", \"4/11\", \"4/12\", \"4/13\", \"4/14\", \"4/15\", \"4/16\", \"4/17\", \"4/18\", \"4/19\", \"4/20\", \"4/21\", \"4/22\", \"4/23\", \"4/24\", \"4/25\", \"4/26\", \"4/27\", \"4/28\", \"4/29\", \"4/30\", \"5/01\", \"5/02\", \"5/03\", \"5/04\", \"5/05\", \"5/06\", \"5/07\", \"5/08\", \"5/09\", \"5/10\", \"5/11\", \"5/12\", \"5/13\", \"5/14\", \"5/15\", \"5/16\", \"5/17\", \"5/18\", \"5/19\", \"5/20\", \"5/21\", \"5/22\", \"5/23\", \"5/24\", \"5/25\", \"5/26\", \"5/27\", \"5/28\", \"5/29\", \"5/30\", \"5/31\", \"6/01\", \"6/02\", \"6/03\", \"6/04\", \"6/05\", \"6/06\", \"6/07\", \"6/08\", \"6/09\", \"6/10\", \"6/11\", \"6/12\", \"6/13\", \"6/14\", \"6/15\", \"6/16\", \"6/17\", \"6/18\", \"6/19\", \"6/20\", \"6/21\", \"6/22\", \"6/23\", \"6/24\", \"6/25\", \"6/26\", \"6/27\", \"6/28\", \"6/29\", \"6/30\", \"7/01\", \"7/02\", \"7/03\", \"7/04\", \"7/05\", \"7/06\", \"7/07\", \"7/08\", \"7/09\", \"7/10\", \"7/11\", \"7/12\", \"7/13\", \"7/14\", \"7/15\", \"7/16\", \"7/17\", \"7/18\", \"7/19\", \"7/20\", \"7/21\", \"7/22\", \"7/23\", \"7/24\", \"7/25\", \"7/26\", \"7/27\", \"7/28\", \"7/29\", \"7/30\", \"7/31\", \"8/01\", \"8/02\", \"8/03\", \"8/04\", \"8/05\", \"8/06\", \"8/07\", \"8/08\", \"8/09\", \"8/10\", \"8/11\", \"8/12\", \"8/13\", \"8/14\", \"8/15\", \"8/16\", \"8/17\", \"8/18\", \"8/19\", \"8/20\", \"8/21\", \"8/22\", \"8/23\", \"8/24\", \"8/25\", \"8/26\", \"8/27\", \"8/28\", \"8/29\", \"8/30\", \"8/31\", \"9/01\", \"9/02\", \"9/03\", \"9/04\", \"9/05\", \"9/06\", \"9/07\", \"9/08\", \"9/09\", \"9/10\", \"9/11\", \"9/12\", \"9/13\", \"9/14\", \"9/15\", \"9/16\", \"9/17\", \"9/18\", \"9/19\", \"9/20\", \"9/21\", \"9/22\", \"9/23\", \"9/24\", \"9/25\", \"9/26\", \"9/27\", \"9/28\", \"9/29\", \"9/30\"], \"xaxis\": \"x\", \"y\": [424, 434, 530, 229, 289, 301, 371, 267, 241, 493, 1858, 1866, 290, 429, 538, 307, 178, 191, 202, 149, 188, 282, 347, 551, 435, 983, 431, 347, 327, 348, 543, 670, 653, 443, 486, 447, 199, 260, 395, 352, 243, 229, 443, 278, 290, 334, 515, 746, 184, 384, 306, 291, 826, 1695, 841, 597, 508, 367, 481, 596, 415, 516, 962, 535, 799, 582, 523, 1150, 1692, 1039, 817, 612, 410, 1355, 927, 316, 257, 641, 96, 781, 1146, 455, 107, 311, 199, 451, 786, 1006, 70, 114, 311, 221, 97, 47, 711, 763, 627, 635, 274, 83, 215, 806, 1228, 58, 551, 337, 294, 370, 117, 1831, 338, 136, 174, 501, 118, 2080, 278, 38, 329, 605, 256, 348, 2565, 3271, 866, 776, 547, 935, 504, 385, 1003, 299, 679, 898, 1665, 1229, 3117, 2396, 786, 1022, 1290, 1811, 2633, 1639, 2672, 1959, 1863, 2066, 1451, 1838, 3607, 4143, 1317, 1735, 1757, 1919, 1914, 2523, 2821, 1973, 1701, 1949, 818, 2781, 4491, 3799, 1751, 2174, 2217, 2164, 2919, 3666, 2888, 1908, 2116, 1810, 2475, 3139, 3034, 1858, 1129, 1354, 1853, 2802, 3232, 5086, 3585, 2312, 2216, 1944, 2293, 2427, 4721, 3858, 1817, 1723, 2561, 2767, 2807, 4551, 3142, 1773, 2225, 1984, 1533, 3329, 5478, 3820, 1831, 2026, 2438, 2300, 3494, 5112, 3399, 2292, 1415, 2502, 2852, 3188, 5276, 3943, 2254, 2188, 2318, 2567, 3291, 4213, 2340, 2326, 2605, 2108, 2814, 3239, 4413, 2934, 2268, 2429, 2781, 1473, 3638, 2291, 4626, 2436, 2552, 1144, 2213, 3728, 6183, 6526, 5126, 2442, 2159, 1153, 2896, 6159, 4467, 1982, 1889, 2067, 2331, 2846, 5286, 3300, 1409, 1553, 2171, 2304, 3456, 6294, 4247, 1678, 1816, 1588], \"yaxis\": \"y\"}, {\"hoverlabel\": {\"namelength\": 0}, \"hovertemplate\": \"usertype=subscriber<br>date=%{x}<br>count=%{y}\", \"legendgroup\": \"usertype=subscriber\", \"line\": {\"color\": \"#FF7F0E\", \"dash\": \"solid\"}, \"mode\": \"lines+markers\", \"name\": \"usertype=subscriber\", \"showlegend\": true, \"type\": \"scatter\", \"x\": [\"1/01\", \"1/02\", \"1/03\", \"1/04\", \"1/05\", \"1/06\", \"1/07\", \"1/08\", \"1/09\", \"1/10\", \"1/11\", \"1/12\", \"1/13\", \"1/14\", \"1/15\", \"1/16\", \"1/17\", \"1/18\", \"1/19\", \"1/20\", \"1/21\", \"1/22\", \"1/23\", \"1/24\", \"1/25\", \"1/26\", \"1/27\", \"1/28\", \"1/29\", \"1/30\", \"1/31\", \"2/01\", \"2/02\", \"2/03\", \"2/04\", \"2/05\", \"2/06\", \"2/07\", \"2/08\", \"2/09\", \"2/10\", \"2/11\", \"2/12\", \"2/13\", \"2/14\", \"2/15\", \"2/16\", \"2/17\", \"2/18\", \"2/19\", \"2/20\", \"2/21\", \"2/22\", \"2/23\", \"2/24\", \"2/25\", \"2/26\", \"2/27\", \"2/28\", \"2/29\", \"3/01\", \"3/02\", \"3/03\", \"3/04\", \"3/05\", \"3/06\", \"3/07\", \"3/08\", \"3/09\", \"3/10\", \"3/11\", \"3/12\", \"3/13\", \"3/14\", \"3/15\", \"3/16\", \"3/17\", \"3/18\", \"3/19\", \"3/20\", \"3/21\", \"3/22\", \"3/23\", \"3/24\", \"3/25\", \"3/26\", \"3/27\", \"3/28\", \"3/29\", \"3/30\", \"3/31\", \"4/01\", \"4/02\", \"4/03\", \"4/04\", \"4/05\", \"4/06\", \"4/07\", \"4/08\", \"4/09\", \"4/10\", \"4/11\", \"4/12\", \"4/13\", \"4/14\", \"4/15\", \"4/16\", \"4/17\", \"4/18\", \"4/19\", \"4/20\", \"4/21\", \"4/22\", \"4/23\", \"4/24\", \"4/25\", \"4/26\", \"4/27\", \"4/28\", \"4/29\", \"4/30\", \"5/01\", \"5/02\", \"5/03\", \"5/04\", \"5/05\", \"5/06\", \"5/07\", \"5/08\", \"5/09\", \"5/10\", \"5/11\", \"5/12\", \"5/13\", \"5/14\", \"5/15\", \"5/16\", \"5/17\", \"5/18\", \"5/19\", \"5/20\", \"5/21\", \"5/22\", \"5/23\", \"5/24\", \"5/25\", \"5/26\", \"5/27\", \"5/28\", \"5/29\", \"5/30\", \"5/31\", \"6/01\", \"6/02\", \"6/03\", \"6/04\", \"6/05\", \"6/06\", \"6/07\", \"6/08\", \"6/09\", \"6/10\", \"6/11\", \"6/12\", \"6/13\", \"6/14\", \"6/15\", \"6/16\", \"6/17\", \"6/18\", \"6/19\", \"6/20\", \"6/21\", \"6/22\", \"6/23\", \"6/24\", \"6/25\", \"6/26\", \"6/27\", \"6/28\", \"6/29\", \"6/30\", \"7/01\", \"7/02\", \"7/03\", \"7/04\", \"7/05\", \"7/06\", \"7/07\", \"7/08\", \"7/09\", \"7/10\", \"7/11\", \"7/12\", \"7/13\", \"7/14\", \"7/15\", \"7/16\", \"7/17\", \"7/18\", \"7/19\", \"7/20\", \"7/21\", \"7/22\", \"7/23\", \"7/24\", \"7/25\", \"7/26\", \"7/27\", \"7/28\", \"7/29\", \"7/30\", \"7/31\", \"8/01\", \"8/02\", \"8/03\", \"8/04\", \"8/05\", \"8/06\", \"8/07\", \"8/08\", \"8/09\", \"8/10\", \"8/11\", \"8/12\", \"8/13\", \"8/14\", \"8/15\", \"8/16\", \"8/17\", \"8/18\", \"8/19\", \"8/20\", \"8/21\", \"8/22\", \"8/23\", \"8/24\", \"8/25\", \"8/26\", \"8/27\", \"8/28\", \"8/29\", \"8/30\", \"8/31\", \"9/01\", \"9/02\", \"9/03\", \"9/04\", \"9/05\", \"9/06\", \"9/07\", \"9/08\", \"9/09\", \"9/10\", \"9/11\", \"9/12\", \"9/13\", \"9/14\", \"9/15\", \"9/16\", \"9/17\", \"9/18\", \"9/19\", \"9/20\", \"9/21\", \"9/22\", \"9/23\", \"9/24\", \"9/25\", \"9/26\", \"9/27\", \"9/28\", \"9/29\", \"9/30\"], \"xaxis\": \"x\", \"y\": [1112, 3337, 3799, 1221, 1637, 4213, 4697, 4382, 3849, 4595, 3484, 3069, 4347, 5061, 5454, 3962, 2876, 1285, 1451, 1968, 3777, 4439, 4938, 4782, 2021, 2717, 5364, 5276, 5260, 4858, 4998, 2818, 3000, 5710, 5943, 5782, 3129, 3271, 2432, 2367, 4050, 4209, 6007, 4128, 4093, 1969, 2383, 3376, 3413, 5339, 4757, 4175, 3155, 3378, 6308, 6094, 5994, 4292, 4955, 2649, 2391, 5579, 6686, 6038, 6362, 5130, 1961, 2981, 6979, 6812, 5980, 4795, 2863, 2602, 2074, 1922, 1462, 2005, 694, 1862, 1534, 952, 555, 1007, 889, 1165, 1412, 1407, 262, 611, 997, 946, 577, 341, 1359, 1310, 1301, 1353, 945, 503, 937, 1495, 1523, 266, 1476, 1131, 1064, 1210, 553, 2011, 1092, 710, 953, 1578, 687, 2355, 736, 313, 1336, 1517, 1097, 1096, 2625, 2923, 1675, 1911, 1626, 1975, 1533, 1053, 1746, 1060, 1807, 2097, 2591, 2312, 3055, 2498, 2013, 2213, 2436, 2984, 3325, 2259, 2871, 2467, 3141, 3151, 2995, 3159, 4091, 3928, 2893, 3155, 3543, 3669, 3513, 3468, 3653, 3995, 3890, 4016, 2487, 4703, 4956, 4618, 3892, 4451, 4703, 4785, 5023, 4697, 4317, 4555, 4861, 4604, 5290, 5354, 4194, 2948, 3505, 4005, 4604, 5316, 4910, 4714, 4493, 5074, 5330, 5023, 5627, 5373, 5623, 5251, 5217, 4918, 6268, 6280, 5565, 5374, 4526, 5295, 6142, 5701, 5075, 7076, 6436, 5310, 5445, 5725, 6688, 6269, 7150, 6870, 4887, 6150, 4852, 6923, 6958, 6796, 6821, 5694, 5951, 6518, 6550, 6872, 7014, 6227, 4231, 6537, 6966, 6330, 7388, 7308, 6026, 4457, 6824, 7270, 7760, 5469, 7600, 4479, 6668, 7106, 7361, 4801, 6973, 7990, 6971, 6157, 6717, 7619, 7771, 5210, 8093, 8242, 6710, 7418, 7478, 7592, 7726, 7724, 7282, 5757, 6538, 6695, 7839, 8037, 8315, 7880, 6610, 7002, 7880, 6500], \"yaxis\": \"y\"}],\n",
              "                        {\"legend\": {\"tracegroupgap\": 0}, \"template\": {\"data\": {\"scatter\": [{\"type\": \"scatter\"}]}}, \"title\": {\"text\": \"Customer and Subscriber Bike Trips by Date in 2020\"}, \"xaxis\": {\"anchor\": \"y\", \"domain\": [0.0, 1.0], \"showgrid\": false, \"tickangle\": 45, \"tickfont\": {\"color\": \"gray\", \"family\": \"Courier\", \"size\": 16}, \"title\": {\"font\": {\"color\": \"gray\", \"family\": \"Courier\", \"size\": 18}, \"text\": \"date\"}}, \"yaxis\": {\"anchor\": \"x\", \"domain\": [0.0, 1.0], \"tickfont\": {\"color\": \"gray\", \"family\": \"Courier\", \"size\": 16}, \"title\": {\"font\": {\"color\": \"gray\", \"family\": \"Courier\", \"size\": 18}, \"text\": \"count\"}}},\n",
              "                        {\"responsive\": true}\n",
              "                    ).then(function(){\n",
              "                            \n",
              "var gd = document.getElementById('4a38debd-e3a2-4bd2-bb7e-34358fbd8a3f');\n",
              "var x = new MutationObserver(function (mutations, observer) {{\n",
              "        var display = window.getComputedStyle(gd).display;\n",
              "        if (!display || display === 'none') {{\n",
              "            console.log([gd, 'removed!']);\n",
              "            Plotly.purge(gd);\n",
              "            observer.disconnect();\n",
              "        }}\n",
              "}});\n",
              "\n",
              "// Listen for the removal of the full notebook cells\n",
              "var notebookContainer = gd.closest('#notebook-container');\n",
              "if (notebookContainer) {{\n",
              "    x.observe(notebookContainer, {childList: true});\n",
              "}}\n",
              "\n",
              "// Listen for the clearing of the current output cell\n",
              "var outputEl = gd.closest('.output');\n",
              "if (outputEl) {{\n",
              "    x.observe(outputEl, {childList: true});\n",
              "}}\n",
              "\n",
              "                        })\n",
              "                };\n",
              "                \n",
              "            </script>\n",
              "        </div>\n",
              "</body>\n",
              "</html>"
            ]
          },
          "metadata": {
            "tags": []
          }
        }
      ]
    },
    {
      "cell_type": "markdown",
      "metadata": {
        "id": "A-QVy7ayzooZ"
      },
      "source": [
        "![line chart](\r\n",
        "https://raw.githubusercontent.com/VKong6019/ds3000-F20/main/visualizations/line_fg.png)\r\n",
        "\r\n",
        "GitHub Link to line chart:\r\n",
        "https://raw.githubusercontent.com/VKong6019/ds3000-F20/main/visualizations/line_fg.png"
      ]
    },
    {
      "cell_type": "code",
      "metadata": {
        "id": "B8bgaxRf-viJ",
        "colab": {
          "base_uri": "https://localhost:8080/",
          "height": 35
        },
        "outputId": "96ca051a-8119-4408-edac-92efa4147a39"
      },
      "source": [
        "plotly.offline.plot(line_fg, filename='bike_trip_line.html')"
      ],
      "execution_count": null,
      "outputs": [
        {
          "output_type": "execute_result",
          "data": {
            "application/vnd.google.colaboratory.intrinsic+json": {
              "type": "string"
            },
            "text/plain": [
              "'bike_trip_line.html'"
            ]
          },
          "metadata": {
            "tags": []
          },
          "execution_count": 41
        }
      ]
    },
    {
      "cell_type": "markdown",
      "metadata": {
        "id": "7lVyV3CD-viJ"
      },
      "source": [
        "##### Interpretation\n",
        "This line graph used the dates of bike trips to compare the number of bike-share users of customers versus subscribers. Bikesharing customers are users who uses Boston's Bluebike Program casually or on a pay-per-ride basis, whereas Bikesharing subscribers purchase a monthly or annual membership that grants full access to bikes within a timeframe. \n",
        "\n",
        "There are two lines drawn on the chart, one for each user type, that show the trends throughout the year by plotting the number of trips conducted each day. Between the months of January and March, there is a noticeable upward trend in number of trips for subscribers. However, the months after March to May show a stark dip in bike trips for both subscribers and customers. This decline is attributed to the fact that COVID-19 radically affected people's regular activity and is not in correlation to the date; therefore, this report will take this discrepancy into account. Moreover, we can see that those months would imply warmer temperature that fit well with the months after May. Up until September, there is a rising number of bike trips for both customer and subscribers.\n",
        "\n",
        "The amount of customers is noticeably low in the first quarter of the year, although the number of trips becomes significantly higher towards the end of the year. This is possibly due to the change in temperature throughout the year as seasons transition into warmer temperatures in spring and summer."
      ]
    },
    {
      "cell_type": "markdown",
      "metadata": {
        "id": "CcVGf5o2-viJ"
      },
      "source": [
        "#### Time of Day vs. Bike Share Users: Histogram"
      ]
    },
    {
      "cell_type": "code",
      "metadata": {
        "id": "ll3Ezt1a-viJ"
      },
      "source": [
        "# organize the bike_df dataset so that it's grouped by time rather than both time and day\n",
        "time_bike_df = bike_df[['hour', 'total']]\n",
        "time_bike_df = time_bike_df.groupby(by='hour').sum().reset_index()\n",
        "time_bike_df['total'] = time_bike_df['total']"
      ],
      "execution_count": null,
      "outputs": []
    },
    {
      "cell_type": "code",
      "metadata": {
        "id": "o4TEpxAc-viJ",
        "colab": {
          "base_uri": "https://localhost:8080/",
          "height": 784
        },
        "outputId": "e89d2689-920d-4417-ad09-fb64c5dcc76f"
      },
      "source": [
        "time_bike_df"
      ],
      "execution_count": null,
      "outputs": [
        {
          "output_type": "execute_result",
          "data": {
            "text/html": [
              "<div>\n",
              "<style scoped>\n",
              "    .dataframe tbody tr th:only-of-type {\n",
              "        vertical-align: middle;\n",
              "    }\n",
              "\n",
              "    .dataframe tbody tr th {\n",
              "        vertical-align: top;\n",
              "    }\n",
              "\n",
              "    .dataframe thead th {\n",
              "        text-align: right;\n",
              "    }\n",
              "</style>\n",
              "<table border=\"1\" class=\"dataframe\">\n",
              "  <thead>\n",
              "    <tr style=\"text-align: right;\">\n",
              "      <th></th>\n",
              "      <th>hour</th>\n",
              "      <th>total</th>\n",
              "    </tr>\n",
              "  </thead>\n",
              "  <tbody>\n",
              "    <tr>\n",
              "      <th>0</th>\n",
              "      <td>0</td>\n",
              "      <td>16412</td>\n",
              "    </tr>\n",
              "    <tr>\n",
              "      <th>1</th>\n",
              "      <td>1</td>\n",
              "      <td>10293</td>\n",
              "    </tr>\n",
              "    <tr>\n",
              "      <th>2</th>\n",
              "      <td>2</td>\n",
              "      <td>5595</td>\n",
              "    </tr>\n",
              "    <tr>\n",
              "      <th>3</th>\n",
              "      <td>3</td>\n",
              "      <td>3209</td>\n",
              "    </tr>\n",
              "    <tr>\n",
              "      <th>4</th>\n",
              "      <td>4</td>\n",
              "      <td>3273</td>\n",
              "    </tr>\n",
              "    <tr>\n",
              "      <th>5</th>\n",
              "      <td>5</td>\n",
              "      <td>10005</td>\n",
              "    </tr>\n",
              "    <tr>\n",
              "      <th>6</th>\n",
              "      <td>6</td>\n",
              "      <td>28386</td>\n",
              "    </tr>\n",
              "    <tr>\n",
              "      <th>7</th>\n",
              "      <td>7</td>\n",
              "      <td>55530</td>\n",
              "    </tr>\n",
              "    <tr>\n",
              "      <th>8</th>\n",
              "      <td>8</td>\n",
              "      <td>86382</td>\n",
              "    </tr>\n",
              "    <tr>\n",
              "      <th>9</th>\n",
              "      <td>9</td>\n",
              "      <td>70557</td>\n",
              "    </tr>\n",
              "    <tr>\n",
              "      <th>10</th>\n",
              "      <td>10</td>\n",
              "      <td>65358</td>\n",
              "    </tr>\n",
              "    <tr>\n",
              "      <th>11</th>\n",
              "      <td>11</td>\n",
              "      <td>76642</td>\n",
              "    </tr>\n",
              "    <tr>\n",
              "      <th>12</th>\n",
              "      <td>12</td>\n",
              "      <td>91466</td>\n",
              "    </tr>\n",
              "    <tr>\n",
              "      <th>13</th>\n",
              "      <td>13</td>\n",
              "      <td>96776</td>\n",
              "    </tr>\n",
              "    <tr>\n",
              "      <th>14</th>\n",
              "      <td>14</td>\n",
              "      <td>100161</td>\n",
              "    </tr>\n",
              "    <tr>\n",
              "      <th>15</th>\n",
              "      <td>15</td>\n",
              "      <td>110029</td>\n",
              "    </tr>\n",
              "    <tr>\n",
              "      <th>16</th>\n",
              "      <td>16</td>\n",
              "      <td>133190</td>\n",
              "    </tr>\n",
              "    <tr>\n",
              "      <th>17</th>\n",
              "      <td>17</td>\n",
              "      <td>165721</td>\n",
              "    </tr>\n",
              "    <tr>\n",
              "      <th>18</th>\n",
              "      <td>18</td>\n",
              "      <td>151805</td>\n",
              "    </tr>\n",
              "    <tr>\n",
              "      <th>19</th>\n",
              "      <td>19</td>\n",
              "      <td>117217</td>\n",
              "    </tr>\n",
              "    <tr>\n",
              "      <th>20</th>\n",
              "      <td>20</td>\n",
              "      <td>78033</td>\n",
              "    </tr>\n",
              "    <tr>\n",
              "      <th>21</th>\n",
              "      <td>21</td>\n",
              "      <td>50459</td>\n",
              "    </tr>\n",
              "    <tr>\n",
              "      <th>22</th>\n",
              "      <td>22</td>\n",
              "      <td>37163</td>\n",
              "    </tr>\n",
              "    <tr>\n",
              "      <th>23</th>\n",
              "      <td>23</td>\n",
              "      <td>25648</td>\n",
              "    </tr>\n",
              "  </tbody>\n",
              "</table>\n",
              "</div>"
            ],
            "text/plain": [
              "    hour   total\n",
              "0      0   16412\n",
              "1      1   10293\n",
              "2      2    5595\n",
              "3      3    3209\n",
              "4      4    3273\n",
              "5      5   10005\n",
              "6      6   28386\n",
              "7      7   55530\n",
              "8      8   86382\n",
              "9      9   70557\n",
              "10    10   65358\n",
              "11    11   76642\n",
              "12    12   91466\n",
              "13    13   96776\n",
              "14    14  100161\n",
              "15    15  110029\n",
              "16    16  133190\n",
              "17    17  165721\n",
              "18    18  151805\n",
              "19    19  117217\n",
              "20    20   78033\n",
              "21    21   50459\n",
              "22    22   37163\n",
              "23    23   25648"
            ]
          },
          "metadata": {
            "tags": []
          },
          "execution_count": 43
        }
      ]
    },
    {
      "cell_type": "code",
      "metadata": {
        "id": "p2JN2L_g-viJ",
        "colab": {
          "base_uri": "https://localhost:8080/",
          "height": 542
        },
        "outputId": "4947f355-2b77-4add-d817-15673a4ce4ce"
      },
      "source": [
        "# create a histogram of the time_bike_df dataset\n",
        "time_hist = px.histogram(time_bike_df, x='hour', y='total', nbins=24, histfunc='sum',\n",
        "                        labels={'hour': 'Hour', 'total':'Total Count of Bike Trips'})\n",
        "time_hist.show()"
      ],
      "execution_count": null,
      "outputs": [
        {
          "output_type": "display_data",
          "data": {
            "text/html": [
              "<html>\n",
              "<head><meta charset=\"utf-8\" /></head>\n",
              "<body>\n",
              "    <div>\n",
              "            <script src=\"https://cdnjs.cloudflare.com/ajax/libs/mathjax/2.7.5/MathJax.js?config=TeX-AMS-MML_SVG\"></script><script type=\"text/javascript\">if (window.MathJax) {MathJax.Hub.Config({SVG: {font: \"STIX-Web\"}});}</script>\n",
              "                <script type=\"text/javascript\">window.PlotlyConfig = {MathJaxConfig: 'local'};</script>\n",
              "        <script src=\"https://cdn.plot.ly/plotly-latest.min.js\"></script>    \n",
              "            <div id=\"00d11cac-33bb-42a5-9e46-1fa26b484888\" class=\"plotly-graph-div\" style=\"height:525px; width:100%;\"></div>\n",
              "            <script type=\"text/javascript\">\n",
              "                \n",
              "                    window.PLOTLYENV=window.PLOTLYENV || {};\n",
              "                    \n",
              "                if (document.getElementById(\"00d11cac-33bb-42a5-9e46-1fa26b484888\")) {\n",
              "                    Plotly.newPlot(\n",
              "                        '00d11cac-33bb-42a5-9e46-1fa26b484888',\n",
              "                        [{\"alignmentgroup\": \"True\", \"bingroup\": \"x\", \"histfunc\": \"sum\", \"hoverlabel\": {\"namelength\": 0}, \"hovertemplate\": \"Hour=%{x}<br>sum of Total Count of Bike Trips=%{y}\", \"legendgroup\": \"\", \"marker\": {\"color\": \"#636efa\"}, \"name\": \"\", \"nbinsx\": 24, \"offsetgroup\": \"\", \"orientation\": \"v\", \"showlegend\": false, \"type\": \"histogram\", \"x\": [0, 1, 2, 3, 4, 5, 6, 7, 8, 9, 10, 11, 12, 13, 14, 15, 16, 17, 18, 19, 20, 21, 22, 23], \"xaxis\": \"x\", \"y\": [16412, 10293, 5595, 3209, 3273, 10005, 28386, 55530, 86382, 70557, 65358, 76642, 91466, 96776, 100161, 110029, 133190, 165721, 151805, 117217, 78033, 50459, 37163, 25648], \"yaxis\": \"y\"}],\n",
              "                        {\"barmode\": \"relative\", \"legend\": {\"tracegroupgap\": 0}, \"margin\": {\"t\": 60}, \"template\": {\"data\": {\"bar\": [{\"error_x\": {\"color\": \"#2a3f5f\"}, \"error_y\": {\"color\": \"#2a3f5f\"}, \"marker\": {\"line\": {\"color\": \"#E5ECF6\", \"width\": 0.5}}, \"type\": \"bar\"}], \"barpolar\": [{\"marker\": {\"line\": {\"color\": \"#E5ECF6\", \"width\": 0.5}}, \"type\": \"barpolar\"}], \"carpet\": [{\"aaxis\": {\"endlinecolor\": \"#2a3f5f\", \"gridcolor\": \"white\", \"linecolor\": \"white\", \"minorgridcolor\": \"white\", \"startlinecolor\": \"#2a3f5f\"}, \"baxis\": {\"endlinecolor\": \"#2a3f5f\", \"gridcolor\": \"white\", \"linecolor\": \"white\", \"minorgridcolor\": \"white\", \"startlinecolor\": \"#2a3f5f\"}, \"type\": \"carpet\"}], \"choropleth\": [{\"colorbar\": {\"outlinewidth\": 0, \"ticks\": \"\"}, \"type\": \"choropleth\"}], \"contour\": [{\"colorbar\": {\"outlinewidth\": 0, \"ticks\": \"\"}, \"colorscale\": [[0.0, \"#0d0887\"], [0.1111111111111111, \"#46039f\"], [0.2222222222222222, \"#7201a8\"], [0.3333333333333333, \"#9c179e\"], [0.4444444444444444, \"#bd3786\"], [0.5555555555555556, \"#d8576b\"], [0.6666666666666666, \"#ed7953\"], [0.7777777777777778, \"#fb9f3a\"], [0.8888888888888888, \"#fdca26\"], [1.0, \"#f0f921\"]], \"type\": \"contour\"}], \"contourcarpet\": [{\"colorbar\": {\"outlinewidth\": 0, \"ticks\": \"\"}, \"type\": \"contourcarpet\"}], \"heatmap\": [{\"colorbar\": {\"outlinewidth\": 0, \"ticks\": \"\"}, \"colorscale\": [[0.0, \"#0d0887\"], [0.1111111111111111, \"#46039f\"], [0.2222222222222222, \"#7201a8\"], [0.3333333333333333, \"#9c179e\"], [0.4444444444444444, \"#bd3786\"], [0.5555555555555556, \"#d8576b\"], [0.6666666666666666, \"#ed7953\"], [0.7777777777777778, \"#fb9f3a\"], [0.8888888888888888, \"#fdca26\"], [1.0, \"#f0f921\"]], \"type\": \"heatmap\"}], \"heatmapgl\": [{\"colorbar\": {\"outlinewidth\": 0, \"ticks\": \"\"}, \"colorscale\": [[0.0, \"#0d0887\"], [0.1111111111111111, \"#46039f\"], [0.2222222222222222, \"#7201a8\"], [0.3333333333333333, \"#9c179e\"], [0.4444444444444444, \"#bd3786\"], [0.5555555555555556, \"#d8576b\"], [0.6666666666666666, \"#ed7953\"], [0.7777777777777778, \"#fb9f3a\"], [0.8888888888888888, \"#fdca26\"], [1.0, \"#f0f921\"]], \"type\": \"heatmapgl\"}], \"histogram\": [{\"marker\": {\"colorbar\": {\"outlinewidth\": 0, \"ticks\": \"\"}}, \"type\": \"histogram\"}], \"histogram2d\": [{\"colorbar\": {\"outlinewidth\": 0, \"ticks\": \"\"}, \"colorscale\": [[0.0, \"#0d0887\"], [0.1111111111111111, \"#46039f\"], [0.2222222222222222, \"#7201a8\"], [0.3333333333333333, \"#9c179e\"], [0.4444444444444444, \"#bd3786\"], [0.5555555555555556, \"#d8576b\"], [0.6666666666666666, \"#ed7953\"], [0.7777777777777778, \"#fb9f3a\"], [0.8888888888888888, \"#fdca26\"], [1.0, \"#f0f921\"]], \"type\": \"histogram2d\"}], \"histogram2dcontour\": [{\"colorbar\": {\"outlinewidth\": 0, \"ticks\": \"\"}, \"colorscale\": [[0.0, \"#0d0887\"], [0.1111111111111111, \"#46039f\"], [0.2222222222222222, \"#7201a8\"], [0.3333333333333333, \"#9c179e\"], [0.4444444444444444, \"#bd3786\"], [0.5555555555555556, \"#d8576b\"], [0.6666666666666666, \"#ed7953\"], [0.7777777777777778, \"#fb9f3a\"], [0.8888888888888888, \"#fdca26\"], [1.0, \"#f0f921\"]], \"type\": \"histogram2dcontour\"}], \"mesh3d\": [{\"colorbar\": {\"outlinewidth\": 0, \"ticks\": \"\"}, \"type\": \"mesh3d\"}], \"parcoords\": [{\"line\": {\"colorbar\": {\"outlinewidth\": 0, \"ticks\": \"\"}}, \"type\": \"parcoords\"}], \"pie\": [{\"automargin\": true, \"type\": \"pie\"}], \"scatter\": [{\"marker\": {\"colorbar\": {\"outlinewidth\": 0, \"ticks\": \"\"}}, \"type\": \"scatter\"}], \"scatter3d\": [{\"line\": {\"colorbar\": {\"outlinewidth\": 0, \"ticks\": \"\"}}, \"marker\": {\"colorbar\": {\"outlinewidth\": 0, \"ticks\": \"\"}}, \"type\": \"scatter3d\"}], \"scattercarpet\": [{\"marker\": {\"colorbar\": {\"outlinewidth\": 0, \"ticks\": \"\"}}, \"type\": \"scattercarpet\"}], \"scattergeo\": [{\"marker\": {\"colorbar\": {\"outlinewidth\": 0, \"ticks\": \"\"}}, \"type\": \"scattergeo\"}], \"scattergl\": [{\"marker\": {\"colorbar\": {\"outlinewidth\": 0, \"ticks\": \"\"}}, \"type\": \"scattergl\"}], \"scattermapbox\": [{\"marker\": {\"colorbar\": {\"outlinewidth\": 0, \"ticks\": \"\"}}, \"type\": \"scattermapbox\"}], \"scatterpolar\": [{\"marker\": {\"colorbar\": {\"outlinewidth\": 0, \"ticks\": \"\"}}, \"type\": \"scatterpolar\"}], \"scatterpolargl\": [{\"marker\": {\"colorbar\": {\"outlinewidth\": 0, \"ticks\": \"\"}}, \"type\": \"scatterpolargl\"}], \"scatterternary\": [{\"marker\": {\"colorbar\": {\"outlinewidth\": 0, \"ticks\": \"\"}}, \"type\": \"scatterternary\"}], \"surface\": [{\"colorbar\": {\"outlinewidth\": 0, \"ticks\": \"\"}, \"colorscale\": [[0.0, \"#0d0887\"], [0.1111111111111111, \"#46039f\"], [0.2222222222222222, \"#7201a8\"], [0.3333333333333333, \"#9c179e\"], [0.4444444444444444, \"#bd3786\"], [0.5555555555555556, \"#d8576b\"], [0.6666666666666666, \"#ed7953\"], [0.7777777777777778, \"#fb9f3a\"], [0.8888888888888888, \"#fdca26\"], [1.0, \"#f0f921\"]], \"type\": \"surface\"}], \"table\": [{\"cells\": {\"fill\": {\"color\": \"#EBF0F8\"}, \"line\": {\"color\": \"white\"}}, \"header\": {\"fill\": {\"color\": \"#C8D4E3\"}, \"line\": {\"color\": \"white\"}}, \"type\": \"table\"}]}, \"layout\": {\"annotationdefaults\": {\"arrowcolor\": \"#2a3f5f\", \"arrowhead\": 0, \"arrowwidth\": 1}, \"coloraxis\": {\"colorbar\": {\"outlinewidth\": 0, \"ticks\": \"\"}}, \"colorscale\": {\"diverging\": [[0, \"#8e0152\"], [0.1, \"#c51b7d\"], [0.2, \"#de77ae\"], [0.3, \"#f1b6da\"], [0.4, \"#fde0ef\"], [0.5, \"#f7f7f7\"], [0.6, \"#e6f5d0\"], [0.7, \"#b8e186\"], [0.8, \"#7fbc41\"], [0.9, \"#4d9221\"], [1, \"#276419\"]], \"sequential\": [[0.0, \"#0d0887\"], [0.1111111111111111, \"#46039f\"], [0.2222222222222222, \"#7201a8\"], [0.3333333333333333, \"#9c179e\"], [0.4444444444444444, \"#bd3786\"], [0.5555555555555556, \"#d8576b\"], [0.6666666666666666, \"#ed7953\"], [0.7777777777777778, \"#fb9f3a\"], [0.8888888888888888, \"#fdca26\"], [1.0, \"#f0f921\"]], \"sequentialminus\": [[0.0, \"#0d0887\"], [0.1111111111111111, \"#46039f\"], [0.2222222222222222, \"#7201a8\"], [0.3333333333333333, \"#9c179e\"], [0.4444444444444444, \"#bd3786\"], [0.5555555555555556, \"#d8576b\"], [0.6666666666666666, \"#ed7953\"], [0.7777777777777778, \"#fb9f3a\"], [0.8888888888888888, \"#fdca26\"], [1.0, \"#f0f921\"]]}, \"colorway\": [\"#636efa\", \"#EF553B\", \"#00cc96\", \"#ab63fa\", \"#FFA15A\", \"#19d3f3\", \"#FF6692\", \"#B6E880\", \"#FF97FF\", \"#FECB52\"], \"font\": {\"color\": \"#2a3f5f\"}, \"geo\": {\"bgcolor\": \"white\", \"lakecolor\": \"white\", \"landcolor\": \"#E5ECF6\", \"showlakes\": true, \"showland\": true, \"subunitcolor\": \"white\"}, \"hoverlabel\": {\"align\": \"left\"}, \"hovermode\": \"closest\", \"mapbox\": {\"style\": \"light\"}, \"paper_bgcolor\": \"white\", \"plot_bgcolor\": \"#E5ECF6\", \"polar\": {\"angularaxis\": {\"gridcolor\": \"white\", \"linecolor\": \"white\", \"ticks\": \"\"}, \"bgcolor\": \"#E5ECF6\", \"radialaxis\": {\"gridcolor\": \"white\", \"linecolor\": \"white\", \"ticks\": \"\"}}, \"scene\": {\"xaxis\": {\"backgroundcolor\": \"#E5ECF6\", \"gridcolor\": \"white\", \"gridwidth\": 2, \"linecolor\": \"white\", \"showbackground\": true, \"ticks\": \"\", \"zerolinecolor\": \"white\"}, \"yaxis\": {\"backgroundcolor\": \"#E5ECF6\", \"gridcolor\": \"white\", \"gridwidth\": 2, \"linecolor\": \"white\", \"showbackground\": true, \"ticks\": \"\", \"zerolinecolor\": \"white\"}, \"zaxis\": {\"backgroundcolor\": \"#E5ECF6\", \"gridcolor\": \"white\", \"gridwidth\": 2, \"linecolor\": \"white\", \"showbackground\": true, \"ticks\": \"\", \"zerolinecolor\": \"white\"}}, \"shapedefaults\": {\"line\": {\"color\": \"#2a3f5f\"}}, \"ternary\": {\"aaxis\": {\"gridcolor\": \"white\", \"linecolor\": \"white\", \"ticks\": \"\"}, \"baxis\": {\"gridcolor\": \"white\", \"linecolor\": \"white\", \"ticks\": \"\"}, \"bgcolor\": \"#E5ECF6\", \"caxis\": {\"gridcolor\": \"white\", \"linecolor\": \"white\", \"ticks\": \"\"}}, \"title\": {\"x\": 0.05}, \"xaxis\": {\"automargin\": true, \"gridcolor\": \"white\", \"linecolor\": \"white\", \"ticks\": \"\", \"title\": {\"standoff\": 15}, \"zerolinecolor\": \"white\", \"zerolinewidth\": 2}, \"yaxis\": {\"automargin\": true, \"gridcolor\": \"white\", \"linecolor\": \"white\", \"ticks\": \"\", \"title\": {\"standoff\": 15}, \"zerolinecolor\": \"white\", \"zerolinewidth\": 2}}}, \"xaxis\": {\"anchor\": \"y\", \"domain\": [0.0, 1.0], \"title\": {\"text\": \"Hour\"}}, \"yaxis\": {\"anchor\": \"x\", \"domain\": [0.0, 1.0], \"title\": {\"text\": \"sum of Total Count of Bike Trips\"}}},\n",
              "                        {\"responsive\": true}\n",
              "                    ).then(function(){\n",
              "                            \n",
              "var gd = document.getElementById('00d11cac-33bb-42a5-9e46-1fa26b484888');\n",
              "var x = new MutationObserver(function (mutations, observer) {{\n",
              "        var display = window.getComputedStyle(gd).display;\n",
              "        if (!display || display === 'none') {{\n",
              "            console.log([gd, 'removed!']);\n",
              "            Plotly.purge(gd);\n",
              "            observer.disconnect();\n",
              "        }}\n",
              "}});\n",
              "\n",
              "// Listen for the removal of the full notebook cells\n",
              "var notebookContainer = gd.closest('#notebook-container');\n",
              "if (notebookContainer) {{\n",
              "    x.observe(notebookContainer, {childList: true});\n",
              "}}\n",
              "\n",
              "// Listen for the clearing of the current output cell\n",
              "var outputEl = gd.closest('.output');\n",
              "if (outputEl) {{\n",
              "    x.observe(outputEl, {childList: true});\n",
              "}}\n",
              "\n",
              "                        })\n",
              "                };\n",
              "                \n",
              "            </script>\n",
              "        </div>\n",
              "</body>\n",
              "</html>"
            ]
          },
          "metadata": {
            "tags": []
          }
        }
      ]
    },
    {
      "cell_type": "markdown",
      "metadata": {
        "id": "NjFMUJkmzPsn"
      },
      "source": [
        "![histogram](https://raw.githubusercontent.com/VKong6019/ds3000-F20/main/visualizations/time_hist.png)\r\n",
        "\r\n",
        "GitHub Link for histogram: \r\n",
        "https://raw.githubusercontent.com/VKong6019/ds3000-F20/main/visualizations/time_hist.png"
      ]
    },
    {
      "cell_type": "code",
      "metadata": {
        "id": "f9TOamNj-viJ",
        "colab": {
          "base_uri": "https://localhost:8080/",
          "height": 35
        },
        "outputId": "d0f0dc21-2a10-4d2f-f7b2-9cbfab433382"
      },
      "source": [
        "plotly.offline.plot(time_hist, filename='time_hist.html')"
      ],
      "execution_count": null,
      "outputs": [
        {
          "output_type": "execute_result",
          "data": {
            "application/vnd.google.colaboratory.intrinsic+json": {
              "type": "string"
            },
            "text/plain": [
              "'time_hist.html'"
            ]
          },
          "metadata": {
            "tags": []
          },
          "execution_count": 45
        }
      ]
    },
    {
      "cell_type": "markdown",
      "metadata": {
        "id": "M0GdZiqP-viJ"
      },
      "source": [
        "##### Interpretation\n",
        "The hour and sum of bike trips were utilized as variable in this histogram, determining whether there was simliarities to a normal distribution. \n",
        "\n",
        "Upon inspection, the graph seems to be left-skewed, implying our data has fewer count of bike trips at early hours. In other words, there are significantly more bike trips occuring at the later hours at hours 15 to 19 (3pm to 6pm). The curve isn't exactly symmetrical to classify as a normal distribution, but the graph does show a trend in bike trips occurring more often in the afternoon into the evening. This is likely due to people's typical work schedules which would be the most popular time for people to commute via bike from the office or exercise during free time."
      ]
    },
    {
      "cell_type": "markdown",
      "metadata": {
        "id": "ijPf8PaL-viJ"
      },
      "source": [
        "### 3.3. Model Construction"
      ]
    },
    {
      "cell_type": "markdown",
      "metadata": {
        "id": "_G6-MEJgfBBm"
      },
      "source": [
        "#### Hypothesis Analysis\r\n",
        "From the graphs above, it is observed that there can be a correlation between weather and the number of bike-sharing users, as there is a greater number of bike-sharing users in higher temperatures. Moreover, the results indicate that there also lies a significant correlation with the number of bike-sharing users with the type of bikeshare user (customer versus subscriber), as well as the time of day.\r\n",
        "\r\n",
        "By plotting out the dates in which rides were conducted, the results provided insight into how weather, seasonal changes, and other natural phenomenons can affect both the frequency and quantity of bike-sharers. Based on our hypothesis, we theorized that bike-sharers were more likely to bike in the afternoon, as the demographic of bike-sharing users were likely to have full-time jobs and be preoccupied until late afternoon/evening. \r\n",
        "\r\n",
        "In our hypothesis testing, we hope to find a positive correlation with the number of bike-sharers and the temperature in weather, as well as findings that support an increase in bike-sharing users in seasons with warmer temperatures, such as summer and early fall. As part of our testing, we aim to reject the null hypothesis, as we believe there is a strong enough correlation between our independent and dependent variables."
      ]
    },
    {
      "cell_type": "markdown",
      "metadata": {
        "id": "KfVxMfETJhIg"
      },
      "source": [
        "#### Machine Learning Experiment\r\n",
        "In our model construction, we will apply four different types of estimator models to fit to our data. The experiment will compare the results among the estimator models based on their training set and testing set R^2 scores.\r\n",
        "\r\n",
        "In our hypothesis, we predicted that Multiple Linear Regression will perform the best out of the four regression algorithms to in handling predictions for multiple bike features, excluding weather features, as the algorithm is relatively simple for calculating regression relationships."
      ]
    },
    {
      "cell_type": "code",
      "metadata": {
        "id": "batbBPlgJgH1"
      },
      "source": [
        "from sklearn.linear_model import Ridge, Lasso, LinearRegression\r\n",
        "from sklearn.neighbors import KNeighborsRegressor\r\n",
        "from sklearn.svm import SVR\r\n",
        "from sklearn.metrics import r2_score\r\n",
        "\r\n",
        "# dictionary of ML models\r\n",
        "estimators = {'Multiple Linear Regression': LinearRegression(), 'Ridge': Ridge(), 'Lasso': Lasso(), \r\n",
        "              'Support Vector Machine': SVR(max_iter=100000)}\r\n",
        "\r\n",
        "# run ml model for features and finds percentage split\r\n",
        "def process_ml_estimator(X_train, X_test, y_train, y_test):\r\n",
        "    # create model for each estimator by applying data\r\n",
        "    for estimator_name, estimator_object in estimators.items():\r\n",
        "        model = estimator_object.fit(X=X_train, y=y_train)\r\n",
        "        # apply r-squared regression score function to determine linearity\r\n",
        "        R2_train = r2_score(y_train, model.predict(X_train))\r\n",
        "        R2_test = r2_score(y_test, model.predict(X_test))\r\n",
        "        \r\n",
        "        print(\"\\t\" + estimator_name)\r\n",
        "        print(\"\\t\\tR-squared value for training set: \", round(R2_train, 4))\r\n",
        "        print(\"\\t\\tR-squared value for testing set: \", round(R2_test, 4))"
      ],
      "execution_count": null,
      "outputs": []
    },
    {
      "cell_type": "code",
      "metadata": {
        "colab": {
          "base_uri": "https://localhost:8080/"
        },
        "id": "DVewW7OmTdQt",
        "outputId": "64a09963-0dc7-4746-b572-4eef1767aba0"
      },
      "source": [
        "print(\"ALL FEATURES\")\r\n",
        "print(\"======================================================\")\r\n",
        "print(\"All features without weather: \")\r\n",
        "process_ml_estimator(X_train_scaled, X_test_scaled, y_train, y_test)\r\n",
        "\r\n",
        "print(\"All features with weather: \")\r\n",
        "process_ml_estimator(X_train_weather_scaled, X_test_weather_scaled, y_train_weather, y_test_weather)\r\n",
        "print(\"\\n\")\r\n",
        "print(\"======================================================\")\r\n",
        "\r\n",
        "print(\"SELECTED FEATURES\")\r\n",
        "print(\"======================================================\")\r\n",
        "print(\"Selected features without weather: \")\r\n",
        "process_ml_estimator(X_train_selected, X_test_selected, y_train, y_test)\r\n",
        "\r\n",
        "print(\"Selected features with weather: \")\r\n",
        "process_ml_estimator(X_train_selected_weather, X_test_selected_weather, y_train_selected_weather, y_test_selected_weather)\r\n",
        "print(\"======================================================\")\r\n"
      ],
      "execution_count": null,
      "outputs": [
        {
          "output_type": "stream",
          "text": [
            "ALL FEATURES\n",
            "======================================================\n",
            "All features without weather: \n",
            "\tMultiple Linear Regression\n",
            "\t\tR-squared value for training set:  1.0\n",
            "\t\tR-squared value for testing set:  1.0\n",
            "\tRidge\n",
            "\t\tR-squared value for training set:  1.0\n",
            "\t\tR-squared value for testing set:  1.0\n",
            "\tLasso\n",
            "\t\tR-squared value for training set:  0.9993\n",
            "\t\tR-squared value for testing set:  0.9993\n",
            "\tSupport Vector Machine\n",
            "\t\tR-squared value for training set:  0.4598\n",
            "\t\tR-squared value for testing set:  0.471\n",
            "All features with weather: \n",
            "\tMultiple Linear Regression\n",
            "\t\tR-squared value for training set:  1.0\n",
            "\t\tR-squared value for testing set:  1.0\n",
            "\tRidge\n",
            "\t\tR-squared value for training set:  1.0\n",
            "\t\tR-squared value for testing set:  1.0\n",
            "\tLasso\n",
            "\t\tR-squared value for training set:  0.9993\n",
            "\t\tR-squared value for testing set:  0.9993\n",
            "\tSupport Vector Machine\n",
            "\t\tR-squared value for training set:  0.4392\n",
            "\t\tR-squared value for testing set:  0.4482\n",
            "\n",
            "\n",
            "======================================================\n",
            "SELECTED FEATURES\n",
            "======================================================\n",
            "Selected features without weather: \n",
            "\tMultiple Linear Regression\n",
            "\t\tR-squared value for training set:  1.0\n",
            "\t\tR-squared value for testing set:  1.0\n",
            "\tRidge\n",
            "\t\tR-squared value for training set:  1.0\n",
            "\t\tR-squared value for testing set:  1.0\n",
            "\tLasso\n",
            "\t\tR-squared value for training set:  0.9993\n",
            "\t\tR-squared value for testing set:  0.9993\n",
            "\tSupport Vector Machine\n",
            "\t\tR-squared value for training set:  0.8739\n",
            "\t\tR-squared value for testing set:  0.8862\n",
            "Selected features with weather: \n",
            "\tMultiple Linear Regression\n",
            "\t\tR-squared value for training set:  1.0\n",
            "\t\tR-squared value for testing set:  1.0\n",
            "\tRidge\n",
            "\t\tR-squared value for training set:  1.0\n",
            "\t\tR-squared value for testing set:  1.0\n",
            "\tLasso\n",
            "\t\tR-squared value for training set:  0.9993\n",
            "\t\tR-squared value for testing set:  0.9993\n",
            "\tSupport Vector Machine\n",
            "\t\tR-squared value for training set:  0.8643\n",
            "\t\tR-squared value for testing set:  0.8708\n",
            "======================================================\n"
          ],
          "name": "stdout"
        }
      ]
    },
    {
      "cell_type": "markdown",
      "metadata": {
        "id": "uykle968-viJ"
      },
      "source": [
        "### 3.4. Model Evaluation"
      ]
    },
    {
      "cell_type": "markdown",
      "metadata": {
        "id": "tbhZrAgKneLA"
      },
      "source": [
        "#### Model Performance\r\n",
        "**Best Model(s):** Both Multiple Linear Regression and Ridge had the highest prediction accuracy. Both with a consistent R-squared value of 1.0 for all four feature datasets.\r\n",
        "\r\n",
        "**Worst Model:** Support Vector Machine performed the worst, particularly in datasets with all features -- including or excluding weather -- where SVM yielded R-squared values slightly below 0.5, as well as noticeably underperforming in datasets with selected features with R-squared values ranging from 0.86 to 0.88.\r\n",
        "\r\n",
        "**With vs. Without Weather:** MLR, Ridge, and Lasso performed consistently, which shows that their models' accuracy was not dependent on the datatypes of features within the dataset. SVM performed marginally better in datasets without weather, with at most a ~1.1% increase in accuracy.\r\n",
        "\r\n",
        "**All Features vs. Selected Features:** SVM performed measurably worse in datasets that contained all features over datasets with selected features. All other models remained consistent."
      ]
    },
    {
      "cell_type": "markdown",
      "metadata": {
        "id": "kBCaIxMGsmVc"
      },
      "source": [
        "#### Interpretation\r\n",
        "The model results indicate that R-squared values showed a strong correlation between our independent and dependent variables. Our best models showed that our datasets have 100% variability around the mean value which indicates that our regression models are plotted according to our regression line and that our model and target variables are closely aligned. The data shows an exact fit for half the models and slight underfitting for Lasso and Support Vector Machine. This difference was significant, but nonetheless still support our findings for the the data.\r\n",
        "\r\n",
        "\r\n"
      ]
    },
    {
      "cell_type": "markdown",
      "metadata": {
        "id": "Ofgb7R-qRnqr"
      },
      "source": [
        "#### Hypothesis Testing Results\r\n",
        "In our hypothesis testing, we were were able to confirm that there exists a direct correlation in our dataset with our feature and target variables. Our hypotheses are supported by the strong correlation in our data for finding variance in the number of bikeshare users at a station at a given point.\r\n",
        "\r\n",
        "**Correlation with weather and higher numbers of bike-sharing users**\\\r\n",
        "Bike-sharing users are more likely to bike during prefer to bike in higher temperatures. The data supports this hypothesis, as it is consistent in showing an overall increase, for both customer and subscriber user types, in usage during higher temperatures. Thus, we can conclude that in seasons where Boston weather is clear and warm (above 50 degrees Fahrenheit) such as Summer and Autumn, bikesharing usage is higher than in seasons where temperatures are colder, such as Winter.\r\n",
        "\r\n",
        "**Effect of adding weather features to regression model**\\\r\n",
        "Adding weather features to our regression models, such as humidity, wind, and temperature affected the accuracy of the models by creating additional noise that made it more difficult to determine the correlation between data points. Although most models were unaffected by the change in data, Support Vector Machine showed a decrease in performance in model tests where weather features were a factor.\r\n",
        "\r\n",
        "**ML Algorithm Hypothesis**\\\r\n",
        "Our hypothesis was correct as the Multiple Linear Regression algorithm performed the best out of the other regression algorithms in all prediction accounts. Unexpectedly, the Ridge regression algorithm also performed exceptionally well on our datasets. "
      ]
    },
    {
      "cell_type": "markdown",
      "metadata": {
        "id": "a4e779Jq-viK"
      },
      "source": [
        "### 3.5. Model Optimization"
      ]
    },
    {
      "cell_type": "code",
      "metadata": {
        "id": "sYYJqqxdhb-T"
      },
      "source": [
        "from sklearn.model_selection import GridSearchCV\r\n",
        "from scipy.stats import uniform\r\n",
        "\r\n",
        "ridge_params = {'alpha': uniform.rvs(0,2,size=100)}\r\n",
        "\r\n",
        "# apply cross validation grid search to each model\r\n",
        "def optimize_model(X_train_selected, y_train):\r\n",
        "    info = {}\r\n",
        "    # create grid search object with Ridge estimator model and fit on training data\r\n",
        "    grid_search_ridge = GridSearchCV(Ridge(), ridge_params, cv=5)\r\n",
        "    grid_search_ridge.fit(X=X_train_selected, y=y_train)\r\n",
        "\r\n",
        "    # grid search results\r\n",
        "    print(\"\\tBest parameters: \", grid_search_ridge.best_params_)\r\n",
        "    print(\"\\tBest cross-validation score: \", grid_search_ridge.best_score_)\r\n",
        "    info['param'] = grid_search_ridge.best_params_\r\n",
        "    info['score'] = grid_search_ridge.best_score_\r\n",
        "\r\n",
        "    return info"
      ],
      "execution_count": null,
      "outputs": []
    },
    {
      "cell_type": "code",
      "metadata": {
        "colab": {
          "base_uri": "https://localhost:8080/"
        },
        "id": "4NPxxal8rW3u",
        "outputId": "b6df64db-fa45-4373-c104-7620e9f24be7"
      },
      "source": [
        "print(\"All features without weather\")\r\n",
        "all_without_weather = optimize_model(X_train_scaled, y_train)\r\n",
        "print(\"All features with weather\")\r\n",
        "all_with_weather = optimize_model(X_train_weather_scaled, y_train)\r\n",
        "print(\"Selected features without weather\")\r\n",
        "selected_without_weather = optimize_model(X_train_selected, y_train)\r\n",
        "print(\"Selected features with weather\")\r\n",
        "selected_with_weather = optimize_model(X_train_selected_weather, y_train)"
      ],
      "execution_count": null,
      "outputs": [
        {
          "output_type": "stream",
          "text": [
            "All features without weather\n",
            "\tBest parameters:  {'alpha': 0.017096246387845238}\n",
            "\tBest cross-validation score:  0.9999999855771777\n",
            "All features with weather\n",
            "\tBest parameters:  {'alpha': 0.017096246387845238}\n",
            "\tBest cross-validation score:  0.9999999852114723\n",
            "Selected features without weather\n",
            "\tBest parameters:  {'alpha': 0.017096246387845238}\n",
            "\tBest cross-validation score:  0.9999999890979037\n",
            "Selected features with weather\n",
            "\tBest parameters:  {'alpha': 0.017096246387845238}\n",
            "\tBest cross-validation score:  0.9999999887018223\n"
          ],
          "name": "stdout"
        }
      ]
    },
    {
      "cell_type": "markdown",
      "metadata": {
        "id": "JH1dRuJNnBKP"
      },
      "source": [
        "#### Tuning\r\n",
        "In order to ensure that our results were not overfitted, the model is optimized with the Ridge regression algorithm in order to tune the model to different alpha values. By setting a tuning parameter to regularize the model using cross-validation grid search, we ensure that data values are regressed into the mean value and controlled to reduce the possibility of errors by training, tuning, and evaluating our model.\r\n",
        "\r\n",
        "By performing model optimization, we found that reducing the alpha values decreases the model complexity and prevents the model from potentially overfitting."
      ]
    },
    {
      "cell_type": "markdown",
      "metadata": {
        "id": "1Cf-Vupa-viK"
      },
      "source": [
        "### 3.6. Model Testing"
      ]
    },
    {
      "cell_type": "code",
      "metadata": {
        "id": "LOIGuPL_t2y2"
      },
      "source": [
        "def test_model(model_info, X_train, X_test, y_train, y_test):\r\n",
        "  alpha = model_info['param']['alpha']\r\n",
        "  model = Ridge().set_params(alpha=alpha).fit(X=X_train, y=y_train)\r\n",
        "  print(\"\\tTuned alpha value:\", alpha)\r\n",
        "  print(\"\\tR-squared value for training set: \", r2_score(y_train, model.predict(X_train)))\r\n",
        "  print(\"\\tR-squared value for testing set: \", r2_score(y_test, model.predict(X_test)))"
      ],
      "execution_count": null,
      "outputs": []
    },
    {
      "cell_type": "code",
      "metadata": {
        "colab": {
          "base_uri": "https://localhost:8080/"
        },
        "id": "ej2HKtqJwfYO",
        "outputId": "d8e5688f-6c1e-4e56-b1da-43fca70c99bd"
      },
      "source": [
        "print(\"All features without weather: \")\r\n",
        "test_model(all_without_weather, X_train_scaled, X_test_scaled, y_train, y_test)\r\n",
        "print(\"All features with weather: \")\r\n",
        "test_model(all_with_weather, X_train_weather_scaled, X_test_weather_scaled, y_train_weather, y_test_weather)\r\n",
        "print(\"Selected features without weather: \")\r\n",
        "test_model(selected_without_weather, X_train_selected, X_test_selected, y_train, y_test)\r\n",
        "print(\"Selected features with weather: \")\r\n",
        "test_model(selected_with_weather, X_train_selected_weather, X_test_selected_weather, y_train_selected_weather, y_test_selected_weather)"
      ],
      "execution_count": null,
      "outputs": [
        {
          "output_type": "stream",
          "text": [
            "All features without weather: \n",
            "\tTuned alpha value: 0.017096246387845238\n",
            "\tR-squared value for training set:  0.9999999908464711\n",
            "\tR-squared value for testing set:  0.9999999906947361\n",
            "All features with weather: \n",
            "\tTuned alpha value: 0.017096246387845238\n",
            "\tR-squared value for training set:  0.9999999906492127\n",
            "\tR-squared value for testing set:  0.9999999904278032\n",
            "Selected features without weather: \n",
            "\tTuned alpha value: 0.017096246387845238\n",
            "\tR-squared value for training set:  0.9999999930409564\n",
            "\tR-squared value for testing set:  0.9999999930342569\n",
            "Selected features with weather: \n",
            "\tTuned alpha value: 0.017096246387845238\n",
            "\tR-squared value for training set:  0.9999999928079811\n",
            "\tR-squared value for testing set:  0.9999999926675692\n"
          ],
          "name": "stdout"
        }
      ]
    },
    {
      "cell_type": "markdown",
      "metadata": {
        "id": "VkKI9zHl-viK"
      },
      "source": [
        "<a id=\"4\"></a>\n",
        "<hr style=\"height:2px; border:none; color:black; background-color:black;\">"
      ]
    },
    {
      "cell_type": "markdown",
      "metadata": {
        "id": "f5gd6jb8-viK"
      },
      "source": [
        "## 4. DISCUSSION"
      ]
    },
    {
      "cell_type": "markdown",
      "metadata": {
        "id": "jCUTewOazCE0"
      },
      "source": [
        "### 4.1. Interpretation\r\n"
      ]
    },
    {
      "cell_type": "markdown",
      "metadata": {
        "id": "no7A_jaqzo2O"
      },
      "source": [
        "#### Summary\r\n",
        "In this report, we examined the relationships between bikesharing variables, including time of day and date, temperature, season, and type of user, and identified its affect on the number of total users at a given station on a particular day. We aggregated data from Boston's Bluebikes Program as well as a weather dataset for 2020, cleaned and visualized data to analyze potential trends between our identified feature variables and target. \r\n",
        "\r\n",
        "In conducting this project, we identified several hypotheses that we wanted to prove, which centered around our research question of whether the frequency of bike-sharers at a given time is affected by weather changes. We used data science techniques to extract our features, scale and preprocess our data to prepare it for rigorous analysis using machine learning through the testing, training, and validation framework. We identified four machine learning algorithms in order to train a model to analyze patterns within the data.\r\n",
        "\r\n",
        "Once we established our machine learning model framework, we analyzed the model's performance on our dataset, and used hyperparameterized tuning to calculate the optimal model setup. With this data, we were able to analyze our findings and determine that our hypothesis was, in fact, strongly supported by our data, and that our techniques were confirmed with high confidence."
      ]
    },
    {
      "cell_type": "markdown",
      "metadata": {
        "id": "4AqKP8USzF8P"
      },
      "source": [
        "#### Algorithms\r\n",
        "We compared and contrasted four different types of regression algorithms: Multiple Linear, Ridge, Lasso, and Support Vector Machine. Through our project, we determined that both Multiple Linear and Ridge showed the highest performance, as they were able to achieve an exact fit for all four cases: all features with and without weather, and selected features with and without weather. \r\n",
        "\r\n",
        "For our predictive model, we believe that both Multiple Linear and Ridge regression will provide highly accurate results for our research purposes to determine the total number of bikeshare users on a given day at a specific hour. In our hyperparameterized tuning, we took a closer inspection of the Ridge algorithm and determined that, after finding the best alpha value, the R-squared values calculated have a correlation strength of 99.99%, and show a high performance for our datasets.\r\n",
        "\r\n",
        "All of the algorithms we performed found significance in the correlation of our feature variables and target. Thus, without a doubt, we have identified a strong correlation within our data.\r\n",
        "\r\n"
      ]
    },
    {
      "cell_type": "markdown",
      "metadata": {
        "id": "iJt9Zci42MXU"
      },
      "source": [
        "#### Next Steps\r\n",
        "This research project encourages future studies for more applications in improving bikesharing programs in Boston and other similar cities. By applying machine learning to existing data, researchers will be able to better understand human behavior within cities and how people interact with public transportation programs. In an effort to further support the environment by reducing traffic congestion and pollution, applying such research knowledge into expanding these programs and encouraging more people to share public bikes through the year can benefit our communities.\r\n",
        "\r\n",
        "Future applications beyond this research project include using predictive behavior to determine which stations would be most likely to be empty or full or understanding how certain demographics engage with bike-sharing programs. Data analysis could also be expanded to include crime data or traffic incidents to better inform bike-sharers of potential danger zones."
      ]
    },
    {
      "cell_type": "markdown",
      "metadata": {
        "id": "b9sDIygE-viK"
      },
      "source": [
        "<a id=\"5\"></a>\n",
        "<hr style=\"height:2px; border:none; color:black; background-color:black;\">"
      ]
    },
    {
      "cell_type": "markdown",
      "metadata": {
        "id": "Yo2UeUB0-viK"
      },
      "source": [
        "### CONTRIBUTIONS"
      ]
    },
    {
      "cell_type": "markdown",
      "metadata": {
        "id": "9nsA6Dpf581U"
      },
      "source": [
        "Contribution of each team member was divided among the sections as follows,\r\n",
        "\r\n",
        "**Executive Summary**: Nicole\\\r\n",
        "**Section 1 - Introduction**: Vera\\\r\n",
        "**Section 2 - Method**: Vera\\\r\n",
        "**Section 3 - Results**:\r\n",
        "  - **3.1 - 3.2**: Vera\r\n",
        "  - **3.3 - 3.6**: Nicole\r\n",
        "\r\n",
        "**Section 4 - Discussion**: Nicole"
      ]
    }
  ]
}